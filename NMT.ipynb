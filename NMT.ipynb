{
 "cells": [
  {
   "cell_type": "markdown",
   "metadata": {},
   "source": [
    "## Neural Machine Translation using Google's Encoder Decoder Architecture"
   ]
  },
  {
   "cell_type": "markdown",
   "metadata": {},
   "source": [
    "### Importing all the dependencies"
   ]
  },
  {
   "cell_type": "code",
   "execution_count": 1,
   "metadata": {
    "ExecuteTime": {
     "end_time": "2024-04-02T06:28:10.570801Z",
     "start_time": "2024-04-02T06:28:08.285068Z"
    }
   },
   "outputs": [],
   "source": [
    "import tensorflow as tf\n",
    "from tensorflow.keras import layers\n",
    "import pandas as pd\n",
    "import numpy as np\n",
    "import tarfile\n",
    "import os\n",
    "import random\n",
    "import matplotlib.pyplot as plt"
   ]
  },
  {
   "cell_type": "markdown",
   "metadata": {},
   "source": [
    "### Getting one with the dataset"
   ]
  },
  {
   "cell_type": "code",
   "execution_count": 2,
   "metadata": {
    "ExecuteTime": {
     "end_time": "2024-04-02T06:28:10.574116Z",
     "start_time": "2024-04-02T06:28:10.571936Z"
    }
   },
   "outputs": [],
   "source": [
    "# Extracting all the files from the tar file\n",
    "if not os.path.exists('/Users/klsharma22/Desktop/EncoderDecoderExp/wiki'):\n",
    "    tar_ref = tarfile.TarFile('/Users/klsharma22/Desktop/EncoderDecoderExp/wiki-titles.tar')\n",
    "    tar_ref.extractall()\n",
    "    print('Files extracted')"
   ]
  },
  {
   "cell_type": "code",
   "execution_count": 3,
   "metadata": {
    "ExecuteTime": {
     "end_time": "2024-04-02T06:28:10.582969Z",
     "start_time": "2024-04-02T06:28:10.574638Z"
    }
   },
   "outputs": [
    {
     "data": {
      "text/plain": "32863"
     },
     "execution_count": 3,
     "metadata": {},
     "output_type": "execute_result"
    }
   ],
   "source": [
    "# Extracting data from the file\n",
    "with open('/Users/klsharma22/Desktop/EncoderDecoderExp/wiki/hi-en/wiki-titles.hi-en', 'r') as f:\n",
    "    lines = f.readlines()\n",
    "\n",
    "len(lines)"
   ]
  },
  {
   "cell_type": "code",
   "execution_count": 4,
   "metadata": {
    "ExecuteTime": {
     "end_time": "2024-04-02T06:28:10.596019Z",
     "start_time": "2024-04-02T06:28:10.583637Z"
    }
   },
   "outputs": [
    {
     "data": {
      "text/plain": "(32863, 32863)"
     },
     "execution_count": 4,
     "metadata": {},
     "output_type": "execute_result"
    }
   ],
   "source": [
    "# Separating english from hindi\n",
    "hin_sentences = [line.split('|||')[0] for line in lines]\n",
    "eng_sentences = [line.split('|||')[1][:-1] for line in lines]\n",
    "len(hin_sentences), len(eng_sentences)"
   ]
  },
  {
   "cell_type": "markdown",
   "metadata": {},
   "source": [
    "### Visualising the dataset we have"
   ]
  },
  {
   "cell_type": "code",
   "execution_count": 5,
   "metadata": {
    "ExecuteTime": {
     "end_time": "2024-04-02T06:28:10.599718Z",
     "start_time": "2024-04-02T06:28:10.597616Z"
    }
   },
   "outputs": [
    {
     "name": "stdout",
     "output_type": "stream",
     "text": [
      "English sentence:  1226\n",
      "Hindi sentce: १२२६ \n",
      "--------------------\n",
      "\n",
      "English sentence:  Mechanised Infantry Regiment\n",
      "Hindi sentce: मेकनाईजड इन्फ़ेन्ट्री रेजीमेंट \n",
      "--------------------\n",
      "\n",
      "English sentence:  Infosys\n",
      "Hindi sentce: इंफोसिस \n",
      "--------------------\n",
      "\n",
      "English sentence:  1986\n",
      "Hindi sentce: १९८६ \n",
      "--------------------\n",
      "\n",
      "English sentence:  Sanskrit grammar\n",
      "Hindi sentce: संस्कृत व्याकरण \n",
      "--------------------\n"
     ]
    }
   ],
   "source": [
    "random_idx = random.choices(range(len(hin_sentences)), k= 5)\n",
    "for idx in random_idx:\n",
    "    print(f\"English sentence: {eng_sentences[idx]}\")\n",
    "    print(f\"Hindi sentce: {hin_sentences[idx]}\")\n",
    "    print('--------------------\\n')"
   ]
  },
  {
   "cell_type": "code",
   "outputs": [],
   "source": [],
   "metadata": {
    "collapsed": false,
    "ExecuteTime": {
     "end_time": "2024-04-02T06:28:10.601516Z",
     "start_time": "2024-04-02T06:28:10.600373Z"
    }
   },
   "execution_count": 5
  },
  {
   "cell_type": "code",
   "execution_count": 6,
   "metadata": {
    "ExecuteTime": {
     "end_time": "2024-04-02T06:28:10.612716Z",
     "start_time": "2024-04-02T06:28:10.602020Z"
    }
   },
   "outputs": [
    {
     "data": {
      "text/plain": "(32863, 32863)"
     },
     "execution_count": 6,
     "metadata": {},
     "output_type": "execute_result"
    }
   ],
   "source": [
    "# Lets look at the distibution of number of words per sentence\n",
    "eng_words_sentences = [len(sentence.split()) for sentence in eng_sentences]\n",
    "hin_word_sentences = [len(sentence.split()) for sentence in hin_sentences]\n",
    "\n",
    "len(eng_words_sentences), len(hin_word_sentences)"
   ]
  },
  {
   "cell_type": "code",
   "execution_count": 7,
   "metadata": {
    "ExecuteTime": {
     "end_time": "2024-04-02T06:28:10.625561Z",
     "start_time": "2024-04-02T06:28:10.613603Z"
    }
   },
   "outputs": [
    {
     "data": {
      "text/plain": "28853"
     },
     "execution_count": 7,
     "metadata": {},
     "output_type": "execute_result"
    }
   ],
   "source": [
    "# Create vocabulary set for both the language\n",
    "eng_vocab = set()\n",
    "\n",
    "for line in eng_sentences:\n",
    "    for word in line.split():\n",
    "        eng_vocab.add(word)\n",
    "\n",
    "eng_vocab.add('<SOS>')\n",
    "eng_vocab.add('<EOS>')\n",
    "len(eng_vocab)"
   ]
  },
  {
   "cell_type": "code",
   "outputs": [],
   "source": [
    "english_dictionary = pd.DataFrame(eng_vocab)"
   ],
   "metadata": {
    "collapsed": false,
    "ExecuteTime": {
     "end_time": "2024-04-02T06:28:10.629149Z",
     "start_time": "2024-04-02T06:28:10.626197Z"
    }
   },
   "execution_count": 8
  },
  {
   "cell_type": "code",
   "outputs": [
    {
     "data": {
      "text/plain": "0    28853\ndtype: int64"
     },
     "execution_count": 9,
     "metadata": {},
     "output_type": "execute_result"
    }
   ],
   "source": [
    "# Cross verifying the values\n",
    "english_dictionary.nunique()"
   ],
   "metadata": {
    "collapsed": false,
    "ExecuteTime": {
     "end_time": "2024-04-02T06:28:10.634488Z",
     "start_time": "2024-04-02T06:28:10.629888Z"
    }
   },
   "execution_count": 9
  },
  {
   "cell_type": "code",
   "outputs": [
    {
     "data": {
      "text/plain": "29073"
     },
     "execution_count": 10,
     "metadata": {},
     "output_type": "execute_result"
    }
   ],
   "source": [
    "# Storing vocab value of hindi same as english\n",
    "hin_vocab = set()\n",
    "\n",
    "for line in hin_sentences:\n",
    "    for word in line.split():\n",
    "        hin_vocab.add(word)\n",
    "\n",
    "len(hin_vocab)"
   ],
   "metadata": {
    "collapsed": false,
    "ExecuteTime": {
     "end_time": "2024-04-02T06:28:10.649199Z",
     "start_time": "2024-04-02T06:28:10.635153Z"
    }
   },
   "execution_count": 10
  },
  {
   "cell_type": "code",
   "outputs": [
    {
     "data": {
      "text/plain": "0    29073\ndtype: int64"
     },
     "execution_count": 11,
     "metadata": {},
     "output_type": "execute_result"
    }
   ],
   "source": [
    "# Cross verifying\n",
    "hindi_dictionary = pd.DataFrame(hin_vocab)\n",
    "hindi_dictionary.nunique()"
   ],
   "metadata": {
    "collapsed": false,
    "ExecuteTime": {
     "end_time": "2024-04-02T06:28:10.657094Z",
     "start_time": "2024-04-02T06:28:10.649812Z"
    }
   },
   "execution_count": 11
  },
  {
   "cell_type": "code",
   "execution_count": 12,
   "metadata": {
    "ExecuteTime": {
     "end_time": "2024-04-02T06:28:10.873534Z",
     "start_time": "2024-04-02T06:28:10.658121Z"
    }
   },
   "outputs": [
    {
     "data": {
      "text/plain": "(array([2.4237e+04, 5.2690e+03, 2.4600e+03, 3.4200e+02, 2.4100e+02,\n        2.9000e+02, 1.1000e+01, 1.1000e+01, 1.0000e+00, 1.0000e+00]),\n array([ 1. ,  2.4,  3.8,  5.2,  6.6,  8. ,  9.4, 10.8, 12.2, 13.6, 15. ]),\n <BarContainer object of 10 artists>)"
     },
     "execution_count": 12,
     "metadata": {},
     "output_type": "execute_result"
    },
    {
     "data": {
      "text/plain": "<Figure size 640x480 with 2 Axes>",
      "image/png": "[encoded data removed]"
     },
     "metadata": {},
     "output_type": "display_data"
    }
   ],
   "source": [
    "# Plotting number of words distribution\n",
    "plt.subplot(1, 2, 1)\n",
    "plt.hist(eng_words_sentences)\n",
    "\n",
    "plt.subplot(1, 2, 2)\n",
    "plt.hist(hin_word_sentences)"
   ]
  },
  {
   "cell_type": "code",
   "execution_count": 13,
   "metadata": {
    "ExecuteTime": {
     "end_time": "2024-04-02T06:28:10.894879Z",
     "start_time": "2024-04-02T06:28:10.883676Z"
    }
   },
   "outputs": [
    {
     "data": {
      "text/plain": "(1.0, 1.0)"
     },
     "execution_count": 13,
     "metadata": {},
     "output_type": "execute_result"
    }
   ],
   "source": [
    "# Let's cover the maximum number of data\n",
    "max_len_eng = np.percentile(eng_words_sentences, 0.99)\n",
    "max_len_hin = np.percentile(hin_word_sentences, 0.99)\n",
    "max_len_eng, max_len_hin"
   ]
  },
  {
   "cell_type": "markdown",
   "source": [
    "## Preprocess the data"
   ],
   "metadata": {
    "collapsed": false
   }
  },
  {
   "cell_type": "code",
   "outputs": [],
   "source": [
    "def preprocess_sentence(sentences: list):\n",
    "    return ['<SOS> ' + sentence.strip() + ' <EOS>' for sentence in sentences]"
   ],
   "metadata": {
    "collapsed": false,
    "ExecuteTime": {
     "end_time": "2024-04-02T06:28:10.900293Z",
     "start_time": "2024-04-02T06:28:10.897174Z"
    }
   },
   "execution_count": 14
  },
  {
   "cell_type": "code",
   "outputs": [],
   "source": [
    "eng_sentences_preprocessed = preprocess_sentence(eng_sentences)\n",
    "hin_sentences_preprocessed = preprocess_sentence(hin_sentences)"
   ],
   "metadata": {
    "collapsed": false,
    "ExecuteTime": {
     "end_time": "2024-04-02T06:28:10.911348Z",
     "start_time": "2024-04-02T06:28:10.901949Z"
    }
   },
   "execution_count": 15
  },
  {
   "cell_type": "code",
   "outputs": [
    {
     "name": "stdout",
     "output_type": "stream",
     "text": [
      "<SOS> Hemu Kalani <EOS>\n",
      "<SOS> हेमू कालाणी <EOS>\n"
     ]
    }
   ],
   "source": [
    "random_idx = random.randint(0, len(eng_sentences_preprocessed) - 1)\n",
    "print(eng_sentences_preprocessed[random_idx])\n",
    "print(hin_sentences_preprocessed[random_idx])"
   ],
   "metadata": {
    "collapsed": false,
    "ExecuteTime": {
     "end_time": "2024-04-02T06:28:10.916037Z",
     "start_time": "2024-04-02T06:28:10.912941Z"
    }
   },
   "execution_count": 16
  },
  {
   "cell_type": "markdown",
   "metadata": {},
   "source": [
    "### Create Encoder class"
   ]
  },
  {
   "cell_type": "code",
   "execution_count": 156,
   "metadata": {
    "ExecuteTime": {
     "end_time": "2024-04-02T09:37:04.205459Z",
     "start_time": "2024-04-02T09:37:04.198244Z"
    }
   },
   "outputs": [],
   "source": [
    "class Encoder(tf.keras.layers.Layer):\n",
    "\n",
    "    def __init__(self, vocab, embedding_size, units, encoding_layers, **kwargs):\n",
    "        # initialisation of the variables\n",
    "        super().__init__(**kwargs)\n",
    "        self.vocab = vocab\n",
    "        self.units = units\n",
    "        self.encoding_layers = encoding_layers\n",
    "        self.embedding_size = embedding_size\n",
    "\n",
    "        #initialisation of the layers required\n",
    "        # self.input_layer = layers.Input(shape= (None, ), dtype= tf.int32)\n",
    "        self.embedding = layers.Embedding(input_dim= self.vocab,\n",
    "                                          output_dim= self.embedding_size,name= 'encoder_embedding_layer')\n",
    "        self.lstm_init_units = 2 * (self.embedding_size + self.units)\n",
    "        self.lstm_layers_recurrent = []\n",
    "        self.lstm_layers_recurrent.append(layers.LSTM(self.lstm_init_units, return_sequences=True, name= 'lst_layers_recurrent_0'))\n",
    "        self.lstm_units = self.lstm_init_units\n",
    "        for _ in range(self.encoding_layers - 3):\n",
    "            self.lstm_units += (self.embedding_size + self.units)\n",
    "            self.lstm_layers_recurrent.append(layers.LSTM(self.lstm_units, return_sequences=True, name=f'lstm_layers_recurrent_{_ + 1}'))\n",
    "        self.lstm_layer_non_recurrent = layers.LSTM(self.units, return_sequences=False, name= 'lstm_layer_non_recurrent')\n",
    "        self.bilst_layer = layers.Bidirectional(layers.LSTM(self.units // 2, return_sequences=True), name= 'bilst_layer')\n",
    "        self.concatenate_layer = layers.Concatenate()\n",
    "        \n",
    "\n",
    "    def call(self, inputs):\n",
    "        x = self.embedding(inputs)\n",
    "        print(self.embedding.name, x.shape)\n",
    "        bilstm_output = self.bilst_layer(x)\n",
    "        print(self.bilst_layer.name, bilstm_output.shape)\n",
    "        x = self.concatenate_layer([bilstm_output, x])\n",
    "        print(self.concatenate_layer.name, x.shape)\n",
    "        for i in range(self.encoding_layers - 1):\n",
    "            lstm_layer_output = self.lstm_layers_recurrent[i](x)\n",
    "            print(self.lstm_layers_recurrent[i].name, lstm_layer_output.shape)\n",
    "            x = self.concatenate_layer([lstm_layer_output, x])\n",
    "            print(self.concatenate_layer.name, x.shape)\n",
    "        x = self.lstm_layer_non_recurrent(x)\n",
    "        print(self.lstm_layer_non_recurrent.name, x.shape)\n",
    "        \n",
    "        return x\n"
   ]
  },
  {
   "cell_type": "code",
   "execution_count": 25,
   "metadata": {
    "ExecuteTime": {
     "end_time": "2024-04-02T06:34:08.253584Z",
     "start_time": "2024-04-02T06:34:08.236171Z"
    }
   },
   "outputs": [
    {
     "data": {
      "text/plain": "(26290, 6573, 26290, 6573)"
     },
     "execution_count": 25,
     "metadata": {},
     "output_type": "execute_result"
    }
   ],
   "source": [
    "from sklearn.model_selection import train_test_split\n",
    "X_train, X_test, y_train, y_test = train_test_split(eng_sentences_preprocessed, hin_sentences_preprocessed, test_size= 0.2,\n",
    "                                                    random_state= 42)\n",
    "len(X_train), len(X_test), len(y_train), len(y_test)"
   ]
  },
  {
   "cell_type": "code",
   "execution_count": 26,
   "metadata": {
    "ExecuteTime": {
     "end_time": "2024-04-02T06:34:09.887128Z",
     "start_time": "2024-04-02T06:34:09.821817Z"
    }
   },
   "outputs": [],
   "source": [
    "# Creating a text vectorization for the source language\n",
    "eng_vectorizer = layers.TextVectorization(max_tokens= len(eng_vocab),\n",
    "                                          pad_to_max_tokens= True)\n",
    "\n",
    "eng_vectorizer.adapt(X_train)\n",
    "\n"
   ]
  },
  {
   "cell_type": "code",
   "execution_count": 27,
   "metadata": {
    "ExecuteTime": {
     "end_time": "2024-04-02T06:34:11.828664Z",
     "start_time": "2024-04-02T06:34:11.820931Z"
    }
   },
   "outputs": [
    {
     "name": "stdout",
     "output_type": "stream",
     "text": [
      "Original text: <SOS> Mobile number portability <EOS>\n",
      "Vectorized text: [    2   503    64 10603     3]\n"
     ]
    }
   ],
   "source": [
    "# A sample action of our text vectorization\n",
    "random_text = random.choice(X_train)\n",
    "print(f\"Original text: {random_text}\")\n",
    "print(f\"Vectorized text: {eng_vectorizer(random_text)}\")"
   ]
  },
  {
   "cell_type": "code",
   "outputs": [
    {
     "data": {
      "text/plain": "{'name': 'encoder_layer',\n 'vocab': 28853,\n 'embedding_size': 128,\n 'units': 512,\n 'encoding_layers': 8,\n 'trainable': True,\n 'dtype': 'float32'}"
     },
     "execution_count": 157,
     "metadata": {},
     "output_type": "execute_result"
    }
   ],
   "source": [
    "# Creating an instance of our encoder layer\n",
    "encoder_layer = Encoder(vocab= len(eng_vocab),\n",
    "                        embedding_size= 128,\n",
    "                        units= 512,\n",
    "                        encoding_layers= 8,\n",
    "                        name= 'encoder_layer')\n",
    "\n",
    "encoder_layer.get_config()"
   ],
   "metadata": {
    "collapsed": false,
    "ExecuteTime": {
     "end_time": "2024-04-02T09:37:08.358016Z",
     "start_time": "2024-04-02T09:37:08.343379Z"
    }
   },
   "execution_count": 157
  },
  {
   "cell_type": "code",
   "outputs": [
    {
     "name": "stdout",
     "output_type": "stream",
     "text": [
      "4\n",
      "(4,)\n"
     ]
    }
   ],
   "source": [
    "print(len(X_train[0].split()))\n",
    "print(eng_vectorizer(X_train[0]).shape)"
   ],
   "metadata": {
    "collapsed": false,
    "ExecuteTime": {
     "end_time": "2024-04-02T08:52:06.461651Z",
     "start_time": "2024-04-02T08:52:06.454077Z"
    }
   },
   "execution_count": 104
  },
  {
   "cell_type": "code",
   "outputs": [
    {
     "name": "stdout",
     "output_type": "stream",
     "text": [
      "encoder_embedding_layer (1, 4, 128)\n",
      "bilst_layer (1, 4, 512)\n",
      "concatenate_28 (1, 4, 640)\n",
      "lst_layers_recurrent_0 (1, 4, 1280)\n",
      "concatenate_28 (1, 4, 1920)\n",
      "lstm_layers_recurrent_1 (1, 4, 1920)\n",
      "concatenate_28 (1, 4, 3840)\n",
      "lstm_layers_recurrent_2 (1, 4, 2560)\n",
      "concatenate_28 (1, 4, 6400)\n",
      "lstm_layers_recurrent_3 (1, 4, 3200)\n",
      "concatenate_28 (1, 4, 9600)\n",
      "lstm_layers_recurrent_4 (1, 4, 3840)\n",
      "concatenate_28 (1, 4, 13440)\n",
      "lstm_layers_recurrent_5 (1, 4, 4480)\n",
      "concatenate_28 (1, 4, 17920)\n",
      "encoder_embedding_layer (1, 4, 128)\n",
      "bilst_layer (1, 4, 512)\n",
      "concatenate_28 (1, 4, 640)\n",
      "lst_layers_recurrent_0 (1, 4, 1280)\n",
      "concatenate_28 (1, 4, 1920)\n",
      "lstm_layers_recurrent_1 (1, 4, 1920)\n",
      "concatenate_28 (1, 4, 3840)\n",
      "lstm_layers_recurrent_2 (1, 4, 2560)\n",
      "concatenate_28 (1, 4, 6400)\n",
      "lstm_layers_recurrent_3 (1, 4, 3200)\n",
      "concatenate_28 (1, 4, 9600)\n",
      "lstm_layers_recurrent_4 (1, 4, 3840)\n",
      "concatenate_28 (1, 4, 13440)\n"
     ]
    }
   ],
   "source": [
    "encoder_layer(eng_vectorizer(X_train[:1])) "
   ],
   "metadata": {
    "collapsed": false,
    "is_executing": true,
    "ExecuteTime": {
     "start_time": "2024-04-02T09:37:10.578121Z"
    }
   },
   "execution_count": null
  },
  {
   "cell_type": "code",
   "outputs": [],
   "source": [
    "train_data = tf.data.Dataset.from_tensor_slices((X_train, eng_vectorizer(X_train))).batch(128).prefetch(tf.data.AUTOTUNE)\n",
    "valid_data = tf.data.Dataset.from_tensor_slices((X_test, eng_vectorizer(X_test))).batch(128).prefetch(tf.data.AUTOTUNE)"
   ],
   "metadata": {
    "collapsed": false,
    "is_executing": true
   }
  },
  {
   "cell_type": "code",
   "outputs": [],
   "source": [
    "model = tf.keras.Sequential([\n",
    "    encoder_layer,\n",
    "    tf.keras.layers.Dense(5, activation= 'softmax', name= 'output_layer')\n",
    "])\n",
    "\n",
    "model.build()"
   ],
   "metadata": {
    "collapsed": false,
    "ExecuteTime": {
     "end_time": "2024-04-02T09:23:23.678675Z",
     "start_time": "2024-04-02T09:23:23.673987Z"
    }
   },
   "execution_count": 144
  },
  {
   "cell_type": "code",
   "outputs": [
    {
     "data": {
      "image/png": "[encoded data removed]",
      "text/plain": "<IPython.core.display.Image object>"
     },
     "execution_count": 145,
     "metadata": {},
     "output_type": "execute_result"
    }
   ],
   "source": [
    "tf.keras.utils.plot_model(model, show_shapes=True)"
   ],
   "metadata": {
    "collapsed": false,
    "ExecuteTime": {
     "end_time": "2024-04-02T09:23:25.864154Z",
     "start_time": "2024-04-02T09:23:25.442153Z"
    }
   },
   "execution_count": 145
  },
  {
   "cell_type": "code",
   "outputs": [
    {
     "ename": "AttributeError",
     "evalue": "'Encoder' object has no attribute 'layers'",
     "output_type": "error",
     "traceback": [
      "\u001B[0;31m---------------------------------------------------------------------------\u001B[0m",
      "\u001B[0;31mAttributeError\u001B[0m                            Traceback (most recent call last)",
      "Cell \u001B[0;32mIn[146], line 1\u001B[0m\n\u001B[0;32m----> 1\u001B[0m \u001B[38;5;28;01mfor\u001B[39;00m layer \u001B[38;5;129;01min\u001B[39;00m \u001B[43mmodel\u001B[49m\u001B[38;5;241;43m.\u001B[39;49m\u001B[43mlayers\u001B[49m\u001B[43m[\u001B[49m\u001B[38;5;241;43m0\u001B[39;49m\u001B[43m]\u001B[49m\u001B[38;5;241;43m.\u001B[39;49m\u001B[43mlayers\u001B[49m:\n\u001B[1;32m      2\u001B[0m     \u001B[38;5;28mprint\u001B[39m(layer\u001B[38;5;241m.\u001B[39mname)\n",
      "\u001B[0;31mAttributeError\u001B[0m: 'Encoder' object has no attribute 'layers'"
     ]
    }
   ],
   "source": [
    "for layer in model.layers[0].layers:\n",
    "    print(layer.name)"
   ],
   "metadata": {
    "collapsed": false,
    "ExecuteTime": {
     "end_time": "2024-04-02T09:23:29.731751Z",
     "start_time": "2024-04-02T09:23:29.710912Z"
    }
   },
   "execution_count": 146
  }
 ],
 "metadata": {
  "kernelspec": {
   "display_name": "ml",
   "language": "python",
   "name": "python3"
  },
  "language_info": {
   "codemirror_mode": {
    "name": "ipython",
    "version": 3
   },
   "file_extension": ".py",
   "mimetype": "text/x-python",
   "name": "python",
   "nbconvert_exporter": "python",
   "pygments_lexer": "ipython3",
   "version": "3.10.13"
  }
 },
 "nbformat": 4,
 "nbformat_minor": 2
}
