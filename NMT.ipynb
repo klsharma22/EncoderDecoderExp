{
 "cells": [
  {
   "cell_type": "markdown",
   "metadata": {},
   "source": [
    "## Neural Machine Translation using Google's Encoder Decoder Architecture"
   ]
  },
  {
   "cell_type": "markdown",
   "metadata": {},
   "source": [
    "### Importing all the dependencies"
   ]
  },
  {
   "cell_type": "code",
   "execution_count": 10,
   "metadata": {},
   "outputs": [],
   "source": [
    "import tensorflow as tf\n",
    "from tensorflow.keras import layers\n",
    "import pandas as pd\n",
    "import numpy as np\n",
    "import tarfile\n",
    "import os\n",
    "import random\n",
    "import matplotlib.pyplot as plt"
   ]
  },
  {
   "cell_type": "markdown",
   "metadata": {},
   "source": [
    "### Getting one with the dataset"
   ]
  },
  {
   "cell_type": "code",
   "execution_count": 3,
   "metadata": {},
   "outputs": [],
   "source": [
    "# Extracting all the files from the tar file\n",
    "if not os.path.exists('/Users/klsharma22/Desktop/EncoderDecoderExp/wiki'):\n",
    "    tar_ref = tarfile.TarFile('/Users/klsharma22/Desktop/EncoderDecoderExp/wiki-titles.tar')\n",
    "    tar_ref.extractall()\n",
    "    print('Files extracted')"
   ]
  },
  {
   "cell_type": "code",
   "execution_count": 4,
   "metadata": {},
   "outputs": [
    {
     "data": {
      "text/plain": [
       "32863"
      ]
     },
     "execution_count": 4,
     "metadata": {},
     "output_type": "execute_result"
    }
   ],
   "source": [
    "# Extracting data from the file\n",
    "with open('/Users/klsharma22/Desktop/EncoderDecoderExp/wiki/hi-en/wiki-titles.hi-en', 'r') as f:\n",
    "    lines = f.readlines()\n",
    "\n",
    "len(lines)"
   ]
  },
  {
   "cell_type": "code",
   "execution_count": 5,
   "metadata": {},
   "outputs": [
    {
     "data": {
      "text/plain": [
       "(32863, 32863)"
      ]
     },
     "execution_count": 5,
     "metadata": {},
     "output_type": "execute_result"
    }
   ],
   "source": [
    "# Separating english from hindi\n",
    "hin_sentences = [line.split('|||')[0] for line in lines]\n",
    "eng_sentences = [line.split('|||')[1][:-1] for line in lines]\n",
    "len(hin_sentences), len(eng_sentences)"
   ]
  },
  {
   "cell_type": "markdown",
   "metadata": {},
   "source": [
    "### Visualising the dataset we have"
   ]
  },
  {
   "cell_type": "code",
   "execution_count": 6,
   "metadata": {},
   "outputs": [
    {
     "name": "stdout",
     "output_type": "stream",
     "text": [
      "English sentence:  Erg \n",
      "Hindi sentce: अर्ग \n",
      "--------------------\n",
      "\n",
      "English sentence:  498 BC\n",
      "Hindi sentce: ४९८ ईसा पूर्व \n",
      "--------------------\n",
      "\n",
      "English sentence:  Irkutsk\n",
      "Hindi sentce: इरकुत्स्क \n",
      "--------------------\n",
      "\n",
      "English sentence:  Definition\n",
      "Hindi sentce: परिभाषा \n",
      "--------------------\n",
      "\n",
      "English sentence:  Kan Singh Parihar\n",
      "Hindi sentce: कान सिंह परिहार \n",
      "--------------------\n",
      "\n"
     ]
    }
   ],
   "source": [
    "random_idx = random.choices(range(len(hin_sentences)), k= 5)\n",
    "for idx in random_idx:\n",
    "    print(f\"English sentence: {eng_sentences[idx]}\")\n",
    "    print(f\"Hindi sentce: {hin_sentences[idx]}\")\n",
    "    print('--------------------\\n')"
   ]
  },
  {
   "cell_type": "markdown",
   "metadata": {},
   "source": [
    "### Other visuals for machine translation please refer from the internet"
   ]
  },
  {
   "cell_type": "code",
   "execution_count": 7,
   "metadata": {},
   "outputs": [
    {
     "data": {
      "text/plain": [
       "(32863, 32863)"
      ]
     },
     "execution_count": 7,
     "metadata": {},
     "output_type": "execute_result"
    }
   ],
   "source": [
    "# Lets look at the distibution of number of words per sentence\n",
    "eng_words_sentences = [len(sentence.split()) for sentence in eng_sentences]\n",
    "hin_word_sentences = [len(sentence.split()) for sentence in hin_sentences]\n",
    "\n",
    "len(eng_words_sentences), len(hin_word_sentences)"
   ]
  },
  {
   "cell_type": "code",
   "execution_count": 36,
   "metadata": {},
   "outputs": [
    {
     "data": {
      "text/plain": [
       "28851"
      ]
     },
     "execution_count": 36,
     "metadata": {},
     "output_type": "execute_result"
    }
   ],
   "source": [
    "# Create vocabulary set for both the language\n",
    "eng_vocab = set()\n",
    "\n",
    "for line in eng_sentences:\n",
    "    for word in line.split():\n",
    "        eng_vocab.add(word)\n",
    "\n",
    "len(eng_vocab)"
   ]
  },
  {
   "cell_type": "code",
   "execution_count": 11,
   "metadata": {},
   "outputs": [
    {
     "data": {
      "text/plain": [
       "(array([2.4237e+04, 5.2690e+03, 2.4600e+03, 3.4200e+02, 2.4100e+02,\n",
       "        2.9000e+02, 1.1000e+01, 1.1000e+01, 1.0000e+00, 1.0000e+00]),\n",
       " array([ 1. ,  2.4,  3.8,  5.2,  6.6,  8. ,  9.4, 10.8, 12.2, 13.6, 15. ]),\n",
       " <BarContainer object of 10 artists>)"
      ]
     },
     "execution_count": 11,
     "metadata": {},
     "output_type": "execute_result"
    },
    {
     "data": {
      "image/png": "[encoded data removed]",
      "text/plain": [
       "<Figure size 640x480 with 2 Axes>"
      ]
     },
     "metadata": {},
     "output_type": "display_data"
    }
   ],
   "source": [
    "# Plotting number of words distribution\n",
    "plt.subplot(1, 2, 1)\n",
    "plt.hist(eng_words_sentences)\n",
    "\n",
    "plt.subplot(1, 2, 2)\n",
    "plt.hist(hin_word_sentences)"
   ]
  },
  {
   "cell_type": "code",
   "execution_count": 52,
   "metadata": {},
   "outputs": [
    {
     "data": {
      "text/plain": [
       "(1.0, 1.0)"
      ]
     },
     "execution_count": 52,
     "metadata": {},
     "output_type": "execute_result"
    }
   ],
   "source": [
    "# Let's cover the maximum number of data\n",
    "max_len_eng = np.percentile(eng_words_sentences, 0.99)\n",
    "max_len_hin = np.percentile(hin_word_sentences, 0.99)\n",
    "max_len_eng, max_len_hin"
   ]
  },
  {
   "cell_type": "markdown",
   "metadata": {},
   "source": [
    "### Create Encoder class"
   ]
  },
  {
   "cell_type": "code",
   "execution_count": 21,
   "metadata": {},
   "outputs": [],
   "source": [
    "class Encoder(tf.keras.layers.Layer):\n",
    "\n",
    "    def __init__(self, input_dim, units, **kwargs):\n",
    "        # initialisation of the variables\n",
    "        super.__init__(**kwargs)\n",
    "        self.input_dim = input_dim\n",
    "        self.units = units\n",
    "\n",
    "        #initialisation of the layers required\n",
    "        self.lstm_layer = layers.RNN(layers.LSTMCell(self.units), return_sequences= True)\n",
    "        \n",
    "\n",
    "    def call(self, inputs):\n",
    "        x = layers.Bidirectional(self.lstm_layer)(inputs)\n",
    "        x = layers.Concatenate([inputs, x])\n",
    "        for _ in range(2, 8):\n",
    "            stack_input = x\n",
    "            stack_output = self.lstm_layer(x)\n",
    "            x = layers.Concatenate([stack_input, stack_output])\n",
    "\n",
    "        return x\n"
   ]
  },
  {
   "cell_type": "code",
   "execution_count": 22,
   "metadata": {},
   "outputs": [
    {
     "data": {
      "text/plain": [
       "(26290, 6573, 26290, 6573)"
      ]
     },
     "execution_count": 22,
     "metadata": {},
     "output_type": "execute_result"
    }
   ],
   "source": [
    "from sklearn.model_selection import train_test_split\n",
    "X_train, X_test, y_train, y_test = train_test_split(eng_sentences, hin_sentences, test_size= 0.2,\n",
    "                                                    random_state= 42)\n",
    "len(X_train), len(X_test), len(y_train), len(y_test)"
   ]
  },
  {
   "cell_type": "code",
   "execution_count": 53,
   "metadata": {},
   "outputs": [],
   "source": [
    "text = 'My name is Krish'\n",
    "eng_vectorizer = layers.TextVectorization(max_tokens= 30000,\n",
    "                                          output_sequence_length= int(max_len_eng),\n",
    "                                          pad_to_max_tokens= True, \n",
    "                                          name= 'text_vectorization_layer')\n",
    "\n",
    "eng_vectorizer.adapt(X_train)\n",
    "\n"
   ]
  },
  {
   "cell_type": "code",
   "execution_count": 59,
   "metadata": {},
   "outputs": [
    {
     "name": "stdout",
     "output_type": "stream",
     "text": [
      "Original text:  Gujarat Samachar\n",
      "Vectorized text: [821]\n"
     ]
    }
   ],
   "source": [
    "random_text = random.choice(X_train)\n",
    "print(f\"Original text: {random_text}\")\n",
    "print(f\"Vectorized text: {eng_vectorizer(random_text)}\")"
   ]
  }
 ],
 "metadata": {
  "kernelspec": {
   "display_name": "ml",
   "language": "python",
   "name": "python3"
  },
  "language_info": {
   "codemirror_mode": {
    "name": "ipython",
    "version": 3
   },
   "file_extension": ".py",
   "mimetype": "text/x-python",
   "name": "python",
   "nbconvert_exporter": "python",
   "pygments_lexer": "ipython3",
   "version": "3.10.13"
  }
 },
 "nbformat": 4,
 "nbformat_minor": 2
}
