{
 "cells": [
  {
   "cell_type": "markdown",
   "metadata": {},
   "source": [
    "## Neural Machine Translation using Google's Encoder Decoder Architecture"
   ]
  },
  {
   "cell_type": "markdown",
   "metadata": {},
   "source": [
    "### Importing all the dependencies"
   ]
  },
  {
   "cell_type": "code",
   "execution_count": 1,
   "metadata": {
    "ExecuteTime": {
     "end_time": "2024-04-03T10:11:42.990296Z",
     "start_time": "2024-04-03T10:11:39.980197Z"
    }
   },
   "outputs": [],
   "source": [
    "import tensorflow as tf\n",
    "from tensorflow.keras import layers\n",
    "import pandas as pd\n",
    "import numpy as np\n",
    "import tarfile\n",
    "import os\n",
    "import random\n",
    "import matplotlib.pyplot as plt"
   ]
  },
  {
   "cell_type": "markdown",
   "metadata": {},
   "source": [
    "### Getting one with the dataset"
   ]
  },
  {
   "cell_type": "code",
   "execution_count": 2,
   "metadata": {
    "ExecuteTime": {
     "end_time": "2024-04-03T10:11:42.993383Z",
     "start_time": "2024-04-03T10:11:42.991327Z"
    }
   },
   "outputs": [],
   "source": [
    "# Extracting all the files from the tar file\n",
    "if not os.path.exists('/Users/klsharma22/Desktop/EncoderDecoderExp/wiki'):\n",
    "    tar_ref = tarfile.TarFile('/Users/klsharma22/Desktop/EncoderDecoderExp/wiki-titles.tar')\n",
    "    tar_ref.extractall()\n",
    "    print('Files extracted')"
   ]
  },
  {
   "cell_type": "code",
   "execution_count": 3,
   "metadata": {
    "ExecuteTime": {
     "end_time": "2024-04-03T10:11:43.049020Z",
     "start_time": "2024-04-03T10:11:42.994052Z"
    }
   },
   "outputs": [
    {
     "data": {
      "text/plain": "32863"
     },
     "execution_count": 3,
     "metadata": {},
     "output_type": "execute_result"
    }
   ],
   "source": [
    "# Extracting data from the file\n",
    "with open('/Users/klsharma22/Desktop/EncoderDecoderExp/wiki/hi-en/wiki-titles.hi-en', 'r') as f:\n",
    "    lines = f.readlines()\n",
    "\n",
    "len(lines)"
   ]
  },
  {
   "cell_type": "code",
   "execution_count": 4,
   "metadata": {
    "ExecuteTime": {
     "end_time": "2024-04-03T10:11:43.063116Z",
     "start_time": "2024-04-03T10:11:43.050434Z"
    }
   },
   "outputs": [
    {
     "data": {
      "text/plain": "(32863, 32863)"
     },
     "execution_count": 4,
     "metadata": {},
     "output_type": "execute_result"
    }
   ],
   "source": [
    "# Separating english from hindi\n",
    "hin_sentences = [line.split('|||')[0] for line in lines]\n",
    "eng_sentences = [line.split('|||')[1][:-1] for line in lines]\n",
    "len(hin_sentences), len(eng_sentences)"
   ]
  },
  {
   "cell_type": "markdown",
   "metadata": {},
   "source": [
    "### Visualising the dataset we have"
   ]
  },
  {
   "cell_type": "code",
   "execution_count": 5,
   "metadata": {
    "ExecuteTime": {
     "end_time": "2024-04-03T10:11:43.065850Z",
     "start_time": "2024-04-03T10:11:43.063878Z"
    }
   },
   "outputs": [
    {
     "name": "stdout",
     "output_type": "stream",
     "text": [
      "English sentence:  Cancer\n",
      "Hindi sentce: कर्कट रोग \n",
      "--------------------\n",
      "\n",
      "English sentence:  Northern Sami Wikipedia\n",
      "Hindi sentce: उत्तरी सामी विकिपीडिया \n",
      "--------------------\n",
      "\n",
      "English sentence:  Flag of Saudi Arabia\n",
      "Hindi sentce: सऊदी अरब का ध्वज \n",
      "--------------------\n",
      "\n",
      "English sentence:  Muhammad Iqbal\n",
      "Hindi sentce: मुहम्मद इक़बाल \n",
      "--------------------\n",
      "\n",
      "English sentence:  Beas River\n",
      "Hindi sentce: ब्यास नदी \n",
      "--------------------\n"
     ]
    }
   ],
   "source": [
    "random_idx = random.choices(range(len(hin_sentences)), k= 5)\n",
    "for idx in random_idx:\n",
    "    print(f\"English sentence: {eng_sentences[idx]}\")\n",
    "    print(f\"Hindi sentce: {hin_sentences[idx]}\")\n",
    "    print('--------------------\\n')"
   ]
  },
  {
   "cell_type": "code",
   "outputs": [],
   "source": [],
   "metadata": {
    "collapsed": false,
    "ExecuteTime": {
     "end_time": "2024-04-03T10:11:43.067732Z",
     "start_time": "2024-04-03T10:11:43.066537Z"
    }
   },
   "execution_count": 5
  },
  {
   "cell_type": "code",
   "execution_count": 6,
   "metadata": {
    "ExecuteTime": {
     "end_time": "2024-04-03T10:11:43.078720Z",
     "start_time": "2024-04-03T10:11:43.068337Z"
    }
   },
   "outputs": [
    {
     "data": {
      "text/plain": "(32863, 32863)"
     },
     "execution_count": 6,
     "metadata": {},
     "output_type": "execute_result"
    }
   ],
   "source": [
    "# Lets look at the distibution of number of words per sentence\n",
    "eng_words_sentences = [len(sentence.split()) for sentence in eng_sentences]\n",
    "hin_word_sentences = [len(sentence.split()) for sentence in hin_sentences]\n",
    "\n",
    "len(eng_words_sentences), len(hin_word_sentences)"
   ]
  },
  {
   "cell_type": "code",
   "execution_count": 7,
   "metadata": {
    "ExecuteTime": {
     "end_time": "2024-04-03T10:11:43.093619Z",
     "start_time": "2024-04-03T10:11:43.079404Z"
    }
   },
   "outputs": [
    {
     "data": {
      "text/plain": "28853"
     },
     "execution_count": 7,
     "metadata": {},
     "output_type": "execute_result"
    }
   ],
   "source": [
    "# Create vocabulary set for both the language\n",
    "eng_vocab = set()\n",
    "\n",
    "for line in eng_sentences:\n",
    "    for word in line.split():\n",
    "        eng_vocab.add(word)\n",
    "\n",
    "eng_vocab.add('<SOS>')\n",
    "eng_vocab.add('<EOS>')\n",
    "len(eng_vocab)"
   ]
  },
  {
   "cell_type": "code",
   "outputs": [],
   "source": [
    "english_dictionary = pd.DataFrame(eng_vocab)"
   ],
   "metadata": {
    "collapsed": false,
    "ExecuteTime": {
     "end_time": "2024-04-03T10:11:43.098439Z",
     "start_time": "2024-04-03T10:11:43.094621Z"
    }
   },
   "execution_count": 8
  },
  {
   "cell_type": "code",
   "outputs": [
    {
     "data": {
      "text/plain": "0    28853\ndtype: int64"
     },
     "execution_count": 9,
     "metadata": {},
     "output_type": "execute_result"
    }
   ],
   "source": [
    "# Cross verifying the values\n",
    "english_dictionary.nunique()"
   ],
   "metadata": {
    "collapsed": false,
    "ExecuteTime": {
     "end_time": "2024-04-03T10:11:43.106664Z",
     "start_time": "2024-04-03T10:11:43.100371Z"
    }
   },
   "execution_count": 9
  },
  {
   "cell_type": "code",
   "outputs": [
    {
     "data": {
      "text/plain": "29073"
     },
     "execution_count": 10,
     "metadata": {},
     "output_type": "execute_result"
    }
   ],
   "source": [
    "# Storing vocab value of hindi same as english\n",
    "hin_vocab = set()\n",
    "\n",
    "for line in hin_sentences:\n",
    "    for word in line.split():\n",
    "        hin_vocab.add(word)\n",
    "\n",
    "len(hin_vocab)"
   ],
   "metadata": {
    "collapsed": false,
    "ExecuteTime": {
     "end_time": "2024-04-03T10:11:43.120881Z",
     "start_time": "2024-04-03T10:11:43.107373Z"
    }
   },
   "execution_count": 10
  },
  {
   "cell_type": "code",
   "outputs": [
    {
     "data": {
      "text/plain": "0    29073\ndtype: int64"
     },
     "execution_count": 11,
     "metadata": {},
     "output_type": "execute_result"
    }
   ],
   "source": [
    "# Cross verifying\n",
    "hindi_dictionary = pd.DataFrame(hin_vocab)\n",
    "hindi_dictionary.nunique()"
   ],
   "metadata": {
    "collapsed": false,
    "ExecuteTime": {
     "end_time": "2024-04-03T10:11:43.129572Z",
     "start_time": "2024-04-03T10:11:43.121866Z"
    }
   },
   "execution_count": 11
  },
  {
   "cell_type": "code",
   "execution_count": 12,
   "metadata": {
    "ExecuteTime": {
     "end_time": "2024-04-03T10:11:43.353121Z",
     "start_time": "2024-04-03T10:11:43.130360Z"
    }
   },
   "outputs": [
    {
     "data": {
      "text/plain": "(array([2.4237e+04, 5.2690e+03, 2.4600e+03, 3.4200e+02, 2.4100e+02,\n        2.9000e+02, 1.1000e+01, 1.1000e+01, 1.0000e+00, 1.0000e+00]),\n array([ 1. ,  2.4,  3.8,  5.2,  6.6,  8. ,  9.4, 10.8, 12.2, 13.6, 15. ]),\n <BarContainer object of 10 artists>)"
     },
     "execution_count": 12,
     "metadata": {},
     "output_type": "execute_result"
    },
    {
     "data": {
      "text/plain": "<Figure size 640x480 with 2 Axes>",
      "image/png": "[encoded data removed]"
     },
     "metadata": {},
     "output_type": "display_data"
    }
   ],
   "source": [
    "# Plotting number of words distribution\n",
    "plt.subplot(1, 2, 1)\n",
    "plt.hist(eng_words_sentences)\n",
    "\n",
    "plt.subplot(1, 2, 2)\n",
    "plt.hist(hin_word_sentences)"
   ]
  },
  {
   "cell_type": "code",
   "execution_count": 13,
   "metadata": {
    "ExecuteTime": {
     "end_time": "2024-04-03T10:11:43.366511Z",
     "start_time": "2024-04-03T10:11:43.355916Z"
    }
   },
   "outputs": [
    {
     "data": {
      "text/plain": "(1.0, 1.0)"
     },
     "execution_count": 13,
     "metadata": {},
     "output_type": "execute_result"
    }
   ],
   "source": [
    "# Let's cover the maximum number of data\n",
    "max_len_eng = np.percentile(eng_words_sentences, 0.99)\n",
    "max_len_hin = np.percentile(hin_word_sentences, 0.99)\n",
    "max_len_eng, max_len_hin"
   ]
  },
  {
   "cell_type": "markdown",
   "source": [
    "## Preprocess the data"
   ],
   "metadata": {
    "collapsed": false
   }
  },
  {
   "cell_type": "code",
   "outputs": [],
   "source": [
    "def preprocess_sentence(sentences: list):\n",
    "    return ['<SOS> ' + sentence.strip() + ' <EOS>' for sentence in sentences]"
   ],
   "metadata": {
    "collapsed": false,
    "ExecuteTime": {
     "end_time": "2024-04-03T10:11:43.371637Z",
     "start_time": "2024-04-03T10:11:43.369146Z"
    }
   },
   "execution_count": 14
  },
  {
   "cell_type": "code",
   "outputs": [],
   "source": [
    "eng_sentences_preprocessed = preprocess_sentence(eng_sentences)\n",
    "hin_sentences_preprocessed = preprocess_sentence(hin_sentences)"
   ],
   "metadata": {
    "collapsed": false,
    "ExecuteTime": {
     "end_time": "2024-04-03T10:11:43.386132Z",
     "start_time": "2024-04-03T10:11:43.373968Z"
    }
   },
   "execution_count": 15
  },
  {
   "cell_type": "code",
   "outputs": [
    {
     "name": "stdout",
     "output_type": "stream",
     "text": [
      "<SOS> Gibraltar Social Democrats <EOS>\n",
      "<SOS> जिब्राल्टर सोशल डैमोक्रैट्स <EOS>\n"
     ]
    }
   ],
   "source": [
    "random_idx = random.randint(0, len(eng_sentences_preprocessed) - 1)\n",
    "print(eng_sentences_preprocessed[random_idx])\n",
    "print(hin_sentences_preprocessed[random_idx])"
   ],
   "metadata": {
    "collapsed": false,
    "ExecuteTime": {
     "end_time": "2024-04-03T10:11:43.391747Z",
     "start_time": "2024-04-03T10:11:43.388041Z"
    }
   },
   "execution_count": 16
  },
  {
   "cell_type": "markdown",
   "metadata": {},
   "source": [
    "### Create Encoder class"
   ]
  },
  {
   "cell_type": "code",
   "execution_count": 37,
   "metadata": {
    "ExecuteTime": {
     "end_time": "2024-04-03T10:19:11.423168Z",
     "start_time": "2024-04-03T10:19:11.418713Z"
    }
   },
   "outputs": [],
   "source": [
    "class Encoder(tf.keras.layers.Layer):\n",
    "\n",
    "    def __init__(self, vocab, embedding_size, units, encoding_layers, **kwargs):\n",
    "        # initialisation of the variables\n",
    "        super().__init__(**kwargs)\n",
    "        self.vocab = vocab\n",
    "        self.units = units\n",
    "        self.encoding_layers = encoding_layers\n",
    "        self.embedding_size = embedding_size\n",
    "        # self.output = None\n",
    "\n",
    "        #initialisation of the layers required\n",
    "        # self.input_layer = layers.Input(shape= (None, ), dtype= tf.int32)\n",
    "        self.embedding = layers.Embedding(input_dim= self.vocab,\n",
    "                                          output_dim= self.embedding_size,name= 'encoder_embedding_layer')\n",
    "        self.lstm_init_units = 2 * (self.embedding_size + self.units)\n",
    "        self.lstm_layers_recurrent = []\n",
    "        self.lstm_layers_recurrent.append(layers.LSTM(self.lstm_init_units, return_sequences=True, name= 'lst_layers_recurrent_0'))\n",
    "        self.lstm_units = self.lstm_init_units\n",
    "        for _ in range(self.encoding_layers - 3):\n",
    "            self.lstm_units += (self.embedding_size + self.units)\n",
    "            self.lstm_layers_recurrent.append(layers.LSTM(self.lstm_units, return_sequences=True, name=f'lstm_layers_recurrent_{_ + 1}'))\n",
    "        self.lstm_layer_non_recurrent = layers.LSTM(self.units, return_sequences=False, return_state= True, name= 'lstm_layer_non_recurrent')\n",
    "        self.bilst_layer = layers.Bidirectional(layers.LSTM(self.units // 2, return_sequences=True), name= 'bilst_layer')\n",
    "        self.concatenate_layer = layers.Concatenate(name= 'concatenate_layer')\n",
    "        self.dropout_layer = layers.Dropout(0.5, name= 'dropout_layer')\n",
    "        \n",
    "\n",
    "    def call(self, inputs):\n",
    "        x = self.embedding(inputs)\n",
    "        bilstm_output = self.bilst_layer(x)\n",
    "        x = self.dropout_layer(bilstm_output)\n",
    "        x = self.concatenate_layer([bilstm_output, x])\n",
    "        for i in range(self.encoding_layers - 2):\n",
    "            lstm_layer_output = self.lstm_layers_recurrent[i](x)\n",
    "            lstm_layer_output = self.dropout_layer(lstm_layer_output)\n",
    "            x = self.concatenate_layer([lstm_layer_output, x])\n",
    "        x, [h, c] = self.lstm_layer_non_recurrent(x)\n",
    "        output = self.dropout_layer(x)\n",
    "        # x = tf.keras.layers.Dense(15, activation= 'softmax')(x)\n",
    "        \n",
    "        return output, [h, c]\n",
    "    \n"
   ]
  },
  {
   "cell_type": "code",
   "execution_count": 38,
   "metadata": {
    "ExecuteTime": {
     "end_time": "2024-04-03T10:19:14.703724Z",
     "start_time": "2024-04-03T10:19:14.688702Z"
    }
   },
   "outputs": [
    {
     "data": {
      "text/plain": "(26290, 6573, 26290, 6573)"
     },
     "execution_count": 38,
     "metadata": {},
     "output_type": "execute_result"
    }
   ],
   "source": [
    "from sklearn.model_selection import train_test_split\n",
    "X_train, X_test, y_train, y_test = train_test_split(eng_sentences_preprocessed, hin_sentences_preprocessed, test_size= 0.2,\n",
    "                                                    random_state= 42)\n",
    "len(X_train), len(X_test), len(y_train), len(y_test)"
   ]
  },
  {
   "cell_type": "code",
   "execution_count": 39,
   "metadata": {
    "ExecuteTime": {
     "end_time": "2024-04-03T10:19:16.500450Z",
     "start_time": "2024-04-03T10:19:16.441167Z"
    }
   },
   "outputs": [],
   "source": [
    "# Creating a text vectorization for the source language\n",
    "eng_vectorizer = layers.TextVectorization(max_tokens= len(eng_vocab),\n",
    "                                          pad_to_max_tokens= True,\n",
    "                                          name= 'eng_vectorizer')\n",
    "\n",
    "eng_vectorizer.adapt(X_train)\n",
    "\n"
   ]
  },
  {
   "cell_type": "code",
   "execution_count": 40,
   "metadata": {
    "ExecuteTime": {
     "end_time": "2024-04-03T10:19:18.896645Z",
     "start_time": "2024-04-03T10:19:18.890162Z"
    }
   },
   "outputs": [
    {
     "name": "stdout",
     "output_type": "stream",
     "text": [
      "Original text: <SOS> Positron emission tomography <EOS>\n",
      "Vectorized text: [   2 4017 1159 3393    3]\n"
     ]
    }
   ],
   "source": [
    "# A sample action of our text vectorization\n",
    "random_text = random.choice(X_train)\n",
    "print(f\"Original text: {random_text}\")\n",
    "print(f\"Vectorized text: {eng_vectorizer(random_text)}\")"
   ]
  },
  {
   "cell_type": "code",
   "outputs": [
    {
     "data": {
      "text/plain": "{'name': 'encoder_layer',\n 'vocab': 28853,\n 'embedding_size': 128,\n 'units': 512,\n 'encoding_layers': 8,\n 'trainable': True,\n 'dtype': 'float32'}"
     },
     "execution_count": 41,
     "metadata": {},
     "output_type": "execute_result"
    }
   ],
   "source": [
    "# Creating an instance of our encoder layer\n",
    "encoder_layer = Encoder(vocab= len(eng_vocab),\n",
    "                        embedding_size= 128,\n",
    "                        units= 512,\n",
    "                        encoding_layers= 8,\n",
    "                        name= 'encoder_layer', trainable= True)\n",
    "\n",
    "\n",
    "encoder_layer.get_config()"
   ],
   "metadata": {
    "collapsed": false,
    "ExecuteTime": {
     "end_time": "2024-04-03T10:19:20.672455Z",
     "start_time": "2024-04-03T10:19:20.651399Z"
    }
   },
   "execution_count": 41
  },
  {
   "cell_type": "code",
   "outputs": [
    {
     "name": "stdout",
     "output_type": "stream",
     "text": [
      "4\n",
      "(4,)\n"
     ]
    }
   ],
   "source": [
    "print(len(X_train[0].split()))\n",
    "print(eng_vectorizer(X_train[0]).shape)"
   ],
   "metadata": {
    "collapsed": false,
    "ExecuteTime": {
     "end_time": "2024-04-03T10:19:24.474541Z",
     "start_time": "2024-04-03T10:19:24.469104Z"
    }
   },
   "execution_count": 42
  },
  {
   "cell_type": "code",
   "outputs": [
    {
     "name": "stdout",
     "output_type": "stream",
     "text": [
      "(128, 512) (128, 512) (128, 512)\n"
     ]
    }
   ],
   "source": [
    "with tf.device('GPU:0'):\n",
    "    output, final_memory_state, final_carry_state = encoder_layer(eng_vectorizer(X_train[:128]))\n",
    "    \n",
    "print(output.shape, final_memory_state.shape, final_carry_state.shape)"
   ],
   "metadata": {
    "collapsed": false,
    "ExecuteTime": {
     "end_time": "2024-04-03T10:27:22.111850Z",
     "start_time": "2024-04-03T10:27:16.471626Z"
    }
   },
   "execution_count": 47
  },
  {
   "cell_type": "code",
   "outputs": [],
   "source": [
    "train_data = tf.data.Dataset.from_tensor_slices((X_train, eng_vectorizer(X_train))).batch(128).prefetch(tf.data.AUTOTUNE)\n",
    "valid_data = tf.data.Dataset.from_tensor_slices((X_test, eng_vectorizer(X_test))).batch(128).prefetch(tf.data.AUTOTUNE)"
   ],
   "metadata": {
    "collapsed": false,
    "ExecuteTime": {
     "end_time": "2024-04-03T10:13:09.436953Z",
     "start_time": "2024-04-03T10:13:09.194750Z"
    }
   },
   "execution_count": 24
  },
  {
   "cell_type": "code",
   "outputs": [
    {
     "data": {
      "text/plain": "\u001B[1mModel: \"sequential\"\u001B[0m\n",
      "text/html": "<pre style=\"white-space:pre;overflow-x:auto;line-height:normal;font-family:Menlo,'DejaVu Sans Mono',consolas,'Courier New',monospace\"><span style=\"font-weight: bold\">Model: \"sequential\"</span>\n</pre>\n"
     },
     "metadata": {},
     "output_type": "display_data"
    },
    {
     "data": {
      "text/plain": "┏━━━━━━━━━━━━━━━━━━━━━━━━━━━━━━━━━┳━━━━━━━━━━━━━━━━━━━━━━━━┳━━━━━━━━━━━━━━━┓\n┃\u001B[1m \u001B[0m\u001B[1mLayer (type)                   \u001B[0m\u001B[1m \u001B[0m┃\u001B[1m \u001B[0m\u001B[1mOutput Shape          \u001B[0m\u001B[1m \u001B[0m┃\u001B[1m \u001B[0m\u001B[1m      Param #\u001B[0m\u001B[1m \u001B[0m┃\n┡━━━━━━━━━━━━━━━━━━━━━━━━━━━━━━━━━╇━━━━━━━━━━━━━━━━━━━━━━━━╇━━━━━━━━━━━━━━━┩\n│ eng_vectorizer                  │ ?                      │             \u001B[38;5;34m0\u001B[0m │\n│ (\u001B[38;5;33mTextVectorization\u001B[0m)             │                        │               │\n├─────────────────────────────────┼────────────────────────┼───────────────┤\n│ encoder_layer (\u001B[38;5;33mEncoder\u001B[0m)         │ ?                      │   \u001B[38;5;34m824,932,480\u001B[0m │\n└─────────────────────────────────┴────────────────────────┴───────────────┘\n",
      "text/html": "<pre style=\"white-space:pre;overflow-x:auto;line-height:normal;font-family:Menlo,'DejaVu Sans Mono',consolas,'Courier New',monospace\">┏━━━━━━━━━━━━━━━━━━━━━━━━━━━━━━━━━┳━━━━━━━━━━━━━━━━━━━━━━━━┳━━━━━━━━━━━━━━━┓\n┃<span style=\"font-weight: bold\"> Layer (type)                    </span>┃<span style=\"font-weight: bold\"> Output Shape           </span>┃<span style=\"font-weight: bold\">       Param # </span>┃\n┡━━━━━━━━━━━━━━━━━━━━━━━━━━━━━━━━━╇━━━━━━━━━━━━━━━━━━━━━━━━╇━━━━━━━━━━━━━━━┩\n│ eng_vectorizer                  │ ?                      │             <span style=\"color: #00af00; text-decoration-color: #00af00\">0</span> │\n│ (<span style=\"color: #0087ff; text-decoration-color: #0087ff\">TextVectorization</span>)             │                        │               │\n├─────────────────────────────────┼────────────────────────┼───────────────┤\n│ encoder_layer (<span style=\"color: #0087ff; text-decoration-color: #0087ff\">Encoder</span>)         │ ?                      │   <span style=\"color: #00af00; text-decoration-color: #00af00\">824,932,480</span> │\n└─────────────────────────────────┴────────────────────────┴───────────────┘\n</pre>\n"
     },
     "metadata": {},
     "output_type": "display_data"
    },
    {
     "data": {
      "text/plain": "\u001B[1m Total params: \u001B[0m\u001B[38;5;34m824,932,480\u001B[0m (3.07 GB)\n",
      "text/html": "<pre style=\"white-space:pre;overflow-x:auto;line-height:normal;font-family:Menlo,'DejaVu Sans Mono',consolas,'Courier New',monospace\"><span style=\"font-weight: bold\"> Total params: </span><span style=\"color: #00af00; text-decoration-color: #00af00\">824,932,480</span> (3.07 GB)\n</pre>\n"
     },
     "metadata": {},
     "output_type": "display_data"
    },
    {
     "data": {
      "text/plain": "\u001B[1m Trainable params: \u001B[0m\u001B[38;5;34m824,932,480\u001B[0m (3.07 GB)\n",
      "text/html": "<pre style=\"white-space:pre;overflow-x:auto;line-height:normal;font-family:Menlo,'DejaVu Sans Mono',consolas,'Courier New',monospace\"><span style=\"font-weight: bold\"> Trainable params: </span><span style=\"color: #00af00; text-decoration-color: #00af00\">824,932,480</span> (3.07 GB)\n</pre>\n"
     },
     "metadata": {},
     "output_type": "display_data"
    },
    {
     "data": {
      "text/plain": "\u001B[1m Non-trainable params: \u001B[0m\u001B[38;5;34m0\u001B[0m (0.00 B)\n",
      "text/html": "<pre style=\"white-space:pre;overflow-x:auto;line-height:normal;font-family:Menlo,'DejaVu Sans Mono',consolas,'Courier New',monospace\"><span style=\"font-weight: bold\"> Non-trainable params: </span><span style=\"color: #00af00; text-decoration-color: #00af00\">0</span> (0.00 B)\n</pre>\n"
     },
     "metadata": {},
     "output_type": "display_data"
    }
   ],
   "source": [
    "model = tf.keras.Sequential([\n",
    "    eng_vectorizer,\n",
    "    encoder_layer\n",
    "])\n",
    "\n",
    "model.compile(optimizer='adam', loss='sparse_categorical_crossentropy')\n",
    "\n",
    "model.build()\n",
    "model.summary(expand_nested= True)"
   ],
   "metadata": {
    "collapsed": false,
    "ExecuteTime": {
     "end_time": "2024-04-03T10:13:09.447369Z",
     "start_time": "2024-04-03T10:13:09.437728Z"
    }
   },
   "execution_count": 25
  },
  {
   "cell_type": "code",
   "outputs": [],
   "source": [
    "hin_vectorizer = tf.keras.layers.TextVectorization(max_tokens= len(hin_vocab),\n",
    "                                                   pad_to_max_tokens= True,\n",
    "                                                   name= 'hin_vectorizer')\n",
    "\n",
    "hin_vectorizer.adapt(y_train)"
   ],
   "metadata": {
    "collapsed": false,
    "ExecuteTime": {
     "end_time": "2024-04-03T10:13:09.506448Z",
     "start_time": "2024-04-03T10:13:09.448064Z"
    }
   },
   "execution_count": 26
  },
  {
   "cell_type": "code",
   "outputs": [
    {
     "name": "stdout",
     "output_type": "stream",
     "text": [
      "Hindi text: <SOS> १७९२ <EOS>\n",
      "Vectorize text: [   2 6611    3]\n"
     ]
    }
   ],
   "source": [
    "random_text = random.choice(y_train)\n",
    "\n",
    "print(f\"Hindi text: {random_text}\")\n",
    "print(f\"Vectorize text: {hin_vectorizer(random_text)}\")"
   ],
   "metadata": {
    "collapsed": false,
    "ExecuteTime": {
     "end_time": "2024-04-03T10:13:09.514974Z",
     "start_time": "2024-04-03T10:13:09.510488Z"
    }
   },
   "execution_count": 27
  },
  {
   "cell_type": "code",
   "outputs": [],
   "source": [
    "class Decoder(tf.keras.layers.Layer):\n",
    "    def __init__(self, units, vocab_size, embedding_size, decoding_layers, initial_state_size, **kwargs):\n",
    "        super().__init__(**kwargs)\n",
    "        \n",
    "        # self.initial_state = initial_state\n",
    "        self.units = units\n",
    "        self.vocab_size = vocab_size\n",
    "        self.embedding_size = embedding_size\n",
    "        self.decoding_layers = decoding_layers\n",
    "        self.initial_state_size = initial_state_size\n",
    "        \n",
    "        # initializing all the layers\n",
    "        self.initial_state = tf.keras.layers.Input(shape= (self.initial_state_size,), name= 'decoder_initial_state')\n",
    "        self.embedding = tf.keras.layers.Embedding(input_dim= self.vocab_size,\n",
    "                                                   output_dim= self.embedding_size,\n",
    "                                                   name= 'decoder_embedding_layer')\n",
    "        # self.decoder_input = tf.keras.layers.Input(shape= (None, ), name= 'decoder_input', dtype= 'string')\n",
    "        self.concatenate_layer = tf.keras.layers.Concatenate(name= 'concatenate_layer')\n",
    "        self.lstm_layers_recurrent = []\n",
    "        for i in range(self.decoding_layers):\n",
    "            self.lstm_layers_recurrent.append(tf.keras.layers.LSTM(self.units, return_sequences=True, name= f'decoder_lstm_layer_{i}'))\n",
    "            \n",
    "        self.dense = tf.keras.layers.Dense(vocab_size, activation= 'softmax', name='decode_output_layer')\n",
    "        \n",
    "        \n",
    "    def call(self, inputs, initial_state= None):\n",
    "        if initial_state == None:\n",
    "            initial_state = self.initial_state\n",
    "        x = self.embedding(inputs)\n",
    "        x = self.lstm_layers_recurrent[0](x, initial_state=initial_state)\n",
    "        x = self.lstm_layers_recurrent[1](x, initial_state=initial_state)\n",
    "        for i in range(2, self.decoding_layers - 1):\n",
    "            lstm_output = self.lstm_layers_recurrent[i](x, initial_state)\n",
    "            x = self.concatenate_layer([x, lstm_output])\n",
    "        \n",
    "        x = self.lstm_layers_recurrent[-1](x)\n",
    "        x = self.dense(x)\n",
    "        \n",
    "        return x"
   ],
   "metadata": {
    "collapsed": false,
    "ExecuteTime": {
     "end_time": "2024-04-03T10:35:27.021238Z",
     "start_time": "2024-04-03T10:35:27.016175Z"
    }
   },
   "execution_count": 56
  },
  {
   "cell_type": "code",
   "outputs": [
    {
     "data": {
      "text/plain": "{'name': 'decoding_layer',\n 'units': 512,\n 'vocab_size': 29073,\n 'embedding_size': 128,\n 'decoding_layers': 8,\n 'initial_state_size': 512,\n 'trainable': True,\n 'dtype': 'float32'}"
     },
     "execution_count": 57,
     "metadata": {},
     "output_type": "execute_result"
    }
   ],
   "source": [
    "decoder_layer = Decoder(units= 512,\n",
    "                        vocab_size= len(hin_vocab),\n",
    "                        embedding_size= 128,\n",
    "                        decoding_layers= 8,\n",
    "                        initial_state_size= 512,\n",
    "                        name= 'decoding_layer',\n",
    "                        trainable= True)\n",
    "decoder_layer.get_config()"
   ],
   "metadata": {
    "collapsed": false,
    "ExecuteTime": {
     "end_time": "2024-04-03T10:35:28.841664Z",
     "start_time": "2024-04-03T10:35:28.824236Z"
    }
   },
   "execution_count": 57
  },
  {
   "cell_type": "code",
   "outputs": [
    {
     "data": {
      "text/plain": "TensorShape([128, 9, 29073])"
     },
     "execution_count": 59,
     "metadata": {},
     "output_type": "execute_result"
    }
   ],
   "source": [
    "with tf.device('/gpu:0'):\n",
    "    encoder_output, final_memory_state, final_carry_state = encoder_layer(eng_vectorizer(X_train[:128]))\n",
    "    decoder_output = decoder_layer(hin_vectorizer(y_train[:128]), initial_state= [final_memory_state, final_carry_state])\n",
    "    \n",
    "decoder_output.shape"
   ],
   "metadata": {
    "collapsed": false,
    "ExecuteTime": {
     "end_time": "2024-04-03T10:35:45.217584Z",
     "start_time": "2024-04-03T10:35:40.343060Z"
    }
   },
   "execution_count": 59
  },
  {
   "cell_type": "markdown",
   "source": [
    "## Model Creation\n",
    "\n",
    "We have created encoder and decoder as layer in the above code using subclass method and also we have created text vecotrizer usign keras `TextVectorization` layer.\n",
    "\n",
    "Let's list the component in the order we want to build the mode:\n",
    "1. Encoder Text Vectorization\n",
    "2. Encoder layer with in built embedding layer\n",
    "3. Decoder Text Vectorizartion\n",
    "4. Decoder layer connected with in built embedding layer and feature for initial state for encoder output"
   ],
   "metadata": {
    "collapsed": false
   }
  }
 ],
 "metadata": {
  "kernelspec": {
   "display_name": "ml",
   "language": "python",
   "name": "python3"
  },
  "language_info": {
   "codemirror_mode": {
    "name": "ipython",
    "version": 3
   },
   "file_extension": ".py",
   "mimetype": "text/x-python",
   "name": "python",
   "nbconvert_exporter": "python",
   "pygments_lexer": "ipython3",
   "version": "3.10.13"
  }
 },
 "nbformat": 4,
 "nbformat_minor": 2
}
