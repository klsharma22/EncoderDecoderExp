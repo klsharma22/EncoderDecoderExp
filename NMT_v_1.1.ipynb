{
 "cells": [
  {
   "cell_type": "markdown",
   "source": [
    "# Creating a mind map before getting into action\n",
    "\n",
    "So after coming across from the mistakes before this notebook, let's plan what all things we need to do so that we perform the crucial steps needed for the NMT to make with all the proper components and the preprocessed data.\n",
    "\n",
    "**Data Preprocessing Actions**:\n",
    "1. Shift the target texts.\n",
    "2. Pad the text with proper annotations.\n",
    "\n",
    "**Components of the model**:\n",
    "1. Create *text vectors* of both source and target language separately using TensorFlow `TextVectorization` layer.\n",
    "2. Create *embedding layers* of both source and target language separately using TensorFlow `Embedding` layer.\n",
    "3. Create a class known *Encoder* which inherits the properties of TensorFlow class `Layer`. In the sub-class method of creating a layer, we are going to develop the encoder architecture of the NMT. (The architecture will be discussed while we are developing the layer.)\n",
    "4. Create a class known as *Decoder* which inherits the properties of TensorFlow class `Layer`. In this sub-class method of creating a layer, we are going to develop the decoder architecture of the NMT. (The architecture will be discussed while we are developing the layer.)\n",
    "5. After creating all the components, we are going to create a class called *EncoderDecoder* which will inherit from TensorFlow class `Model`. In this class we will assemble all of the layers that we have prepared in the above steps and then create a custom call function which will allow us to train the decoder layer as we expect it to do.\n",
    "6. Create an instance of the *EncoderDecoder* class with all the parameters passed in its constructor and compile the model with `tf.keras.losses.SparseCategoricalCrossentropy()` as loss function and `tf.keras.optimizers.RMSprop()` as the optimizer.\n",
    "7. We will then create the *train_dataset* and *valid_dataset* using TensorFlow `tf.data` API for better performance of the model training.\n",
    "8. We will fit the model with the training data with 5 epochs and *callbacks* such as `tf.keras.callbacks.ModelCheckPoint`, `tf.keras.callbacks.EarlyStopping`, `tf.keras.callbacks.ReduceLROnPlateau` and the validation dataset.\n",
    "9. After training the model we will evaluate the model using different metrics system and predict with an unseen data and observe the quality of the prediction."
   ],
   "metadata": {
    "collapsed": false
   },
   "id": "1e240db960ed8729"
  },
  {
   "cell_type": "markdown",
   "source": [
    "# Importing all the necessary libraries"
   ],
   "metadata": {
    "collapsed": false
   },
   "id": "c9430d4d813aceb5"
  },
  {
   "cell_type": "code",
   "source": [
    "import tensorflow as tf\n",
    "import numpy as np\n",
    "import pandas as pd\n",
    "from sklearn.model_selection import train_test_split\n",
    "import matplotlib.pyplot as plt\n",
    "import os\n",
    "import tarfile\n",
    "import random"
   ],
   "metadata": {
    "collapsed": false,
    "ExecuteTime": {
     "end_time": "2024-04-11T05:11:51.444021Z",
     "start_time": "2024-04-11T05:11:46.744050Z"
    }
   },
   "id": "bfdf0bb37b8c825a",
   "outputs": [],
   "execution_count": 2
  },
  {
   "cell_type": "markdown",
   "source": [
    "# Start the project\n",
    "\n",
    "As all machine learning project has two phases, this is project is no exception for it. We will first work on the *Data Preprocessing* and then *Model Development*"
   ],
   "metadata": {
    "collapsed": false
   },
   "id": "64a05be9d25b00fc"
  },
  {
   "cell_type": "markdown",
   "source": [
    "## Data Preprocessing"
   ],
   "metadata": {
    "collapsed": false
   },
   "id": "2f9de603448c9b31"
  },
  {
   "cell_type": "code",
   "source": [
    "# Creating a constant which contains the starting path of the project so that\n",
    "START_PATH = str(os.getcwd()) + '/'\n",
    "COMP_DATA_PATH = os.path.join(START_PATH, 'wiki-titles.tgz')\n",
    "DATA_URL = 'https://www.statmt.org/wmt14/wiki-titles.tgz'\n",
    "DATA_DIR = os.path.join(START_PATH, 'wiki/hi-en/wiki-titles.hi-en')"
   ],
   "metadata": {
    "collapsed": false,
    "ExecuteTime": {
     "end_time": "2024-04-11T05:11:51.447438Z",
     "start_time": "2024-04-11T05:11:51.445151Z"
    }
   },
   "id": "e37d49d18a6631f1",
   "outputs": [],
   "execution_count": 3
  },
  {
   "cell_type": "markdown",
   "source": [
    "### Loading Data"
   ],
   "metadata": {
    "collapsed": false
   },
   "id": "9eaef38bbde5b36b"
  },
  {
   "cell_type": "code",
   "source": [
    "if not os.path.exists(COMP_DATA_PATH):\n",
    "    print(f'Downloading data from {DATA_URL}')\n",
    "    !wget https://www.statmt.org/wmt14/wiki-titles.tgz\n",
    "else:\n",
    "    print(\"Data already downloaded\")"
   ],
   "metadata": {
    "collapsed": false,
    "ExecuteTime": {
     "end_time": "2024-04-11T05:11:51.450343Z",
     "start_time": "2024-04-11T05:11:51.448040Z"
    }
   },
   "id": "43050224ec71df74",
   "outputs": [
    {
     "name": "stdout",
     "output_type": "stream",
     "text": [
      "Data already downloaded\n"
     ]
    }
   ],
   "execution_count": 4
  },
  {
   "cell_type": "code",
   "source": [
    "if not os.path.exists(COMP_DATA_PATH):\n",
    "    print(\"File does not exist\")\n",
    "else:\n",
    "    print(\"The file exists\")"
   ],
   "metadata": {
    "collapsed": false,
    "ExecuteTime": {
     "end_time": "2024-04-11T05:11:51.453453Z",
     "start_time": "2024-04-11T05:11:51.451782Z"
    }
   },
   "id": "5f1139795316c182",
   "outputs": [
    {
     "name": "stdout",
     "output_type": "stream",
     "text": [
      "The file exists\n"
     ]
    }
   ],
   "execution_count": 5
  },
  {
   "cell_type": "code",
   "source": [
    "with tarfile.open(COMP_DATA_PATH, 'r') as tar_ref:\n",
    "    tar_ref.extractall()\n",
    "    print(\"File extracted\")"
   ],
   "metadata": {
    "collapsed": false,
    "ExecuteTime": {
     "end_time": "2024-04-11T05:11:51.567161Z",
     "start_time": "2024-04-11T05:11:51.454322Z"
    }
   },
   "id": "a0c519a809d4a9ae",
   "outputs": [
    {
     "name": "stdout",
     "output_type": "stream",
     "text": [
      "File extracted\n"
     ]
    }
   ],
   "execution_count": 6
  },
  {
   "cell_type": "markdown",
   "source": [
    "### Extracting data from file "
   ],
   "metadata": {
    "collapsed": false
   },
   "id": "c5f8236ca4c75de5"
  },
  {
   "cell_type": "code",
   "source": [
    "# Extracting the lines from the file of the dataset\n",
    "with open(DATA_DIR, 'r') as f:\n",
    "    lines = f.readlines()"
   ],
   "metadata": {
    "collapsed": false,
    "ExecuteTime": {
     "end_time": "2024-04-11T05:11:51.574277Z",
     "start_time": "2024-04-11T05:11:51.568033Z"
    }
   },
   "id": "8706972bebef0f20",
   "outputs": [],
   "execution_count": 7
  },
  {
   "cell_type": "code",
   "source": [
    "# Splitting the data into two list of source language and target language\n",
    "src_senteces = [line.split('|||')[1][1:-1] for line in lines]\n",
    "trg_sentences = [line.split('|||')[0][:-1] for line in lines]\n",
    "src_senteces[:10], trg_sentences[:10], len(src_senteces), len(trg_sentences)"
   ],
   "metadata": {
    "collapsed": false,
    "ExecuteTime": {
     "end_time": "2024-04-11T05:11:51.592600Z",
     "start_time": "2024-04-11T05:11:51.574902Z"
    }
   },
   "id": "1878ae100a6b426f",
   "outputs": [
    {
     "data": {
      "text/plain": [
       "(['January 0',\n",
       "  'March 0',\n",
       "  '1000',\n",
       "  '1001',\n",
       "  '1002',\n",
       "  '1003',\n",
       "  '1004',\n",
       "  '1005',\n",
       "  '1006',\n",
       "  '1007'],\n",
       " ['० जनवरी',\n",
       "  '० मार्च',\n",
       "  '१०००',\n",
       "  '१००१',\n",
       "  '१००२',\n",
       "  '१००३',\n",
       "  '१००४',\n",
       "  '१००५',\n",
       "  '१००६',\n",
       "  '१००७'],\n",
       " 32863,\n",
       " 32863)"
      ]
     },
     "execution_count": 8,
     "metadata": {},
     "output_type": "execute_result"
    }
   ],
   "execution_count": 8
  },
  {
   "cell_type": "markdown",
   "source": [
    "### Visualise the data"
   ],
   "metadata": {
    "collapsed": false
   },
   "id": "d9c90fb2692dc8df"
  },
  {
   "cell_type": "code",
   "source": [
    "def visualise_random_sentences(src_sent, trg_sent):    \n",
    "    random_idx = random.randint(0, len(src_sent))\n",
    "    \n",
    "    print(f\"Source sentence: {src_sent[random_idx]}\")\n",
    "    print(f\"Target sentence: {trg_sent[random_idx]}\")\n",
    "    \n",
    "visualise_random_sentences(src_sent= src_senteces,\n",
    "                    trg_sent= trg_sentences)"
   ],
   "metadata": {
    "collapsed": false,
    "ExecuteTime": {
     "end_time": "2024-04-11T05:11:51.595564Z",
     "start_time": "2024-04-11T05:11:51.593486Z"
    }
   },
   "id": "36e32e67bba57146",
   "outputs": [
    {
     "name": "stdout",
     "output_type": "stream",
     "text": [
      "Source sentence: Ursell number\n",
      "Target sentence: अर्सेल संख्या\n"
     ]
    }
   ],
   "execution_count": 9
  },
  {
   "cell_type": "markdown",
   "source": [
    "### Shift the target data with one token"
   ],
   "metadata": {
    "collapsed": false
   },
   "id": "fd558fc2e24c14d4"
  },
  {
   "cell_type": "code",
   "source": [
    "trg_sentences_preprocessed = ['<SOS> ' + sentence + ' <EOS>' for sentence in trg_sentences]\n",
    "visualise_random_sentences(src_sent= src_senteces,\n",
    "                           trg_sent= trg_sentences_preprocessed)"
   ],
   "metadata": {
    "collapsed": false,
    "ExecuteTime": {
     "end_time": "2024-04-11T05:11:51.600290Z",
     "start_time": "2024-04-11T05:11:51.596238Z"
    }
   },
   "id": "9c752ba428dc9646",
   "outputs": [
    {
     "name": "stdout",
     "output_type": "stream",
     "text": [
      "Source sentence: Cookie\n",
      "Target sentence: <SOS> कुकी <EOS>\n"
     ]
    }
   ],
   "execution_count": 10
  },
  {
   "cell_type": "code",
   "source": [
    "# Calculate the max length of the text for each language lists\n",
    "src_word_per_sentence = [len(line.split()) for line in src_senteces]\n",
    "trg_word_per_sentence = [len(line.split()) for line in trg_sentences_preprocessed]\n",
    "\n",
    "max_src_len = max(src_word_per_sentence)\n",
    "max_trg_len = max(trg_word_per_sentence)\n",
    "\n",
    "print(f\"Max source sentence length: {max_src_len}\")\n",
    "print(f\"Max target sentence length: {max_trg_len}\")"
   ],
   "metadata": {
    "collapsed": false,
    "ExecuteTime": {
     "end_time": "2024-04-11T05:11:51.614099Z",
     "start_time": "2024-04-11T05:11:51.602282Z"
    }
   },
   "id": "86d7ec2f1690e76",
   "outputs": [
    {
     "name": "stdout",
     "output_type": "stream",
     "text": [
      "Max source sentence length: 13\n",
      "Max target sentence length: 17\n"
     ]
    }
   ],
   "execution_count": 11
  },
  {
   "metadata": {
    "ExecuteTime": {
     "end_time": "2024-04-11T05:11:51.639153Z",
     "start_time": "2024-04-11T05:11:51.614842Z"
    }
   },
   "cell_type": "code",
   "source": [
    "# Storing vocab\n",
    "src_vocab, trg_vocab = set(), set()\n",
    "for sentence in src_senteces:\n",
    "    for word in sentence.split():\n",
    "        src_vocab.add(word)\n",
    "        \n",
    "for sentence in trg_sentences:\n",
    "    for word in sentence.split():\n",
    "        trg_vocab.add(word)\n",
    "        \n",
    "len(src_vocab), len(trg_vocab)"
   ],
   "id": "66b0de55d8d0b6ab",
   "outputs": [
    {
     "data": {
      "text/plain": [
       "(28851, 29073)"
      ]
     },
     "execution_count": 12,
     "metadata": {},
     "output_type": "execute_result"
    }
   ],
   "execution_count": 12
  },
  {
   "metadata": {
    "ExecuteTime": {
     "end_time": "2024-04-11T05:11:51.650339Z",
     "start_time": "2024-04-11T05:11:51.639964Z"
    }
   },
   "cell_type": "code",
   "source": [
    "# Splitting the data into train and test\n",
    "src_train, src_test, trg_train, trg_test = train_test_split(src_senteces, trg_sentences_preprocessed, test_size=0.2, random_state= 42)\n",
    "\n",
    "len(src_train), len(trg_train), len(src_test), len(trg_test)"
   ],
   "id": "6333b37f1a6ec396",
   "outputs": [
    {
     "data": {
      "text/plain": [
       "(26290, 26290, 6573, 6573)"
      ]
     },
     "execution_count": 13,
     "metadata": {},
     "output_type": "execute_result"
    }
   ],
   "execution_count": 13
  },
  {
   "cell_type": "markdown",
   "source": [
    ">**Note**: Padding of the data will be done after vectorising the text data"
   ],
   "metadata": {
    "collapsed": false
   },
   "id": "2e5640df1a236aa"
  },
  {
   "cell_type": "markdown",
   "source": [
    "## Model development\n",
    "\n",
    "We have completed the data preprocessing of the data and are ready to develop the model. Let's discuss the steps we are going to take for it:\n",
    "1. Create individual components\n",
    "2. Assemble the model\n",
    "3. Create Data Pipeline\n",
    "4. Fit the model\n",
    "5. Evaluate the model\n",
    "6. Predict using the model"
   ],
   "metadata": {
    "collapsed": false
   },
   "id": "96e38c8a72bd5d08"
  },
  {
   "cell_type": "markdown",
   "source": [
    "### Creating Components\n",
    "\n",
    "Before starting with the model, first we need to create some building blocks for the Encoder Decoder archtiecture of NMT. The components that we are going to make here are:\n",
    "1. Encode layer:\n",
    "        * *Inheritance*: `tf.keras.layers.Layer`\n",
    "        * *Constructor Input*: \n",
    "        * *Call function Input*: src_sentences\n",
    "        * *Return*: Encoder output, RNN layer states\n",
    "2. Decoder layer:\n",
    "        * *Inheritance*: `tf.keras.layers.Layer`\n",
    "        * *Constructor Input*: \n",
    "        * *Call function Input*: trg_sentences_preprocessed, context, encoder_states\n",
    "        * *Return*: RNN output"
   ],
   "metadata": {
    "collapsed": false
   },
   "id": "4feaa32e6d6dc13b"
  },
  {
   "metadata": {
    "ExecuteTime": {
     "end_time": "2024-04-11T05:11:51.805999Z",
     "start_time": "2024-04-11T05:11:51.650965Z"
    }
   },
   "cell_type": "code",
   "source": [
    "import tensorflow as tf\n",
    "experiment_output, experiment_hidden, experiment_carry = tf.keras.layers.LSTM(512, return_state= True)(tf.random.uniform(shape= (10, 17, 128), dtype=tf.float32))\n",
    "experiment_output.shape, experiment_hidden.shape, experiment_carry.shape"
   ],
   "id": "fdefdf7fa535478f",
   "outputs": [
    {
     "data": {
      "text/plain": [
       "(TensorShape([10, 512]), TensorShape([10, 512]), TensorShape([10, 512]))"
      ]
     },
     "execution_count": 14,
     "metadata": {},
     "output_type": "execute_result"
    }
   ],
   "execution_count": 14
  },
  {
   "cell_type": "code",
   "source": [
    "# Creation of Encoder layer class\n",
    "class Encoder(tf.keras.layers.Layer):\n",
    "    '''\n",
    "    This class creates a custom encoder layer based on the Google's research paper of NMT.\n",
    "    For more reference please view https://arxiv.org/pdf/1609.08144.pdf%20(7\n",
    "    \n",
    "    This class is an inheritied class from `tf.keras.layers.Layer`. In this class, we will create the constructor\n",
    "    of the encoder layer and then define the call function so that we can set the working of the encoder layer using \n",
    "    Functional API.\n",
    "    '''\n",
    "    \n",
    "    def __init__(self, units: int, dropout_rate: float, num_layers: int, batch: int,  **kwargs):\n",
    "        '''\n",
    "        Constructs the encoder\n",
    "        \n",
    "        Parameters:\n",
    "            units: Nuumber of neurons required per LSTM layer\n",
    "            dropout_rate: to set the dropout rate\n",
    "            num_layers: to set the number of encoding layer\n",
    "        Returns:\n",
    "            An instance of Encoder class which works as the encoder described in the research paper\n",
    "        '''\n",
    "        \n",
    "        # calling the super method to initialise\n",
    "        super().__init__(**kwargs)\n",
    "        \n",
    "        # initialising all the object variables\n",
    "        self.units = units\n",
    "        self.dropout_rate = dropout_rate\n",
    "        self.num_layers = num_layers\n",
    "        self.batch = batch\n",
    "        \n",
    "        # initialise the layers\n",
    "        self.bi_lstm_layer = tf.keras.layers.Bidirectional(tf.keras.layers.LSTM(units= self.units // 2,\n",
    "                                                                                return_sequences= True,\n",
    "                                                                                dropout=self.dropout_rate, \n",
    "                                                                                stateful= True,\n",
    "                                                                                input_shape= (self.batch, None, None)),\n",
    "                                                           name= 'encoder_bi_lstm_layer')\n",
    "        \n",
    "        self.lstm_recurrent_layers = []\n",
    "        for i in range(self.num_layers - 1):\n",
    "            self.lstm_recurrent_layers.append(tf.keras.layers.LSTM(units= self.units,\n",
    "                                                         return_sequences=True,\n",
    "                                                         return_state=True,\n",
    "                                                         dropout=self.dropout_rate,\n",
    "                                                                   stateful= True,\n",
    "                                                         name= f'encoder_lstm_recurrent_layer_{i + 1}'))\n",
    "        self.add_layer = tf.keras.layers.Add()\n",
    "    \n",
    "    def call(self, inputs):\n",
    "        x = self.bi_lstm_layer(inputs)\n",
    "        x, h, c = self.lstm_recurrent_layers[0](x, initial_state= [tf.zeros(shape= (self.batch, self.units)), tf.zeros(shape= (self.batch, self.units))])       \n",
    "        for layer in self.lstm_recurrent_layers:\n",
    "            initial_input = x\n",
    "            layer_output, h, c = layer(x)\n",
    "            x = self.add_layer([initial_input, layer_output])\n",
    "        \n",
    "        return x, h, c\n",
    "    \n",
    "encoder_layer = Encoder(units= 512, \n",
    "                        dropout_rate= 0.5,\n",
    "                        name= 'encoder_layer',\n",
    "                        num_layers= 8,\n",
    "                        batch= 10)\n",
    "encoder_layer.get_config()"
   ],
   "metadata": {
    "collapsed": false,
    "ExecuteTime": {
     "end_time": "2024-04-11T05:11:51.822956Z",
     "start_time": "2024-04-11T05:11:51.806759Z"
    }
   },
   "id": "cbf34e085cf398ec",
   "outputs": [
    {
     "name": "stderr",
     "output_type": "stream",
     "text": [
      "/Users/klsharma22/PycharmProjects/EncoderDecoderExp/venv/lib/python3.10/site-packages/keras/src/layers/rnn/rnn.py:204: UserWarning: Do not pass an `input_shape`/`input_dim` argument to a layer. When using Sequential models, prefer using an `Input(shape)` object as the first layer in the model instead.\n",
      "  super().__init__(**kwargs)\n"
     ]
    },
    {
     "data": {
      "text/plain": [
       "{'name': 'encoder_layer',\n",
       " 'units': 512,\n",
       " 'dropout_rate': 0.5,\n",
       " 'num_layers': 8,\n",
       " 'batch': 10,\n",
       " 'trainable': True,\n",
       " 'dtype': 'float32'}"
      ]
     },
     "execution_count": 15,
     "metadata": {},
     "output_type": "execute_result"
    }
   ],
   "execution_count": 15
  },
  {
   "cell_type": "code",
   "source": [
    "# Checking the functionality of the layer using dummy values\n",
    "encoder_output, encoder_hidden, encoder_carry= encoder_layer(tf.random.uniform(shape=(10, 17, 128)))\n",
    "encoder_output.shape, encoder_hidden.shape, encoder_carry.shape"
   ],
   "metadata": {
    "collapsed": false,
    "ExecuteTime": {
     "end_time": "2024-04-11T05:11:52.618345Z",
     "start_time": "2024-04-11T05:11:51.823740Z"
    }
   },
   "id": "74724396ff40e996",
   "outputs": [
    {
     "data": {
      "text/plain": [
       "(TensorShape([10, 17, 512]), TensorShape([10, 512]), TensorShape([10, 512]))"
      ]
     },
     "execution_count": 16,
     "metadata": {},
     "output_type": "execute_result"
    }
   ],
   "execution_count": 16
  },
  {
   "cell_type": "code",
   "source": [
    "# Create Decoder class\n",
    "class Decoder(tf.keras.layers.Layer):\n",
    "    '''\n",
    "    This class creates is for an instance of Decoder layer. This inherits the properties of `tf.keras.layers.Layer`.\n",
    "    We are going to create the constructor and the call function which will contain the Functional API structure\n",
    "    of computing the values which is the input.\n",
    "    \n",
    "    This layer is refered from the above mentioned paper.\n",
    "    '''\n",
    "    \n",
    "    def __init__(self, units: int, num_layers: int, dropout_rate: float, **kwargs):\n",
    "        '''\n",
    "        Constructor of the decoder class which helps initialize the variables and create the layer\n",
    "        Parameters:\n",
    "            units: number of neurons in the LSTM layer\n",
    "            num_layers: number of layers expected in the decoder layer\n",
    "            embedding_size: to set the input value of the layer\n",
    "            dropout_rate: to set the dropout rate of the LSTM layer\n",
    "            \n",
    "        Returns:\n",
    "            An instance of the decoder class which will act as a layer\n",
    "        '''\n",
    "        \n",
    "        # calling the super function\n",
    "        super().__init__(**kwargs)\n",
    "        \n",
    "        # initialising all the variables\n",
    "        self.units = units\n",
    "        self.num_layers = num_layers\n",
    "        self.dropout_rate = dropout_rate\n",
    "        self.encoder_layer = encoder_layer\n",
    "        \n",
    "        # initialising the layers\n",
    "        # self.lstm_cell = tf.keras.layers.LSTMCell(units= self.units,\n",
    "        #                                           name= 'decoder_lstm_cell')\n",
    "        self.lstm_layers = []\n",
    "        for i in range(self.num_layers):\n",
    "            self.lstm_layers.append(tf.keras.layers.LSTM(units= self.units,\n",
    "                                                          return_sequences=True,\n",
    "                                                         return_state=True,\n",
    "                                                         dropout=self.dropout_rate,\n",
    "                                                         stateful= True,\n",
    "                                                          name= f'decoder_lstm_layer_{i}'))\n",
    "            self.add_layer = tf.keras.layers.Add()\n",
    "            self.attention_layer = tf.keras.layers.Attention()\n",
    "    \n",
    "    def call(self, inputs):\n",
    "        decoder_inputs, encoder_outputs, encoder_hidden, encoder_carry = inputs\n",
    "        x, h, c = self.lstm_layers[0](inputs[0], initial_state= inputs[2: ])\n",
    "        x = self.attention_layer([x, encoder_output])\n",
    "        # print(context.shape)\n",
    "        x, h, c = self.lstm_layers[1](x)\n",
    "        x = self.add_layer([x, h, c])\n",
    "        for layer in self.lstm_layers[2:]:\n",
    "            initial_output = x\n",
    "            x, h, c = layer(x)\n",
    "            x = self.add_layer([x, initial_output])\n",
    "        \n",
    "        \n",
    "        return  x\n",
    "        \n",
    "decoder_layer = Decoder(units= 512,\n",
    "                        num_layers= 8,\n",
    "                        dropout_rate= 0.5)\n",
    "decoder_layer.get_config()     "
   ],
   "metadata": {
    "collapsed": false,
    "ExecuteTime": {
     "end_time": "2024-04-11T05:18:45.459457Z",
     "start_time": "2024-04-11T05:18:45.444269Z"
    }
   },
   "id": "1d1819ef306c596e",
   "outputs": [
    {
     "data": {
      "text/plain": [
       "{'name': 'decoder_6',\n",
       " 'units': 512,\n",
       " 'num_layers': 8,\n",
       " 'dropout_rate': 0.5,\n",
       " 'trainable': True,\n",
       " 'dtype': 'float32'}"
      ]
     },
     "execution_count": 32,
     "metadata": {},
     "output_type": "execute_result"
    }
   ],
   "execution_count": 32
  },
  {
   "cell_type": "code",
   "source": [
    "# Testing decoder layer\n",
    "decoder_output = decoder_layer([tf.random.uniform(shape= (10, 17, 128)), encoder_output, encoder_hidden, encoder_carry])\n",
    "print(decoder_output.shape)"
   ],
   "metadata": {
    "collapsed": false,
    "ExecuteTime": {
     "end_time": "2024-04-11T05:19:19.394846Z",
     "start_time": "2024-04-11T05:19:18.619649Z"
    }
   },
   "id": "1b93f07282625874",
   "outputs": [
    {
     "name": "stdout",
     "output_type": "stream",
     "text": [
      "(10, 17, 512)\n"
     ]
    }
   ],
   "execution_count": 35
  },
  {
   "metadata": {
    "ExecuteTime": {
     "end_time": "2024-04-11T05:14:01.100367Z",
     "start_time": "2024-04-11T05:14:01.094090Z"
    }
   },
   "cell_type": "code",
   "source": [
    "# Expermineting with attention layer\n",
    "attention_output = tf.keras.layers.Attention()([decoder_output, encoder_output])\n",
    "attention_output.shape"
   ],
   "id": "a4a1920225d0435c",
   "outputs": [
    {
     "data": {
      "text/plain": [
       "TensorShape([10, 17, 512])"
      ]
     },
     "execution_count": 30,
     "metadata": {},
     "output_type": "execute_result"
    }
   ],
   "execution_count": 30
  },
  {
   "cell_type": "markdown",
   "source": [
    "### Assemble Components into Model\n",
    "\n",
    "We have created the components that we require for the Encoder Decoder NMT. The components are as follows:\n",
    "1. Encoder layer\n",
    "2. Decoder layer with attention layer\n",
    "\n",
    "Now in the below cell we are going to assemble all the parts in this order:\n",
    "1. Source input layer\n",
    "2. Source Text Vectorizer layer\n",
    "3. Source Embedding layer\n",
    "4. Encoder layer\n",
    "5. Target input layer\n",
    "6. Target Text Vectorizer layer\n",
    "7. Target Embedding layer\n",
    "8. Decoder layer\n",
    "9. Final dense softmax layer with target vocab size as output"
   ],
   "metadata": {
    "collapsed": false
   },
   "id": "7919e25a54c6e23a"
  },
  {
   "metadata": {
    "ExecuteTime": {
     "end_time": "2024-04-10T08:11:50.087144Z",
     "start_time": "2024-04-10T08:11:49.988078Z"
    }
   },
   "cell_type": "code",
   "source": [
    "# Creating Text Vectorizer layer\n",
    "src_text_vectorizer_layer = tf.keras.layers.TextVectorization(max_tokens= len(src_vocab),\n",
    "                                                            pad_to_max_tokens= True,\n",
    "                                                            output_sequence_length= max(max_src_len, max_trg_len),\n",
    "                                                              name= 'src_text_vectorization_layer')\n",
    "trg_text_vectorizer_layer = tf.keras.layers.TextVectorization(max_tokens= len(trg_vocab),\n",
    "                                                            pad_to_max_tokens= True,\n",
    "                                                            output_sequence_length= max(max_trg_len, max_src_len),\n",
    "                                                              name= 'trg_text_vectorization_layer')\n",
    "\n",
    "# Adapting the vectorizer\n",
    "src_text_vectorizer_layer.adapt(src_train)\n",
    "trg_text_vectorizer_layer.adapt(trg_train)"
   ],
   "id": "23b7a43ba71f210f",
   "outputs": [],
   "execution_count": 138
  },
  {
   "metadata": {
    "ExecuteTime": {
     "end_time": "2024-04-10T08:11:53.145869Z",
     "start_time": "2024-04-10T08:11:53.134645Z"
    }
   },
   "cell_type": "code",
   "source": [
    "# Testing the text vectorizer\n",
    "random_idx = random.randint(0, len(src_train))\n",
    "\n",
    "print(f\"Src Text: {src_train[random_idx]}\")\n",
    "print(f\"Src Vector: {src_text_vectorizer_layer(src_train[random_idx])}\")\n",
    "print(f\"Trg Text: {trg_train[random_idx]}\")\n",
    "print(f\"Trg Vector: {trg_text_vectorizer_layer(trg_train[random_idx])}\")"
   ],
   "id": "6d6314aca531c60a",
   "outputs": [
    {
     "name": "stdout",
     "output_type": "stream",
     "text": [
      "Src Text: Cuanza River\n",
      "Src Vector: [18230    15     0     0     0     0     0     0     0     0     0     0\n",
      "     0     0     0     0     0]\n",
      "Trg Text: <SOS> कूयांजा नदी <EOS>\n",
      "Trg Vector: [    2 20901    24     3     0     0     0     0     0     0     0     0\n",
      "     0     0     0     0     0]\n"
     ]
    }
   ],
   "execution_count": 140
  },
  {
   "metadata": {},
   "cell_type": "code",
   "outputs": [],
   "execution_count": null,
   "source": [
    "# Creating embedding layer\n",
    "src_embedding= tf.keras.layers.Embedding(input_dim= len(src_vocab),\n",
    "                                         output_dim= 128,\n",
    "                                         name= 'src_embeddin')\n",
    "trg_embedding= tf.keras.layers.Embedding(input_dim= len(trg_vocab),\n",
    "                                         output_dim= 128,\n",
    "                                         name= 'trg_embedding')"
   ],
   "id": "1ce7f5a64d3a0ed"
  },
  {
   "metadata": {
    "ExecuteTime": {
     "end_time": "2024-04-10T08:11:54.606707Z",
     "start_time": "2024-04-10T08:11:54.604176Z"
    }
   },
   "cell_type": "code",
   "source": [
    "# Creating constants for the model parameters\n",
    "E_UNITS = 512\n",
    "E_NUM_LAYERS= 8\n",
    "E_DROPOUT_RATE = 0.5\n",
    "D_UNITS = 512\n",
    "D_NUM_LAYERS= 8\n",
    "D_DROPOUT_RATE = 0.5\n",
    "BATCH_SIZE = 128"
   ],
   "id": "114080e9b25babd4",
   "outputs": [],
   "execution_count": 141
  },
  {
   "metadata": {
    "ExecuteTime": {
     "end_time": "2024-04-10T08:42:29.147298Z",
     "start_time": "2024-04-10T08:42:29.066689Z"
    }
   },
   "cell_type": "code",
   "source": [
    "# Creating model using Functional API\n",
    "\n",
    "# Creating the inputs\n",
    "src_inputs = tf.keras.layers.Input(shape= (None, None), batch_size= BATCH_SIZE, name= 'src_inputs')\n",
    "trg_inputs = tf.keras.layers.Input(shape= (1, ), batch_size= BATCH_SIZE, name= 'trg_inputs')\n",
    "\n",
    "# Creating embedding layers\n",
    "src_embedding= tf.keras.layers.Embedding(input_dim= len(src_vocab),\n",
    "                                         output_dim= 128,\n",
    "                                         name= 'src_embedding')(src_text_vectorizer_layer(src_inputs))\n",
    "trg_embedding= tf.keras.layers.Embedding(input_dim= len(trg_vocab),\n",
    "                                         output_dim= 128,\n",
    "                                         name= 'trg_embedding')(trg_text_vectorizer_layer(trg_inputs))\n",
    "\n",
    "# Creating Encoder instnace and its connection with the src_input\n",
    "encoder_layer = Encoder(units= E_UNITS,\n",
    "                        dropout_rate= E_DROPOUT_RATE,\n",
    "                        num_layers= E_NUM_LAYERS,\n",
    "                        batch= BATCH_SIZE,\n",
    "                        name= 'encoder_layer')\n",
    "encoder_output, encoder_hidden, encoder_carry = encoder_layer(src_embedding)\n",
    "\n",
    "# Creating Decoder instance and its connecton with both trg_input and encoder_output\n",
    "decoder_layer = Decoder(units= D_UNITS,\n",
    "                        dropout_rate= D_DROPOUT_RATE,\n",
    "                        num_layers= D_NUM_LAYERS,\n",
    "                        name= 'decoder_layer')\n",
    "decoder_output = decoder_layer(trg_embeddings, encoder_output= [encoder_hidden, encoder_carry])\n",
    "\n",
    "# Creating the final dense layer connection to predict the output\n",
    "final_output = tf.keras.layers.Dense(len(trg_vocab), activation= 'softmax', name= 'final_output')(decoder_output)\n",
    "\n",
    "model = tf.keras.models.Model(inputs= [src_inputs, trg_inputs], \n",
    "                              outputs= final_output,\n",
    "                              name= 'EncoderDecoderNMT')\n",
    "\n",
    "model.compile(loss= 'sparse_categorical_crossentropy',\n",
    "              optimizer= tf.keras.optimizers.RMSprop(learning_rate= 1e-4))\n",
    "\n",
    "# model.summary()"
   ],
   "id": "92f9a076438ae8af",
   "outputs": [
    {
     "ename": "RuntimeError",
     "evalue": "Exception encountered when calling Encoder.call().\n\n\u001B[1mCould not automatically infer the output shape / dtype of 'encoder_layer' (of type Encoder). Either the `Encoder.call()` method is incorrect, or you need to implement the `Encoder.compute_output_spec() / compute_output_shape()` method. Error encountered:\n\nYou are attempting to create a variable while in a stateless scope. This is disallowed. Make sure that all variables are created before you start using your layer/model objects.\n\nIn some cases, you might be seeing this error because you need to implement a `def build(self, input_shape)` method on your layer/model, which will create its variables.\n\nIn some other cases, you might be seeing this error because you are instantiating a `Variable` and assigning it to a layer without going through self.add_variable()/self.add_weight(). Always prefer using these methods (with a `shape` and `initializer` argument).\u001B[0m\n\nArguments received by Encoder.call():\n  • args=('<KerasTensor shape=(128, 17, 128), dtype=float32, sparse=False, name=keras_tensor_61>',)\n  • kwargs=<class 'inspect._empty'>",
     "output_type": "error",
     "traceback": [
      "\u001B[0;31m---------------------------------------------------------------------------\u001B[0m",
      "\u001B[0;31mRuntimeError\u001B[0m                              Traceback (most recent call last)",
      "Cell \u001B[0;32mIn[162], line 21\u001B[0m\n\u001B[1;32m     15\u001B[0m \u001B[38;5;66;03m# Creating Encoder instnace and its connection with the src_input\u001B[39;00m\n\u001B[1;32m     16\u001B[0m encoder_layer \u001B[38;5;241m=\u001B[39m Encoder(units\u001B[38;5;241m=\u001B[39m E_UNITS,\n\u001B[1;32m     17\u001B[0m                         dropout_rate\u001B[38;5;241m=\u001B[39m E_DROPOUT_RATE,\n\u001B[1;32m     18\u001B[0m                         num_layers\u001B[38;5;241m=\u001B[39m E_NUM_LAYERS,\n\u001B[1;32m     19\u001B[0m                         batch\u001B[38;5;241m=\u001B[39m BATCH_SIZE,\n\u001B[1;32m     20\u001B[0m                         name\u001B[38;5;241m=\u001B[39m \u001B[38;5;124m'\u001B[39m\u001B[38;5;124mencoder_layer\u001B[39m\u001B[38;5;124m'\u001B[39m)\n\u001B[0;32m---> 21\u001B[0m encoder_output, encoder_hidden, encoder_carry \u001B[38;5;241m=\u001B[39m \u001B[43mencoder_layer\u001B[49m\u001B[43m(\u001B[49m\u001B[43msrc_embedding\u001B[49m\u001B[43m)\u001B[49m\n\u001B[1;32m     23\u001B[0m \u001B[38;5;66;03m# Creating Decoder instance and its connecton with both trg_input and encoder_output\u001B[39;00m\n\u001B[1;32m     24\u001B[0m decoder_layer \u001B[38;5;241m=\u001B[39m Decoder(units\u001B[38;5;241m=\u001B[39m D_UNITS,\n\u001B[1;32m     25\u001B[0m                         dropout_rate\u001B[38;5;241m=\u001B[39m D_DROPOUT_RATE,\n\u001B[1;32m     26\u001B[0m                         num_layers\u001B[38;5;241m=\u001B[39m D_NUM_LAYERS,\n\u001B[1;32m     27\u001B[0m                         name\u001B[38;5;241m=\u001B[39m \u001B[38;5;124m'\u001B[39m\u001B[38;5;124mdecoder_layer\u001B[39m\u001B[38;5;124m'\u001B[39m)\n",
      "File \u001B[0;32m~/PycharmProjects/EncoderDecoderExp/venv/lib/python3.10/site-packages/keras/src/utils/traceback_utils.py:122\u001B[0m, in \u001B[0;36mfilter_traceback.<locals>.error_handler\u001B[0;34m(*args, **kwargs)\u001B[0m\n\u001B[1;32m    119\u001B[0m     filtered_tb \u001B[38;5;241m=\u001B[39m _process_traceback_frames(e\u001B[38;5;241m.\u001B[39m__traceback__)\n\u001B[1;32m    120\u001B[0m     \u001B[38;5;66;03m# To get the full stack trace, call:\u001B[39;00m\n\u001B[1;32m    121\u001B[0m     \u001B[38;5;66;03m# `keras.config.disable_traceback_filtering()`\u001B[39;00m\n\u001B[0;32m--> 122\u001B[0m     \u001B[38;5;28;01mraise\u001B[39;00m e\u001B[38;5;241m.\u001B[39mwith_traceback(filtered_tb) \u001B[38;5;28;01mfrom\u001B[39;00m \u001B[38;5;28;01mNone\u001B[39;00m\n\u001B[1;32m    123\u001B[0m \u001B[38;5;28;01mfinally\u001B[39;00m:\n\u001B[1;32m    124\u001B[0m     \u001B[38;5;28;01mdel\u001B[39;00m filtered_tb\n",
      "Cell \u001B[0;32mIn[160], line 52\u001B[0m, in \u001B[0;36mEncoder.call\u001B[0;34m(self, inputs)\u001B[0m\n\u001B[1;32m     51\u001B[0m \u001B[38;5;28;01mdef\u001B[39;00m \u001B[38;5;21mcall\u001B[39m(\u001B[38;5;28mself\u001B[39m, inputs):\n\u001B[0;32m---> 52\u001B[0m     x \u001B[38;5;241m=\u001B[39m \u001B[38;5;28;43mself\u001B[39;49m\u001B[38;5;241;43m.\u001B[39;49m\u001B[43mbi_lstm_layer\u001B[49m\u001B[43m(\u001B[49m\u001B[43minputs\u001B[49m\u001B[43m)\u001B[49m\n\u001B[1;32m     53\u001B[0m     x, h, c \u001B[38;5;241m=\u001B[39m \u001B[38;5;28mself\u001B[39m\u001B[38;5;241m.\u001B[39mlstm_recurrent_layers[\u001B[38;5;241m0\u001B[39m](x, initial_state\u001B[38;5;241m=\u001B[39m [tf\u001B[38;5;241m.\u001B[39mzeros(shape\u001B[38;5;241m=\u001B[39m (\u001B[38;5;28mself\u001B[39m\u001B[38;5;241m.\u001B[39mbatch, \u001B[38;5;28mself\u001B[39m\u001B[38;5;241m.\u001B[39munits)), tf\u001B[38;5;241m.\u001B[39mzeros(shape\u001B[38;5;241m=\u001B[39m (\u001B[38;5;28mself\u001B[39m\u001B[38;5;241m.\u001B[39mbatch, \u001B[38;5;28mself\u001B[39m\u001B[38;5;241m.\u001B[39munits))])       \n\u001B[1;32m     54\u001B[0m     \u001B[38;5;28;01mfor\u001B[39;00m layer \u001B[38;5;129;01min\u001B[39;00m \u001B[38;5;28mself\u001B[39m\u001B[38;5;241m.\u001B[39mlstm_recurrent_layers:\n",
      "File \u001B[0;32m~/PycharmProjects/EncoderDecoderExp/venv/lib/python3.10/site-packages/optree/ops.py:594\u001B[0m, in \u001B[0;36mtree_map\u001B[0;34m(func, tree, is_leaf, none_is_leaf, namespace, *rests)\u001B[0m\n\u001B[1;32m    592\u001B[0m leaves, treespec \u001B[38;5;241m=\u001B[39m _C\u001B[38;5;241m.\u001B[39mflatten(tree, is_leaf, none_is_leaf, namespace)\n\u001B[1;32m    593\u001B[0m flat_args \u001B[38;5;241m=\u001B[39m [leaves] \u001B[38;5;241m+\u001B[39m [treespec\u001B[38;5;241m.\u001B[39mflatten_up_to(r) \u001B[38;5;28;01mfor\u001B[39;00m r \u001B[38;5;129;01min\u001B[39;00m rests]\n\u001B[0;32m--> 594\u001B[0m \u001B[38;5;28;01mreturn\u001B[39;00m \u001B[43mtreespec\u001B[49m\u001B[38;5;241;43m.\u001B[39;49m\u001B[43munflatten\u001B[49m\u001B[43m(\u001B[49m\u001B[38;5;28;43mmap\u001B[39;49m\u001B[43m(\u001B[49m\u001B[43mfunc\u001B[49m\u001B[43m,\u001B[49m\u001B[43m \u001B[49m\u001B[38;5;241;43m*\u001B[39;49m\u001B[43mflat_args\u001B[49m\u001B[43m)\u001B[49m\u001B[43m)\u001B[49m\n",
      "\u001B[0;31mRuntimeError\u001B[0m: Exception encountered when calling Encoder.call().\n\n\u001B[1mCould not automatically infer the output shape / dtype of 'encoder_layer' (of type Encoder). Either the `Encoder.call()` method is incorrect, or you need to implement the `Encoder.compute_output_spec() / compute_output_shape()` method. Error encountered:\n\nYou are attempting to create a variable while in a stateless scope. This is disallowed. Make sure that all variables are created before you start using your layer/model objects.\n\nIn some cases, you might be seeing this error because you need to implement a `def build(self, input_shape)` method on your layer/model, which will create its variables.\n\nIn some other cases, you might be seeing this error because you are instantiating a `Variable` and assigning it to a layer without going through self.add_variable()/self.add_weight(). Always prefer using these methods (with a `shape` and `initializer` argument).\u001B[0m\n\nArguments received by Encoder.call():\n  • args=('<KerasTensor shape=(128, 17, 128), dtype=float32, sparse=False, name=keras_tensor_61>',)\n  • kwargs=<class 'inspect._empty'>"
     ]
    }
   ],
   "execution_count": 162
  },
  {
   "metadata": {
    "ExecuteTime": {
     "end_time": "2024-04-10T04:39:22.287177Z",
     "start_time": "2024-04-10T04:39:22.287128Z"
    }
   },
   "cell_type": "code",
   "source": "tf.keras.utils.plot_model(model, show_layer_names= True)",
   "id": "18828e363ee3b3e1",
   "outputs": [],
   "execution_count": null
  },
  {
   "cell_type": "markdown",
   "source": [
    "### Create Data Pipeline\n",
    "\n",
    "Our model has been created with all the components being connected with each other. Now our next agenda is to create a smooth data pipeline using `tf.data` API which will help us create a prefetch data which will utilise both CPU and GPU for data handling during model training. This will give us an advantage over the performance of the model."
   ],
   "metadata": {
    "collapsed": false
   },
   "id": "2266b292296397b6"
  },
  {
   "metadata": {},
   "cell_type": "code",
   "source": "trg_train_output = [\" \".join(sentence.split(\" \")[1:]) for sentence in trg_train]",
   "id": "2dfb3d069f9a5f7",
   "outputs": [],
   "execution_count": null
  },
  {
   "metadata": {},
   "cell_type": "code",
   "source": [
    "train_data = tf.data.Dataset.from_tensor_slices((src_train, trg_train))\n",
    "train_labels = tf.data.Dataset.from_tensor_slices(trg_text_vectorizer_layer(trg_train_output))\n",
    "train_dataset = tf.data.Dataset.zip((train_data, train_labels)).batch(128).prefetch(tf.data.AUTOTUNE)\n",
    "valid_data = tf.data.Dataset.from_tensor_slices((src_test, ['<SOS>' for _ in range(len(trg_test))]))\n",
    "valid_label = tf.data.Dataset.from_tensor_slices(trg_text_vectorizer_layer(trg_test))\n",
    "valid_dataset = tf.data.Dataset.zip(valid_data, valid_label).batch(128).prefetch(tf.data.AUTOTUNE)"
   ],
   "id": "b3166e1a16eea58d",
   "outputs": [],
   "execution_count": null
  },
  {
   "cell_type": "markdown",
   "source": [
    "### Fit the model\n",
    "\n",
    "We have created the dataset with `tf.data` API and have also created valid dataset with the type of inputs we are going to provide during inference time so that we receive the real time val_loss"
   ],
   "metadata": {
    "collapsed": false
   },
   "id": "f0179c38bd36ef20"
  },
  {
   "metadata": {
    "ExecuteTime": {
     "end_time": "2024-04-10T04:39:28.399345Z",
     "start_time": "2024-04-10T04:39:28.379218Z"
    }
   },
   "cell_type": "code",
   "source": [
    "with tf.device('/gpu:0'):    \n",
    "    history = model.fit(train_dataset,\n",
    "                  epochs= 100,\n",
    "                  validation_data=valid_dataset,\n",
    "                  verbose= 1,\n",
    "                  callbacks= [tf.keras.callbacks.EarlyStopping(monitor= 'val_loss', patience= 3, verbose= 1),\n",
    "                              tf.keras.callbacks.ReduceLROnPlateau(monitor= 'val_loss', patience= 2, verbose= 1),\n",
    "                              tf.keras.callbacks.ModelCheckpoint(model.name + 'v1.1.keras', monitor= 'val_loss', save_best_only= True)])"
   ],
   "id": "bb5af6664a4986af",
   "outputs": [
    {
     "ename": "NameError",
     "evalue": "name 'model' is not defined",
     "output_type": "error",
     "traceback": [
      "\u001B[0;31m---------------------------------------------------------------------------\u001B[0m",
      "\u001B[0;31mNameError\u001B[0m                                 Traceback (most recent call last)",
      "Cell \u001B[0;32mIn[100], line 2\u001B[0m\n\u001B[1;32m      1\u001B[0m \u001B[38;5;28;01mwith\u001B[39;00m tf\u001B[38;5;241m.\u001B[39mdevice(\u001B[38;5;124m'\u001B[39m\u001B[38;5;124m/gpu:0\u001B[39m\u001B[38;5;124m'\u001B[39m):    \n\u001B[0;32m----> 2\u001B[0m     history \u001B[38;5;241m=\u001B[39m \u001B[43mmodel\u001B[49m\u001B[38;5;241m.\u001B[39mfit(train_dataset,\n\u001B[1;32m      3\u001B[0m                   epochs\u001B[38;5;241m=\u001B[39m \u001B[38;5;241m100\u001B[39m,\n\u001B[1;32m      4\u001B[0m                   validation_data\u001B[38;5;241m=\u001B[39mvalid_dataset,\n\u001B[1;32m      5\u001B[0m                   verbose\u001B[38;5;241m=\u001B[39m \u001B[38;5;241m1\u001B[39m,\n\u001B[1;32m      6\u001B[0m                   callbacks\u001B[38;5;241m=\u001B[39m [tf\u001B[38;5;241m.\u001B[39mkeras\u001B[38;5;241m.\u001B[39mcallbacks\u001B[38;5;241m.\u001B[39mEarlyStopping(monitor\u001B[38;5;241m=\u001B[39m \u001B[38;5;124m'\u001B[39m\u001B[38;5;124mval_loss\u001B[39m\u001B[38;5;124m'\u001B[39m, patience\u001B[38;5;241m=\u001B[39m \u001B[38;5;241m3\u001B[39m, verbose\u001B[38;5;241m=\u001B[39m \u001B[38;5;241m1\u001B[39m),\n\u001B[1;32m      7\u001B[0m                               tf\u001B[38;5;241m.\u001B[39mkeras\u001B[38;5;241m.\u001B[39mcallbacks\u001B[38;5;241m.\u001B[39mReduceLROnPlateau(monitor\u001B[38;5;241m=\u001B[39m \u001B[38;5;124m'\u001B[39m\u001B[38;5;124mval_loss\u001B[39m\u001B[38;5;124m'\u001B[39m, patience\u001B[38;5;241m=\u001B[39m \u001B[38;5;241m2\u001B[39m, verbose\u001B[38;5;241m=\u001B[39m \u001B[38;5;241m1\u001B[39m),\n\u001B[1;32m      8\u001B[0m                               tf\u001B[38;5;241m.\u001B[39mkeras\u001B[38;5;241m.\u001B[39mcallbacks\u001B[38;5;241m.\u001B[39mModelCheckpoint(model\u001B[38;5;241m.\u001B[39mname \u001B[38;5;241m+\u001B[39m \u001B[38;5;124m'\u001B[39m\u001B[38;5;124m.keras\u001B[39m\u001B[38;5;124m'\u001B[39m, monitor\u001B[38;5;241m=\u001B[39m \u001B[38;5;124m'\u001B[39m\u001B[38;5;124mval_loss\u001B[39m\u001B[38;5;124m'\u001B[39m, save_best_only\u001B[38;5;241m=\u001B[39m \u001B[38;5;28;01mTrue\u001B[39;00m)])\n",
      "\u001B[0;31mNameError\u001B[0m: name 'model' is not defined"
     ]
    }
   ],
   "execution_count": 100
  },
  {
   "metadata": {},
   "cell_type": "code",
   "source": [
    "# Plotting the history of the model\n",
    "plt.figure()\n",
    "plt.plot(history.history['loss'], label='Training loss')\n",
    "plt.plot(history.history['val_loss'], label='Validation loss')\n",
    "plt.legend()"
   ],
   "id": "3f0ecdf3051ea72d",
   "outputs": [],
   "execution_count": null
  },
  {
   "cell_type": "markdown",
   "source": [
    "### Evaluate model Performance\n",
    "\n",
    "Let's evaluate the model performance"
   ],
   "metadata": {
    "collapsed": false
   },
   "id": "a9f9847f3fcba8cd"
  },
  {
   "metadata": {},
   "cell_type": "code",
   "source": [
    "# Loading the best weights \n",
    "model.load_weights('EncoderDecoderNMT.keras')\n",
    "# Evaluate the model\n",
    "# model.evaluate(valid_dataset, verbose= 1)"
   ],
   "id": "f367b50b4d77f14",
   "outputs": [],
   "execution_count": null
  },
  {
   "cell_type": "markdown",
   "source": [
    "### Making Predictions using the best model trained\n",
    "\n",
    "Making predictions over the unseen data"
   ],
   "metadata": {
    "collapsed": false
   },
   "id": "b7b2bd1cb7fbf1dc"
  },
  {
   "metadata": {},
   "cell_type": "code",
   "source": [
    "model_preds = model.predict([tf.expand_dims(src_test[0], axis=0), tf.expand_dims(' ', axis=0)])\n",
    "# model_preds = tf.argmax(model_preds, axis=-1)\n",
    "model_preds"
   ],
   "id": "958fce59a197a27b",
   "outputs": [],
   "execution_count": null
  },
  {
   "metadata": {},
   "cell_type": "code",
   "source": [
    "max_value = tf.reduce_max(model_preds[0][3])\n",
    "for i, pred in enumerate(model_preds[0][3]):\n",
    "    if pred == max_value:\n",
    "        print(i)\n",
    "        break"
   ],
   "id": "f4722815ad6e8128",
   "outputs": [],
   "execution_count": null
  }
 ],
 "metadata": {
  "kernelspec": {
   "display_name": "Python 3",
   "language": "python",
   "name": "python3"
  },
  "language_info": {
   "codemirror_mode": {
    "name": "ipython",
    "version": 2
   },
   "file_extension": ".py",
   "mimetype": "text/x-python",
   "name": "python",
   "nbconvert_exporter": "python",
   "pygments_lexer": "ipython2",
   "version": "2.7.6"
  }
 },
 "nbformat": 4,
 "nbformat_minor": 5
}
