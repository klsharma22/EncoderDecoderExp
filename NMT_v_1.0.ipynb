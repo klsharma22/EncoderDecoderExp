{
 "cells": [
  {
   "cell_type": "markdown",
   "source": [
    "# Creating a mind map before getting into action\n",
    "\n",
    "So after coming across from the mistakes before this notebook, let's plan what all things we need to do so that we perform the crucial steps needed for the NMT to make with all the proper components and the preprocessed data.\n",
    "\n",
    "**Data Preprocessing Actions**:\n",
    "1. Shift the target texts.\n",
    "2. Pad the text with proper annotations.\n",
    "\n",
    "**Components of the model**:\n",
    "1. Create *text vectors* of both source and target language separately using TensorFlow `TextVectorization` layer.\n",
    "2. Create *embedding layers* of both source and target language separately using TensorFlow `Embedding` layer.\n",
    "3. Create a class known *Encoder* which inherits the properties of TensorFlow class `Layer`. In the sub-class method of creating a layer, we are going to develop the encoder architecture of the NMT. (The architecture will be discussed while we are developing the layer.)\n",
    "4. Create a class known as *Decoder* which inherits the properties of TensorFlow class `Layer`. In this sub-class method of creating a layer, we are going to develop the decoder architecture of the NMT. (The architecture will be discussed while we are developing the layer.)\n",
    "5. After creating all the components, we are going to create a class called *EncoderDecoder* which will inherit from TensorFlow class `Model`. In this class we will assemble all of the layers that we have prepared in the above steps and then create a custom call function which will allow us to train the decoder layer as we expect it to do.\n",
    "6. Create an instance of the *EncoderDecoder* class with all the parameters passed in its constructor and compile the model with `tf.keras.losses.SparseCategoricalCrossentropy()` as loss function and `tf.keras.optimizers.RMSprop()` as the optimizer.\n",
    "7. We will then create the *train_dataset* and *valid_dataset* using TensorFlow `tf.data` API for better performance of the model training.\n",
    "8. We will fit the model with the training data with 5 epochs and *callbacks* such as `tf.keras.callbacks.ModelCheckPoint`, `tf.keras.callbacks.EarlyStopping`, `tf.keras.callbacks.ReduceLROnPlateau` and the validation dataset.\n",
    "9. After training the model we will evaluate the model using different metrics system and predict with an unseen data and observe the quality of the prediction."
   ],
   "metadata": {
    "collapsed": false
   },
   "id": "1e240db960ed8729"
  },
  {
   "cell_type": "markdown",
   "source": [
    "# Importing all the necessary libraries"
   ],
   "metadata": {
    "collapsed": false
   },
   "id": "c9430d4d813aceb5"
  },
  {
   "cell_type": "code",
   "source": [
    "import tensorflow as tf\n",
    "import numpy as np\n",
    "import pandas as pd\n",
    "from sklearn.model_selection import train_test_split\n",
    "import matplotlib.pyplot as plt\n",
    "import os\n",
    "import tarfile\n",
    "import random"
   ],
   "metadata": {
    "collapsed": false,
    "ExecuteTime": {
     "end_time": "2024-04-08T13:58:22.935283Z",
     "start_time": "2024-04-08T13:58:22.933040Z"
    }
   },
   "id": "bfdf0bb37b8c825a",
   "outputs": [],
   "execution_count": 24
  },
  {
   "cell_type": "markdown",
   "source": [
    "# Start the project\n",
    "\n",
    "As all machine learning project has two phases, this is project is no exception for it. We will first work on the *Data Preprocessing* and then *Model Development*"
   ],
   "metadata": {
    "collapsed": false
   },
   "id": "64a05be9d25b00fc"
  },
  {
   "cell_type": "markdown",
   "source": [
    "## Data Preprocessing"
   ],
   "metadata": {
    "collapsed": false
   },
   "id": "2f9de603448c9b31"
  },
  {
   "cell_type": "code",
   "source": [
    "# Creating a constant which contains the starting path of the project so that\n",
    "START_PATH = str(os.getcwd()) + '/'\n",
    "COMP_DATA_PATH = os.path.join(START_PATH, 'wiki-titles.tgz')\n",
    "DATA_URL = 'https://www.statmt.org/wmt14/wiki-titles.tgz'\n",
    "DATA_DIR = os.path.join(START_PATH, 'wiki/hi-en/wiki-titles.hi-en')"
   ],
   "metadata": {
    "collapsed": false,
    "ExecuteTime": {
     "end_time": "2024-04-08T13:58:23.001946Z",
     "start_time": "2024-04-08T13:58:22.999620Z"
    }
   },
   "id": "e37d49d18a6631f1",
   "outputs": [],
   "execution_count": 25
  },
  {
   "cell_type": "markdown",
   "source": [
    "### Loading Data"
   ],
   "metadata": {
    "collapsed": false
   },
   "id": "9eaef38bbde5b36b"
  },
  {
   "cell_type": "code",
   "source": [
    "if not os.path.exists(COMP_DATA_PATH):\n",
    "    print(f'Downloading data from {DATA_URL}')\n",
    "    !wget https://www.statmt.org/wmt14/wiki-titles.tgz\n",
    "else:\n",
    "    print(\"Data already downloaded\")"
   ],
   "metadata": {
    "collapsed": false,
    "ExecuteTime": {
     "end_time": "2024-04-08T13:58:23.007854Z",
     "start_time": "2024-04-08T13:58:23.005343Z"
    }
   },
   "id": "43050224ec71df74",
   "outputs": [
    {
     "name": "stdout",
     "output_type": "stream",
     "text": [
      "Data already downloaded\n"
     ]
    }
   ],
   "execution_count": 26
  },
  {
   "cell_type": "code",
   "source": [
    "if not os.path.exists(COMP_DATA_PATH):\n",
    "    print(\"File does not exist\")\n",
    "else:\n",
    "    print(\"The file exists\")"
   ],
   "metadata": {
    "collapsed": false,
    "ExecuteTime": {
     "end_time": "2024-04-08T13:58:23.011102Z",
     "start_time": "2024-04-08T13:58:23.008908Z"
    }
   },
   "id": "5f1139795316c182",
   "outputs": [
    {
     "name": "stdout",
     "output_type": "stream",
     "text": [
      "The file exists\n"
     ]
    }
   ],
   "execution_count": 27
  },
  {
   "cell_type": "code",
   "source": [
    "with tarfile.open(COMP_DATA_PATH, 'r') as tar_ref:\n",
    "    tar_ref.extractall()\n",
    "    print(\"File extracted\")"
   ],
   "metadata": {
    "collapsed": false,
    "ExecuteTime": {
     "end_time": "2024-04-08T13:58:23.130367Z",
     "start_time": "2024-04-08T13:58:23.022017Z"
    }
   },
   "id": "a0c519a809d4a9ae",
   "outputs": [
    {
     "name": "stdout",
     "output_type": "stream",
     "text": [
      "File extracted\n"
     ]
    }
   ],
   "execution_count": 28
  },
  {
   "cell_type": "markdown",
   "source": [
    "### Extracting data from file "
   ],
   "metadata": {
    "collapsed": false
   },
   "id": "c5f8236ca4c75de5"
  },
  {
   "cell_type": "code",
   "source": [
    "# Extracting the lines from the file of the dataset\n",
    "with open(DATA_DIR, 'r') as f:\n",
    "    lines = f.readlines()"
   ],
   "metadata": {
    "collapsed": false,
    "ExecuteTime": {
     "end_time": "2024-04-08T13:58:23.138271Z",
     "start_time": "2024-04-08T13:58:23.131436Z"
    }
   },
   "id": "8706972bebef0f20",
   "outputs": [],
   "execution_count": 29
  },
  {
   "cell_type": "code",
   "source": [
    "# Splitting the data into two list of source language and target language\n",
    "src_senteces = [line.split('|||')[1][1:-1] for line in lines]\n",
    "trg_sentences = [line.split('|||')[0][:-1] for line in lines]\n",
    "src_senteces[:10], trg_sentences[:10], len(src_senteces), len(trg_sentences)"
   ],
   "metadata": {
    "collapsed": false,
    "ExecuteTime": {
     "end_time": "2024-04-08T13:58:23.153702Z",
     "start_time": "2024-04-08T13:58:23.139002Z"
    }
   },
   "id": "1878ae100a6b426f",
   "outputs": [
    {
     "data": {
      "text/plain": [
       "(['January 0',\n",
       "  'March 0',\n",
       "  '1000',\n",
       "  '1001',\n",
       "  '1002',\n",
       "  '1003',\n",
       "  '1004',\n",
       "  '1005',\n",
       "  '1006',\n",
       "  '1007'],\n",
       " ['० जनवरी',\n",
       "  '० मार्च',\n",
       "  '१०००',\n",
       "  '१००१',\n",
       "  '१००२',\n",
       "  '१००३',\n",
       "  '१००४',\n",
       "  '१००५',\n",
       "  '१००६',\n",
       "  '१००७'],\n",
       " 32863,\n",
       " 32863)"
      ]
     },
     "execution_count": 30,
     "metadata": {},
     "output_type": "execute_result"
    }
   ],
   "execution_count": 30
  },
  {
   "cell_type": "markdown",
   "source": [
    "### Visualise the data"
   ],
   "metadata": {
    "collapsed": false
   },
   "id": "d9c90fb2692dc8df"
  },
  {
   "cell_type": "code",
   "source": [
    "def visualise_random_sentences(src_sent, trg_sent):    \n",
    "    random_idx = random.randint(0, len(src_sent))\n",
    "    \n",
    "    print(f\"Source sentence: {src_sent[random_idx]}\")\n",
    "    print(f\"Target sentence: {trg_sent[random_idx]}\")\n",
    "    \n",
    "visualise_random_sentences(src_sent= src_senteces,\n",
    "                    trg_sent= trg_sentences)"
   ],
   "metadata": {
    "collapsed": false,
    "ExecuteTime": {
     "end_time": "2024-04-08T13:58:23.157247Z",
     "start_time": "2024-04-08T13:58:23.154994Z"
    }
   },
   "id": "36e32e67bba57146",
   "outputs": [
    {
     "name": "stdout",
     "output_type": "stream",
     "text": [
      "Source sentence: Flag of Honduras\n",
      "Target sentence: होंडुरास का ध्वज\n"
     ]
    }
   ],
   "execution_count": 31
  },
  {
   "cell_type": "markdown",
   "source": [
    "### Shift the target data with one token"
   ],
   "metadata": {
    "collapsed": false
   },
   "id": "fd558fc2e24c14d4"
  },
  {
   "cell_type": "code",
   "source": [
    "trg_sentences_preprocessed = ['<SOS> ' + sentence + ' <EOS>' for sentence in trg_sentences]\n",
    "visualise_random_sentences(src_sent= src_senteces,\n",
    "                           trg_sent= trg_sentences_preprocessed)"
   ],
   "metadata": {
    "collapsed": false,
    "ExecuteTime": {
     "end_time": "2024-04-08T13:58:23.162515Z",
     "start_time": "2024-04-08T13:58:23.158183Z"
    }
   },
   "id": "9c752ba428dc9646",
   "outputs": [
    {
     "name": "stdout",
     "output_type": "stream",
     "text": [
      "Source sentence: 1245\n",
      "Target sentence: <SOS> १२४५ <EOS>\n"
     ]
    }
   ],
   "execution_count": 32
  },
  {
   "cell_type": "code",
   "source": [
    "# Calculate the max length of the text for each language lists\n",
    "src_word_per_sentence = [len(line.split()) for line in src_senteces]\n",
    "trg_word_per_sentence = [len(line.split()) for line in trg_sentences_preprocessed]\n",
    "\n",
    "max_src_len = max(src_word_per_sentence)\n",
    "max_trg_len = max(trg_word_per_sentence)\n",
    "\n",
    "print(f\"Max source sentence length: {max_src_len}\")\n",
    "print(f\"Max target sentence length: {max_trg_len}\")"
   ],
   "metadata": {
    "collapsed": false,
    "ExecuteTime": {
     "end_time": "2024-04-08T13:58:23.175542Z",
     "start_time": "2024-04-08T13:58:23.163402Z"
    }
   },
   "id": "86d7ec2f1690e76",
   "outputs": [
    {
     "name": "stdout",
     "output_type": "stream",
     "text": [
      "Max source sentence length: 13\n",
      "Max target sentence length: 17\n"
     ]
    }
   ],
   "execution_count": 33
  },
  {
   "metadata": {
    "ExecuteTime": {
     "end_time": "2024-04-08T13:58:23.201388Z",
     "start_time": "2024-04-08T13:58:23.176543Z"
    }
   },
   "cell_type": "code",
   "source": [
    "# Storing vocab\n",
    "src_vocab, trg_vocab = set(), set()\n",
    "for sentence in src_senteces:\n",
    "    for word in sentence.split():\n",
    "        src_vocab.add(word)\n",
    "        \n",
    "for sentence in trg_sentences:\n",
    "    for word in sentence.split():\n",
    "        trg_vocab.add(word)\n",
    "        \n",
    "len(src_vocab), len(trg_vocab)"
   ],
   "id": "66b0de55d8d0b6ab",
   "outputs": [
    {
     "data": {
      "text/plain": [
       "(28851, 29073)"
      ]
     },
     "execution_count": 34,
     "metadata": {},
     "output_type": "execute_result"
    }
   ],
   "execution_count": 34
  },
  {
   "metadata": {
    "ExecuteTime": {
     "end_time": "2024-04-08T13:58:23.215488Z",
     "start_time": "2024-04-08T13:58:23.202238Z"
    }
   },
   "cell_type": "code",
   "source": [
    "# Splitting the data into train and test\n",
    "src_train, src_test, trg_train, trg_test = train_test_split(src_senteces, trg_sentences_preprocessed, test_size=0.2, random_state= 42)\n",
    "\n",
    "len(src_train), len(trg_train), len(src_test), len(trg_test)"
   ],
   "id": "6333b37f1a6ec396",
   "outputs": [
    {
     "data": {
      "text/plain": [
       "(26290, 26290, 6573, 6573)"
      ]
     },
     "execution_count": 35,
     "metadata": {},
     "output_type": "execute_result"
    }
   ],
   "execution_count": 35
  },
  {
   "cell_type": "markdown",
   "source": [
    ">**Note**: Padding of the data will be done after vectorising the text data"
   ],
   "metadata": {
    "collapsed": false
   },
   "id": "2e5640df1a236aa"
  },
  {
   "cell_type": "markdown",
   "source": [
    "## Model development\n",
    "\n",
    "We have completed the data preprocessing of the data and are ready to develop the model. Let's discuss the steps we are going to take for it:\n",
    "1. Create individual components\n",
    "2. Assemble the model\n",
    "3. Create Data Pipeline\n",
    "4. Fit the model\n",
    "5. Evaluate the model\n",
    "6. Predict using the model"
   ],
   "metadata": {
    "collapsed": false
   },
   "id": "96e38c8a72bd5d08"
  },
  {
   "cell_type": "markdown",
   "source": [
    "### Creating Components\n",
    "\n",
    "Before starting with the model, first we need to create some building blocks for the Encoder Decoder archtiecture of NMT. The components that we are going to make here are:\n",
    "1. Encode layer:\n",
    "        * *Inheritance*: `tf.keras.layers.Layer`\n",
    "        * *Constructor Input*: \n",
    "        * *Call function Input*: src_sentences\n",
    "        * *Return*: Encoder output, RNN layer states\n",
    "2. Decoder layer:\n",
    "        * *Inheritance*: `tf.keras.layers.Layer`\n",
    "        * *Constructor Input*: \n",
    "        * *Call function Input*: trg_sentences_preprocessed, context, encoder_states\n",
    "        * *Return*: RNN output"
   ],
   "metadata": {
    "collapsed": false
   },
   "id": "4feaa32e6d6dc13b"
  },
  {
   "cell_type": "code",
   "source": [
    "# Creation of Encoder layer class\n",
    "class Encoder(tf.keras.layers.Layer):\n",
    "    '''\n",
    "    This class creates a custom encoder layer based on the Google's research paper of NMT.\n",
    "    For more reference please view https://arxiv.org/pdf/1609.08144.pdf%20(7\n",
    "    \n",
    "    This class is an inheritied class from `tf.keras.layers.Layer`. In this class, we will create the constructor\n",
    "    of the encoder layer and then define the call function so that we can set the working of the encoder layer using \n",
    "    Functional API.\n",
    "    '''\n",
    "    \n",
    "    def __init__(self, units: int, dropout_rate: float, num_layers: int, **kwargs):\n",
    "        '''\n",
    "        Constructs the encoder\n",
    "        \n",
    "        Parameters:\n",
    "            units: Nuumber of neurons required per LSTM layer\n",
    "            dropout_rate: to set the dropout rate\n",
    "            num_layers: to set the number of encoding layer\n",
    "        Returns:\n",
    "            An instance of Encoder class which works as the encoder described in the research paper\n",
    "        '''\n",
    "        \n",
    "        # calling the super method to initialise\n",
    "        super().__init__(**kwargs)\n",
    "        \n",
    "        # initialising all the object variables\n",
    "        self.units = units\n",
    "        self.dropout_rate = dropout_rate\n",
    "        self.num_layers = num_layers\n",
    "        \n",
    "        # initialise the layers\n",
    "        self.bi_lstm_layer = tf.keras.layers.Bidirectional(tf.keras.layers.LSTM(units= self.units // 2,\n",
    "                                                                                return_sequences=True,\n",
    "                                                                                dropout=self.dropout_rate),\n",
    "                                                           name= 'encoder_bi_lstm_layer')\n",
    "        \n",
    "        self.lstm_recurrent_layers = []\n",
    "        for i in range(self.num_layers - 1):\n",
    "            self.lstm_recurrent_layers.append(tf.keras.layers.LSTM(units= self.units,\n",
    "                                                         return_sequences=True,\n",
    "                                                         return_state=True,\n",
    "                                                         dropout=self.dropout_rate,\n",
    "                                                         name= f'encoder_lstm_recurrent_layer_{i + 1}'))\n",
    "        self.add_layer = tf.keras.layers.Add()\n",
    "    \n",
    "    def call(self, inputs):\n",
    "        x = self.bi_lstm_layer(inputs)\n",
    "        x, h, c = self.lstm_recurrent_layers[0](x)\n",
    "        x = self.add_layer([x, h, c])\n",
    "        for layer in self.lstm_recurrent_layers:\n",
    "            x, h, c = layer(x)\n",
    "            x = self.add_layer([x, h, c])\n",
    "        \n",
    "        return x, h, c\n",
    "    \n",
    "encoder_layer = Encoder(units= 512, \n",
    "                        dropout_rate= 0.5,\n",
    "                        name= 'encoder_layer',\n",
    "                        num_layers= 8)\n",
    "encoder_layer.get_config()"
   ],
   "metadata": {
    "collapsed": false,
    "ExecuteTime": {
     "end_time": "2024-04-08T13:58:23.235718Z",
     "start_time": "2024-04-08T13:58:23.216466Z"
    }
   },
   "id": "cbf34e085cf398ec",
   "outputs": [
    {
     "data": {
      "text/plain": [
       "{'name': 'encoder_layer',\n",
       " 'units': 512,\n",
       " 'dropout_rate': 0.5,\n",
       " 'num_layers': 8,\n",
       " 'trainable': True,\n",
       " 'dtype': 'float32'}"
      ]
     },
     "execution_count": 36,
     "metadata": {},
     "output_type": "execute_result"
    }
   ],
   "execution_count": 36
  },
  {
   "cell_type": "code",
   "source": [
    "# Checking the functionality of the layer using dummy values\n",
    "encoder_output, encoder_hidden, encoder_carry = encoder_layer(tf.random.uniform(shape=(10, 17, 128)))\n",
    "encoder_output.shape, encoder_hidden.shape, encoder_carry.shape"
   ],
   "metadata": {
    "collapsed": false,
    "ExecuteTime": {
     "end_time": "2024-04-08T13:58:24.393919Z",
     "start_time": "2024-04-08T13:58:23.237619Z"
    }
   },
   "id": "74724396ff40e996",
   "outputs": [
    {
     "data": {
      "text/plain": [
       "(TensorShape([10, 17, 512]), TensorShape([10, 512]), TensorShape([10, 512]))"
      ]
     },
     "execution_count": 37,
     "metadata": {},
     "output_type": "execute_result"
    }
   ],
   "execution_count": 37
  },
  {
   "cell_type": "code",
   "source": [
    "# Create Decoder class\n",
    "class Decoder(tf.keras.layers.Layer):\n",
    "    '''\n",
    "    This class creates is for an instance of Decoder layer. This inherits the properties of `tf.keras.layers.Layer`.\n",
    "    We are going to create the constructor and the call function which will contain the Functional API structure\n",
    "    of computing the values which is the input.\n",
    "    \n",
    "    This layer is refered from the above mentioned paper.\n",
    "    '''\n",
    "    \n",
    "    def __init__(self, units: int, num_layers: int, dropout_rate: float, **kwargs):\n",
    "        '''\n",
    "        Constructor of the decoder class which helps initialize the variables and create the layer\n",
    "        Parameters:\n",
    "            units: number of neurons in the LSTM layer\n",
    "            num_layers: number of layers expected in the decoder layer\n",
    "            embedding_size: to set the input value of the layer\n",
    "            dropout_rate: to set the dropout rate of the LSTM layer\n",
    "            \n",
    "        Returns:\n",
    "            An instance of the decoder class which will act as a layer\n",
    "        '''\n",
    "        \n",
    "        # calling the super function\n",
    "        super().__init__(**kwargs)\n",
    "        \n",
    "        # initialising all the variables\n",
    "        self.units = units\n",
    "        self.num_layers = num_layers\n",
    "        self.dropout_rate = dropout_rate\n",
    "        self.encoder_layer = encoder_layer\n",
    "        \n",
    "        # initialising the layers\n",
    "        # self.lstm_cell = tf.keras.layers.LSTMCell(units= self.units,\n",
    "        #                                           name= 'decoder_lstm_cell')\n",
    "        self.lstm_layers = []\n",
    "        for i in range(self.num_layers):\n",
    "            self.lstm_layers.append(tf.keras.layers.LSTM(units= self.units,\n",
    "                                                          return_sequences=True,\n",
    "                                                         return_state=True,\n",
    "                                                         dropout=self.dropout_rate,\n",
    "                                                          name= f'decoder_lstm_layer_{i}'))\n",
    "            self.add_layer = tf.keras.layers.Add()\n",
    "            self.attention_layer = tf.keras.layers.Attention()\n",
    "    \n",
    "    def call(self, inputs, encoder_output):\n",
    "        x, _, _ = self.lstm_layers[0](inputs)\n",
    "        x = self.attention_layer([x, encoder_output])\n",
    "        # print(context.shape)\n",
    "        x, h, c = self.lstm_layers[1](x)\n",
    "        x = self.add_layer([x, h, c])\n",
    "        for layer in self.lstm_layers[2:]:\n",
    "            x, h, c = layer(x)\n",
    "            x = self.add_layer([x, h, c])\n",
    "        \n",
    "        \n",
    "        return  x\n",
    "        \n",
    "decoder_layer = Decoder(units= 512,\n",
    "                        num_layers= 8,\n",
    "                        dropout_rate= 0.5)\n",
    "decoder_layer.get_config()     "
   ],
   "metadata": {
    "collapsed": false,
    "ExecuteTime": {
     "end_time": "2024-04-08T13:58:24.409900Z",
     "start_time": "2024-04-08T13:58:24.394725Z"
    }
   },
   "id": "1d1819ef306c596e",
   "outputs": [
    {
     "data": {
      "text/plain": [
       "{'name': 'decoder_1',\n",
       " 'units': 512,\n",
       " 'num_layers': 8,\n",
       " 'dropout_rate': 0.5,\n",
       " 'trainable': True,\n",
       " 'dtype': 'float32'}"
      ]
     },
     "execution_count": 38,
     "metadata": {},
     "output_type": "execute_result"
    }
   ],
   "execution_count": 38
  },
  {
   "cell_type": "code",
   "source": [
    "# Testing decoder layer\n",
    "decoder_output = decoder_layer(tf.random.uniform(shape= (10, 17, 128)), encoder_output= encoder_output)\n",
    "print(decoder_output.shape)"
   ],
   "metadata": {
    "collapsed": false,
    "ExecuteTime": {
     "end_time": "2024-04-08T13:58:25.287424Z",
     "start_time": "2024-04-08T13:58:24.410511Z"
    }
   },
   "id": "1b93f07282625874",
   "outputs": [
    {
     "name": "stdout",
     "output_type": "stream",
     "text": [
      "(10, 17, 512)\n"
     ]
    },
    {
     "name": "stderr",
     "output_type": "stream",
     "text": [
      "/Users/klsharma22/PycharmProjects/EncoderDecoderExp/venv/lib/python3.10/site-packages/keras/src/layers/layer.py:357: UserWarning: `build()` was called on layer 'decoder_1', however the layer does not have a `build()` method implemented and it looks like it has unbuilt state. This will cause the layer to be marked as built, despite not being actually built, which may cause failures down the line. Make sure to implement a proper `build()` method.\n",
      "  warnings.warn(\n"
     ]
    }
   ],
   "execution_count": 39
  },
  {
   "cell_type": "markdown",
   "source": [
    "### Assemble Components into Model\n",
    "\n",
    "We have created the components that we require for the Encoder Decoder NMT. The components are as follows:\n",
    "1. Encoder layer\n",
    "2. Decoder layer with attention layer\n",
    "\n",
    "Now in the below cell we are going to assemble all the parts in this order:\n",
    "1. Source input layer\n",
    "2. Source Text Vectorizer layer\n",
    "3. Source Embedding layer\n",
    "4. Encoder layer\n",
    "5. Target input layer\n",
    "6. Target Text Vectorizer layer\n",
    "7. Target Embedding layer\n",
    "8. Decoder layer\n",
    "9. Final dense softmax layer with target vocab size as output"
   ],
   "metadata": {
    "collapsed": false
   },
   "id": "7919e25a54c6e23a"
  },
  {
   "metadata": {
    "ExecuteTime": {
     "end_time": "2024-04-08T13:58:25.379672Z",
     "start_time": "2024-04-08T13:58:25.288330Z"
    }
   },
   "cell_type": "code",
   "source": [
    "# Creating Text Vectorizer layer\n",
    "src_text_vectorizer_layer = tf.keras.layers.TextVectorization(max_tokens= len(src_vocab),\n",
    "                                                            pad_to_max_tokens= True,\n",
    "                                                            output_sequence_length= max(max_src_len, max_trg_len),\n",
    "                                                              name= 'src_text_vectorization_layer')\n",
    "trg_text_vectorizer_layer = tf.keras.layers.TextVectorization(max_tokens= len(trg_vocab),\n",
    "                                                            pad_to_max_tokens= True,\n",
    "                                                            output_sequence_length= max(max_trg_len, max_src_len),\n",
    "                                                              name= 'trg_text_vectorization_layer')\n",
    "\n",
    "# Adapting the vectorizer\n",
    "src_text_vectorizer_layer.adapt(src_train)\n",
    "trg_text_vectorizer_layer.adapt(trg_train)"
   ],
   "id": "23b7a43ba71f210f",
   "outputs": [],
   "execution_count": 40
  },
  {
   "metadata": {
    "ExecuteTime": {
     "end_time": "2024-04-08T13:58:25.391552Z",
     "start_time": "2024-04-08T13:58:25.380643Z"
    }
   },
   "cell_type": "code",
   "source": [
    "# Testing the text vectorizer\n",
    "random_idx = random.randint(0, len(src_train))\n",
    "\n",
    "print(f\"Src Text: {src_train[random_idx]}\")\n",
    "print(f\"Src Vector: {src_text_vectorizer_layer(src_train[random_idx])}\")\n",
    "print(f\"Trg Text: {trg_train[random_idx]}\")\n",
    "print(f\"Trg Vector: {trg_text_vectorizer_layer(trg_train[random_idx])}\")"
   ],
   "id": "6d6314aca531c60a",
   "outputs": [
    {
     "name": "stdout",
     "output_type": "stream",
     "text": [
      "Src Text: Polarization \n",
      "Src Vector: [10655     0     0     0     0     0     0     0     0     0     0     0\n",
      "     0     0     0     0     0]\n",
      "Trg Text: <SOS> ध्रुवण <EOS>\n",
      "Trg Vector: [    2 16667     3     0     0     0     0     0     0     0     0     0\n",
      "     0     0     0     0     0]\n"
     ]
    }
   ],
   "execution_count": 41
  },
  {
   "metadata": {
    "ExecuteTime": {
     "end_time": "2024-04-08T13:58:25.394091Z",
     "start_time": "2024-04-08T13:58:25.392373Z"
    }
   },
   "cell_type": "code",
   "source": [
    "# Creating constants for the model parameters\n",
    "E_UNITS = 512\n",
    "E_NUM_LAYERS= 8\n",
    "E_DROPOUT_RATE = 0.5\n",
    "D_UNITS = 512\n",
    "D_NUM_LAYERS= 8\n",
    "D_DROPOUT_RATE = 0.5"
   ],
   "id": "114080e9b25babd4",
   "outputs": [],
   "execution_count": 42
  },
  {
   "metadata": {
    "ExecuteTime": {
     "end_time": "2024-04-08T13:58:27.162025Z",
     "start_time": "2024-04-08T13:58:25.394720Z"
    }
   },
   "cell_type": "code",
   "source": [
    "# Creating model using Functional API\n",
    "\n",
    "# Creating the inputs\n",
    "src_inputs = tf.keras.layers.Input(shape=(1, ), dtype= 'string', name= 'src_inputs')\n",
    "trg_inputs = tf.keras.layers.Input(shape=(1, ), dtype= 'string', name= 'trg_inputs')\n",
    "\n",
    "# Creating text vectorization and embedding connection\n",
    "src_embedding= tf.keras.layers.Embedding(input_dim= len(src_vocab),\n",
    "                                         output_dim= 128,\n",
    "                                         name= 'src_embedding')(src_text_vectorizer_layer(src_inputs))\n",
    "trg_embedding= tf.keras.layers.Embedding(input_dim= len(trg_vocab),\n",
    "                                         output_dim= 128,\n",
    "                                         name= 'trg_embedding')(trg_text_vectorizer_layer(trg_inputs))\n",
    "\n",
    "# Creating Encoder instnace and its connection with the src_input\n",
    "encoder_layer = Encoder(units= E_UNITS,\n",
    "                        dropout_rate= E_DROPOUT_RATE,\n",
    "                        num_layers= E_NUM_LAYERS,\n",
    "                        name= 'encoder_layer')\n",
    "encoder_output, encoder_hidden, encoder_carry = encoder_layer(src_embedding)\n",
    "\n",
    "# Creating Decoder instance and its connecton with both trg_input and encoder_output\n",
    "decoder_layer = Decoder(units= D_UNITS,\n",
    "                        dropout_rate= D_DROPOUT_RATE,\n",
    "                        num_layers= D_NUM_LAYERS,\n",
    "                        name= 'decoder_layer')\n",
    "decoder_output = decoder_layer(trg_embedding, encoder_output= encoder_output)\n",
    "\n",
    "# Creating the final dense layer connection to predict the output\n",
    "final_output = tf.keras.layers.Dense(len(trg_vocab), activation= 'softmax', name= 'final_output')(decoder_output)\n",
    "\n",
    "model = tf.keras.models.Model(inputs= [src_inputs, trg_inputs], \n",
    "                              outputs= final_output,\n",
    "                              name= 'EncoderDecoderNMT')\n",
    "\n",
    "model.compile(loss= 'categgorical_crossentropy',\n",
    "              optimizer= tf.keras.optimizers.RMSprop(learning_rate= 1e-4))\n",
    "\n",
    "model.summary()"
   ],
   "id": "92f9a076438ae8af",
   "outputs": [
    {
     "name": "stderr",
     "output_type": "stream",
     "text": [
      "/Users/klsharma22/PycharmProjects/EncoderDecoderExp/venv/lib/python3.10/site-packages/keras/src/layers/layer.py:357: UserWarning: `build()` was called on layer 'decoder_layer', however the layer does not have a `build()` method implemented and it looks like it has unbuilt state. This will cause the layer to be marked as built, despite not being actually built, which may cause failures down the line. Make sure to implement a proper `build()` method.\n",
      "  warnings.warn(\n"
     ]
    },
    {
     "data": {
      "text/plain": [
       "\u001B[1mModel: \"EncoderDecoderNMT\"\u001B[0m\n"
      ],
      "text/html": [
       "<pre style=\"white-space:pre;overflow-x:auto;line-height:normal;font-family:Menlo,'DejaVu Sans Mono',consolas,'Courier New',monospace\"><span style=\"font-weight: bold\">Model: \"EncoderDecoderNMT\"</span>\n",
       "</pre>\n"
      ]
     },
     "metadata": {},
     "output_type": "display_data"
    },
    {
     "data": {
      "text/plain": [
       "┏━━━━━━━━━━━━━━━━━━━━━┳━━━━━━━━━━━━━━━━━━━┳━━━━━━━━━━━━┳━━━━━━━━━━━━━━━━━━━┓\n",
       "┃\u001B[1m \u001B[0m\u001B[1mLayer (type)       \u001B[0m\u001B[1m \u001B[0m┃\u001B[1m \u001B[0m\u001B[1mOutput Shape     \u001B[0m\u001B[1m \u001B[0m┃\u001B[1m \u001B[0m\u001B[1m   Param #\u001B[0m\u001B[1m \u001B[0m┃\u001B[1m \u001B[0m\u001B[1mConnected to     \u001B[0m\u001B[1m \u001B[0m┃\n",
       "┡━━━━━━━━━━━━━━━━━━━━━╇━━━━━━━━━━━━━━━━━━━╇━━━━━━━━━━━━╇━━━━━━━━━━━━━━━━━━━┩\n",
       "│ src_inputs          │ (\u001B[38;5;45mNone\u001B[0m, \u001B[38;5;34m1\u001B[0m)         │          \u001B[38;5;34m0\u001B[0m │ -                 │\n",
       "│ (\u001B[38;5;33mInputLayer\u001B[0m)        │                   │            │                   │\n",
       "├─────────────────────┼───────────────────┼────────────┼───────────────────┤\n",
       "│ trg_inputs          │ (\u001B[38;5;45mNone\u001B[0m, \u001B[38;5;34m1\u001B[0m)         │          \u001B[38;5;34m0\u001B[0m │ -                 │\n",
       "│ (\u001B[38;5;33mInputLayer\u001B[0m)        │                   │            │                   │\n",
       "├─────────────────────┼───────────────────┼────────────┼───────────────────┤\n",
       "│ src_text_vectoriza… │ (\u001B[38;5;45mNone\u001B[0m, \u001B[38;5;34m17\u001B[0m)        │          \u001B[38;5;34m0\u001B[0m │ src_inputs[\u001B[38;5;34m0\u001B[0m][\u001B[38;5;34m0\u001B[0m]  │\n",
       "│ (\u001B[38;5;33mTextVectorization\u001B[0m) │                   │            │                   │\n",
       "├─────────────────────┼───────────────────┼────────────┼───────────────────┤\n",
       "│ trg_text_vectoriza… │ (\u001B[38;5;45mNone\u001B[0m, \u001B[38;5;34m17\u001B[0m)        │          \u001B[38;5;34m0\u001B[0m │ trg_inputs[\u001B[38;5;34m0\u001B[0m][\u001B[38;5;34m0\u001B[0m]  │\n",
       "│ (\u001B[38;5;33mTextVectorization\u001B[0m) │                   │            │                   │\n",
       "├─────────────────────┼───────────────────┼────────────┼───────────────────┤\n",
       "│ src_embedding       │ (\u001B[38;5;45mNone\u001B[0m, \u001B[38;5;34m17\u001B[0m, \u001B[38;5;34m128\u001B[0m)   │  \u001B[38;5;34m3,692,928\u001B[0m │ src_text_vectori… │\n",
       "│ (\u001B[38;5;33mEmbedding\u001B[0m)         │                   │            │                   │\n",
       "├─────────────────────┼───────────────────┼────────────┼───────────────────┤\n",
       "│ trg_embedding       │ (\u001B[38;5;45mNone\u001B[0m, \u001B[38;5;34m17\u001B[0m, \u001B[38;5;34m128\u001B[0m)   │  \u001B[38;5;34m3,721,344\u001B[0m │ trg_text_vectori… │\n",
       "│ (\u001B[38;5;33mEmbedding\u001B[0m)         │                   │            │                   │\n",
       "├─────────────────────┼───────────────────┼────────────┼───────────────────┤\n",
       "│ encoder_layer       │ [(\u001B[38;5;45mNone\u001B[0m, \u001B[38;5;34m17\u001B[0m, \u001B[38;5;34m512\u001B[0m), │ \u001B[38;5;34m15,482,880\u001B[0m │ src_embedding[\u001B[38;5;34m0\u001B[0m]… │\n",
       "│ (\u001B[38;5;33mEncoder\u001B[0m)           │ (\u001B[38;5;45mNone\u001B[0m, \u001B[38;5;34m512\u001B[0m),      │            │                   │\n",
       "│                     │ (\u001B[38;5;45mNone\u001B[0m, \u001B[38;5;34m512\u001B[0m)]      │            │                   │\n",
       "├─────────────────────┼───────────────────┼────────────┼───────────────────┤\n",
       "│ decoder_layer       │ (\u001B[38;5;45mNone\u001B[0m, \u001B[38;5;34m17\u001B[0m, \u001B[38;5;34m512\u001B[0m)   │ \u001B[38;5;34m31,490,048\u001B[0m │ trg_embedding[\u001B[38;5;34m0\u001B[0m]… │\n",
       "│ (\u001B[38;5;33mDecoder\u001B[0m)           │                   │            │ encoder_layer[\u001B[38;5;34m0\u001B[0m]… │\n",
       "├─────────────────────┼───────────────────┼────────────┼───────────────────┤\n",
       "│ final_output        │ (\u001B[38;5;45mNone\u001B[0m, \u001B[38;5;34m17\u001B[0m, \u001B[38;5;34m29073\u001B[0m) │ \u001B[38;5;34m14,914,449\u001B[0m │ decoder_layer[\u001B[38;5;34m0\u001B[0m]… │\n",
       "│ (\u001B[38;5;33mDense\u001B[0m)             │                   │            │                   │\n",
       "└─────────────────────┴───────────────────┴────────────┴───────────────────┘\n"
      ],
      "text/html": [
       "<pre style=\"white-space:pre;overflow-x:auto;line-height:normal;font-family:Menlo,'DejaVu Sans Mono',consolas,'Courier New',monospace\">┏━━━━━━━━━━━━━━━━━━━━━┳━━━━━━━━━━━━━━━━━━━┳━━━━━━━━━━━━┳━━━━━━━━━━━━━━━━━━━┓\n",
       "┃<span style=\"font-weight: bold\"> Layer (type)        </span>┃<span style=\"font-weight: bold\"> Output Shape      </span>┃<span style=\"font-weight: bold\">    Param # </span>┃<span style=\"font-weight: bold\"> Connected to      </span>┃\n",
       "┡━━━━━━━━━━━━━━━━━━━━━╇━━━━━━━━━━━━━━━━━━━╇━━━━━━━━━━━━╇━━━━━━━━━━━━━━━━━━━┩\n",
       "│ src_inputs          │ (<span style=\"color: #00d7ff; text-decoration-color: #00d7ff\">None</span>, <span style=\"color: #00af00; text-decoration-color: #00af00\">1</span>)         │          <span style=\"color: #00af00; text-decoration-color: #00af00\">0</span> │ -                 │\n",
       "│ (<span style=\"color: #0087ff; text-decoration-color: #0087ff\">InputLayer</span>)        │                   │            │                   │\n",
       "├─────────────────────┼───────────────────┼────────────┼───────────────────┤\n",
       "│ trg_inputs          │ (<span style=\"color: #00d7ff; text-decoration-color: #00d7ff\">None</span>, <span style=\"color: #00af00; text-decoration-color: #00af00\">1</span>)         │          <span style=\"color: #00af00; text-decoration-color: #00af00\">0</span> │ -                 │\n",
       "│ (<span style=\"color: #0087ff; text-decoration-color: #0087ff\">InputLayer</span>)        │                   │            │                   │\n",
       "├─────────────────────┼───────────────────┼────────────┼───────────────────┤\n",
       "│ src_text_vectoriza… │ (<span style=\"color: #00d7ff; text-decoration-color: #00d7ff\">None</span>, <span style=\"color: #00af00; text-decoration-color: #00af00\">17</span>)        │          <span style=\"color: #00af00; text-decoration-color: #00af00\">0</span> │ src_inputs[<span style=\"color: #00af00; text-decoration-color: #00af00\">0</span>][<span style=\"color: #00af00; text-decoration-color: #00af00\">0</span>]  │\n",
       "│ (<span style=\"color: #0087ff; text-decoration-color: #0087ff\">TextVectorization</span>) │                   │            │                   │\n",
       "├─────────────────────┼───────────────────┼────────────┼───────────────────┤\n",
       "│ trg_text_vectoriza… │ (<span style=\"color: #00d7ff; text-decoration-color: #00d7ff\">None</span>, <span style=\"color: #00af00; text-decoration-color: #00af00\">17</span>)        │          <span style=\"color: #00af00; text-decoration-color: #00af00\">0</span> │ trg_inputs[<span style=\"color: #00af00; text-decoration-color: #00af00\">0</span>][<span style=\"color: #00af00; text-decoration-color: #00af00\">0</span>]  │\n",
       "│ (<span style=\"color: #0087ff; text-decoration-color: #0087ff\">TextVectorization</span>) │                   │            │                   │\n",
       "├─────────────────────┼───────────────────┼────────────┼───────────────────┤\n",
       "│ src_embedding       │ (<span style=\"color: #00d7ff; text-decoration-color: #00d7ff\">None</span>, <span style=\"color: #00af00; text-decoration-color: #00af00\">17</span>, <span style=\"color: #00af00; text-decoration-color: #00af00\">128</span>)   │  <span style=\"color: #00af00; text-decoration-color: #00af00\">3,692,928</span> │ src_text_vectori… │\n",
       "│ (<span style=\"color: #0087ff; text-decoration-color: #0087ff\">Embedding</span>)         │                   │            │                   │\n",
       "├─────────────────────┼───────────────────┼────────────┼───────────────────┤\n",
       "│ trg_embedding       │ (<span style=\"color: #00d7ff; text-decoration-color: #00d7ff\">None</span>, <span style=\"color: #00af00; text-decoration-color: #00af00\">17</span>, <span style=\"color: #00af00; text-decoration-color: #00af00\">128</span>)   │  <span style=\"color: #00af00; text-decoration-color: #00af00\">3,721,344</span> │ trg_text_vectori… │\n",
       "│ (<span style=\"color: #0087ff; text-decoration-color: #0087ff\">Embedding</span>)         │                   │            │                   │\n",
       "├─────────────────────┼───────────────────┼────────────┼───────────────────┤\n",
       "│ encoder_layer       │ [(<span style=\"color: #00d7ff; text-decoration-color: #00d7ff\">None</span>, <span style=\"color: #00af00; text-decoration-color: #00af00\">17</span>, <span style=\"color: #00af00; text-decoration-color: #00af00\">512</span>), │ <span style=\"color: #00af00; text-decoration-color: #00af00\">15,482,880</span> │ src_embedding[<span style=\"color: #00af00; text-decoration-color: #00af00\">0</span>]… │\n",
       "│ (<span style=\"color: #0087ff; text-decoration-color: #0087ff\">Encoder</span>)           │ (<span style=\"color: #00d7ff; text-decoration-color: #00d7ff\">None</span>, <span style=\"color: #00af00; text-decoration-color: #00af00\">512</span>),      │            │                   │\n",
       "│                     │ (<span style=\"color: #00d7ff; text-decoration-color: #00d7ff\">None</span>, <span style=\"color: #00af00; text-decoration-color: #00af00\">512</span>)]      │            │                   │\n",
       "├─────────────────────┼───────────────────┼────────────┼───────────────────┤\n",
       "│ decoder_layer       │ (<span style=\"color: #00d7ff; text-decoration-color: #00d7ff\">None</span>, <span style=\"color: #00af00; text-decoration-color: #00af00\">17</span>, <span style=\"color: #00af00; text-decoration-color: #00af00\">512</span>)   │ <span style=\"color: #00af00; text-decoration-color: #00af00\">31,490,048</span> │ trg_embedding[<span style=\"color: #00af00; text-decoration-color: #00af00\">0</span>]… │\n",
       "│ (<span style=\"color: #0087ff; text-decoration-color: #0087ff\">Decoder</span>)           │                   │            │ encoder_layer[<span style=\"color: #00af00; text-decoration-color: #00af00\">0</span>]… │\n",
       "├─────────────────────┼───────────────────┼────────────┼───────────────────┤\n",
       "│ final_output        │ (<span style=\"color: #00d7ff; text-decoration-color: #00d7ff\">None</span>, <span style=\"color: #00af00; text-decoration-color: #00af00\">17</span>, <span style=\"color: #00af00; text-decoration-color: #00af00\">29073</span>) │ <span style=\"color: #00af00; text-decoration-color: #00af00\">14,914,449</span> │ decoder_layer[<span style=\"color: #00af00; text-decoration-color: #00af00\">0</span>]… │\n",
       "│ (<span style=\"color: #0087ff; text-decoration-color: #0087ff\">Dense</span>)             │                   │            │                   │\n",
       "└─────────────────────┴───────────────────┴────────────┴───────────────────┘\n",
       "</pre>\n"
      ]
     },
     "metadata": {},
     "output_type": "display_data"
    },
    {
     "data": {
      "text/plain": [
       "\u001B[1m Total params: \u001B[0m\u001B[38;5;34m53,818,769\u001B[0m (205.30 MB)\n"
      ],
      "text/html": [
       "<pre style=\"white-space:pre;overflow-x:auto;line-height:normal;font-family:Menlo,'DejaVu Sans Mono',consolas,'Courier New',monospace\"><span style=\"font-weight: bold\"> Total params: </span><span style=\"color: #00af00; text-decoration-color: #00af00\">53,818,769</span> (205.30 MB)\n",
       "</pre>\n"
      ]
     },
     "metadata": {},
     "output_type": "display_data"
    },
    {
     "data": {
      "text/plain": [
       "\u001B[1m Trainable params: \u001B[0m\u001B[38;5;34m53,818,769\u001B[0m (205.30 MB)\n"
      ],
      "text/html": [
       "<pre style=\"white-space:pre;overflow-x:auto;line-height:normal;font-family:Menlo,'DejaVu Sans Mono',consolas,'Courier New',monospace\"><span style=\"font-weight: bold\"> Trainable params: </span><span style=\"color: #00af00; text-decoration-color: #00af00\">53,818,769</span> (205.30 MB)\n",
       "</pre>\n"
      ]
     },
     "metadata": {},
     "output_type": "display_data"
    },
    {
     "data": {
      "text/plain": [
       "\u001B[1m Non-trainable params: \u001B[0m\u001B[38;5;34m0\u001B[0m (0.00 B)\n"
      ],
      "text/html": [
       "<pre style=\"white-space:pre;overflow-x:auto;line-height:normal;font-family:Menlo,'DejaVu Sans Mono',consolas,'Courier New',monospace\"><span style=\"font-weight: bold\"> Non-trainable params: </span><span style=\"color: #00af00; text-decoration-color: #00af00\">0</span> (0.00 B)\n",
       "</pre>\n"
      ]
     },
     "metadata": {},
     "output_type": "display_data"
    }
   ],
   "execution_count": 43
  },
  {
   "metadata": {},
   "cell_type": "code",
   "source": "tf.keras.utils.plot_model(model, show_layer_names= True)",
   "id": "18828e363ee3b3e1",
   "outputs": [],
   "execution_count": null
  },
  {
   "cell_type": "markdown",
   "source": [
    "### Create Data Pipeline\n",
    "\n",
    "Our model has been created with all the components being connected with each other. Now our next agenda is to create a smooth data pipeline using `tf.data` API which will help us create a prefetch data which will utilise both CPU and GPU for data handling during model training. This will give us an advantage over the performance of the model."
   ],
   "metadata": {
    "collapsed": false
   },
   "id": "2266b292296397b6"
  },
  {
   "metadata": {},
   "cell_type": "code",
   "source": [
    "train_data = tf.data.Dataset.from_tensor_slices((src_train, trg_train))\n",
    "train_labels = tf.data.Dataset.from_tensor_slices(trg_text_vectorizer_layer(trg_train))\n",
    "train_dataset = tf.data.Dataset.zip((train_data, train_labels)).batch(128).prefetch(tf.data.AUTOTUNE)\n",
    "valid_data = tf.data.Dataset.from_tensor_slices((src_test, ['<SOS>' for _ in range(len(trg_test))]))\n",
    "valid_label = tf.data.Dataset.from_tensor_slices(trg_text_vectorizer_layer(trg_test))\n",
    "valid_dataset = tf.data.Dataset.zip(valid_data, valid_label).batch(128).prefetch(tf.data.AUTOTUNE)"
   ],
   "id": "b3166e1a16eea58d",
   "outputs": [],
   "execution_count": null
  },
  {
   "cell_type": "markdown",
   "source": [
    "### Fit the model\n",
    "\n",
    "We have created the dataset with `tf.data` API and have also created valid dataset with the type of inputs we are going to provide during inference time so that we receive the real time val_loss"
   ],
   "metadata": {
    "collapsed": false
   },
   "id": "f0179c38bd36ef20"
  },
  {
   "metadata": {},
   "cell_type": "code",
   "source": [
    "with tf.device('/gpu:0'):    \n",
    "    history = model.fit(train_dataset,\n",
    "                  epochs= 100,\n",
    "                  validation_data=valid_dataset,\n",
    "                  verbose= 1,\n",
    "                  callbacks= [tf.keras.callbacks.EarlyStopping(monitor= 'val_loss', patience= 3, verbose= 1),\n",
    "                              tf.keras.callbacks.ReduceLROnPlateau(monitor= 'val_loss', patience= 2, verbose= 1),\n",
    "                              tf.keras.callbacks.ModelCheckpoint(model.name + '.keras', monitor= 'val_loss', save_best_only= True)])"
   ],
   "id": "bb5af6664a4986af",
   "outputs": [],
   "execution_count": null
  },
  {
   "metadata": {},
   "cell_type": "code",
   "source": [
    "# Plotting the history of the model\n",
    "plt.figure()\n",
    "plt.plot(history.history['loss'], label='Training loss')\n",
    "plt.plot(history.history['val_loss'], label='Validation loss')\n",
    "plt.legend()"
   ],
   "id": "3f0ecdf3051ea72d",
   "outputs": [],
   "execution_count": null
  },
  {
   "cell_type": "markdown",
   "source": [
    "### Evaluate model Performance\n",
    "\n",
    "Let's evaluate the model performance"
   ],
   "metadata": {
    "collapsed": false
   },
   "id": "a9f9847f3fcba8cd"
  },
  {
   "metadata": {
    "ExecuteTime": {
     "end_time": "2024-04-08T13:58:44.914692Z",
     "start_time": "2024-04-08T13:58:44.061444Z"
    }
   },
   "cell_type": "code",
   "source": [
    "# Loading the best weights \n",
    "model.load_weights('EncoderDecoderNMT.keras')\n",
    "# Evaluate the model\n",
    "# model.evaluate(valid_dataset, verbose= 1)"
   ],
   "id": "f367b50b4d77f14",
   "outputs": [
    {
     "name": "stderr",
     "output_type": "stream",
     "text": [
      "/Users/klsharma22/PycharmProjects/EncoderDecoderExp/venv/lib/python3.10/site-packages/keras/src/saving/saving_lib.py:396: UserWarning: Skipping variable loading for optimizer 'rmsprop', because it has 2 variables whereas the saved optimizer has 57 variables. \n",
      "  trackable.load_own_variables(weights_store.get(inner_path))\n"
     ]
    }
   ],
   "execution_count": 44
  },
  {
   "cell_type": "markdown",
   "source": [
    "### Making Predictions using the best model trained\n",
    "\n",
    "Making predictions over the unseen data"
   ],
   "metadata": {
    "collapsed": false
   },
   "id": "b7b2bd1cb7fbf1dc"
  },
  {
   "metadata": {
    "ExecuteTime": {
     "end_time": "2024-04-08T14:00:14.531061Z",
     "start_time": "2024-04-08T14:00:14.460008Z"
    }
   },
   "cell_type": "code",
   "source": [
    "model_preds = model.predict([tf.expand_dims(src_test[0], axis=0), tf.expand_dims(' ', axis=0)])\n",
    "# model_preds = tf.argmax(model_preds, axis=-1)\n",
    "model_preds"
   ],
   "id": "958fce59a197a27b",
   "outputs": [
    {
     "name": "stdout",
     "output_type": "stream",
     "text": [
      "\u001B[1m1/1\u001B[0m \u001B[32m━━━━━━━━━━━━━━━━━━━━\u001B[0m\u001B[37m\u001B[0m \u001B[1m0s\u001B[0m 47ms/step\n"
     ]
    },
    {
     "data": {
      "text/plain": [
       "array([[[7.7160007e-01, 2.6952603e-06, 7.5972341e-02, ...,\n",
       "         1.4734890e-06, 7.1829919e-07, 7.1094780e-07],\n",
       "        [7.8633159e-01, 2.1723465e-06, 7.4372411e-02, ...,\n",
       "         1.1992227e-06, 5.7834649e-07, 5.6725605e-07],\n",
       "        [7.9237664e-01, 1.9718443e-06, 7.3621511e-02, ...,\n",
       "         1.0925403e-06, 5.2588251e-07, 5.1265022e-07],\n",
       "        ...,\n",
       "        [8.0070907e-01, 1.7195155e-06, 7.2520427e-02, ...,\n",
       "         9.4728927e-07, 4.5399710e-07, 4.3515070e-07],\n",
       "        [8.0084312e-01, 1.7158176e-06, 7.2503239e-02, ...,\n",
       "         9.4535034e-07, 4.5284494e-07, 4.3382619e-07],\n",
       "        [8.0096787e-01, 1.7124376e-06, 7.2487295e-02, ...,\n",
       "         9.4357978e-07, 4.5176668e-07, 4.3261375e-07]]], dtype=float32)"
      ]
     },
     "execution_count": 49,
     "metadata": {},
     "output_type": "execute_result"
    }
   ],
   "execution_count": 49
  },
  {
   "metadata": {
    "ExecuteTime": {
     "end_time": "2024-04-08T14:03:43.616274Z",
     "start_time": "2024-04-08T14:03:43.611351Z"
    }
   },
   "cell_type": "code",
   "source": [
    "max_value = tf.reduce_max(model_preds[0][3])\n",
    "for i, pred in enumerate(model_preds[0][3]):\n",
    "    if pred == max_value:\n",
    "        print(i)\n",
    "        break"
   ],
   "id": "f4722815ad6e8128",
   "outputs": [
    {
     "name": "stdout",
     "output_type": "stream",
     "text": [
      "0\n"
     ]
    }
   ],
   "execution_count": 63
  }
 ],
 "metadata": {
  "kernelspec": {
   "display_name": "Python 3",
   "language": "python",
   "name": "python3"
  },
  "language_info": {
   "codemirror_mode": {
    "name": "ipython",
    "version": 2
   },
   "file_extension": ".py",
   "mimetype": "text/x-python",
   "name": "python",
   "nbconvert_exporter": "python",
   "pygments_lexer": "ipython2",
   "version": "2.7.6"
  }
 },
 "nbformat": 4,
 "nbformat_minor": 5
}
