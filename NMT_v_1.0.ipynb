{
 "cells": [
  {
   "cell_type": "markdown",
   "source": [
    "# Creating a mind map before getting into action\n",
    "\n",
    "So after coming across from the mistakes before this notebook, let's plan what all things we need to do so that we perform the crucial steps needed for the NMT to make with all the proper components and the preprocessed data.\n",
    "\n",
    "**Data Preprocessing Actions**:\n",
    "1. Shift the target texts.\n",
    "2. Pad the text with proper annotations.\n",
    "\n",
    "**Components of the model**:\n",
    "1. Create *text vectors* of both source and target language separately using TensorFlow `TextVectorization` layer.\n",
    "2. Create *embedding layers* of both source and target language separately using TensorFlow `Embedding` layer.\n",
    "3. Create a class known *Encoder* which inherits the properties of TensorFlow class `Layer`. In the sub-class method of creating a layer, we are going to develop the encoder architecture of the NMT. (The architecture will be discussed while we are developing the layer.)\n",
    "4. Create a class known as *Decoder* which inherits the properties of TensorFlow class `Layer`. In this sub-class method of creating a layer, we are going to develop the decoder architecture of the NMT. (The architecture will be discussed while we are developing the layer.)\n",
    "5. After creating all the components, we are going to create a class called *EncoderDecoder* which will inherit from TensorFlow class `Model`. In this class we will assemble all of the layers that we have prepared in the above steps and then create a custom call function which will allow us to train the decoder layer as we expect it to do.\n",
    "6. Create an instance of the *EncoderDecoder* class with all the parameters passed in its constructor and compile the model with `tf.keras.losses.SparseCategoricalCrossentropy()` as loss function and `tf.keras.optimizers.RMSprop()` as the optimizer.\n",
    "7. We will then create the *train_dataset* and *valid_dataset* using TensorFlow `tf.data` API for better performance of the model training.\n",
    "8. We will fit the model with the training data with 5 epochs and *callbacks* such as `tf.keras.callbacks.ModelCheckPoint`, `tf.keras.callbacks.EarlyStopping`, `tf.keras.callbacks.ReduceLROnPlateau` and the validation dataset.\n",
    "9. After training the model we will evaluate the model using different metrics system and predict with an unseen data and observe the quality of the prediction."
   ],
   "metadata": {
    "collapsed": false
   },
   "id": "1e240db960ed8729"
  },
  {
   "cell_type": "markdown",
   "source": [
    "# Importing all the necessary libraries"
   ],
   "metadata": {
    "collapsed": false
   },
   "id": "c9430d4d813aceb5"
  },
  {
   "cell_type": "code",
   "outputs": [],
   "source": [
    "import tensorflow as tf\n",
    "import numpy as np\n",
    "import pandas as pd\n",
    "from sklearn.model_selection import train_test_split\n",
    "import matplotlib.pyplot as plt\n",
    "import os\n",
    "import tarfile\n",
    "import random"
   ],
   "metadata": {
    "collapsed": false,
    "ExecuteTime": {
     "end_time": "2024-04-05T18:11:25.207790Z",
     "start_time": "2024-04-05T18:11:20.500434Z"
    }
   },
   "id": "bfdf0bb37b8c825a",
   "execution_count": 2
  },
  {
   "cell_type": "markdown",
   "source": [
    "# Start the project\n",
    "\n",
    "As all machine learning project has two phases, this is project is no exception for it. We will first work on the *Data Preprocessing* and then *Model Development*"
   ],
   "metadata": {
    "collapsed": false
   },
   "id": "64a05be9d25b00fc"
  },
  {
   "cell_type": "markdown",
   "source": [
    "## Data Preprocessing"
   ],
   "metadata": {
    "collapsed": false
   },
   "id": "2f9de603448c9b31"
  },
  {
   "cell_type": "code",
   "outputs": [],
   "source": [
    "# Creating a constant which contains the starting path of the project so that\n",
    "START_PATH = str(os.getcwd()) + '/'\n",
    "COMP_DATA_PATH = os.path.join(START_PATH, 'wiki-titles.tgz')\n",
    "DATA_URL = 'https://www.statmt.org/wmt14/wiki-titles.tgz'\n",
    "DATA_DIR = os.path.join(START_PATH, 'wiki/hi-en/wiki-titles.hi-en')"
   ],
   "metadata": {
    "collapsed": false,
    "ExecuteTime": {
     "end_time": "2024-04-05T18:11:25.210990Z",
     "start_time": "2024-04-05T18:11:25.208827Z"
    }
   },
   "id": "e37d49d18a6631f1",
   "execution_count": 3
  },
  {
   "cell_type": "markdown",
   "source": [
    "### Loading Data"
   ],
   "metadata": {
    "collapsed": false
   },
   "id": "9eaef38bbde5b36b"
  },
  {
   "cell_type": "code",
   "outputs": [
    {
     "name": "stdout",
     "output_type": "stream",
     "text": [
      "Data already downloaded\n"
     ]
    }
   ],
   "source": [
    "if not os.path.exists(COMP_DATA_PATH):\n",
    "    print(f'Downloading data from {DATA_URL}')\n",
    "    !wget https://www.statmt.org/wmt14/wiki-titles.tgz\n",
    "else:\n",
    "    print(\"Data already downloaded\")"
   ],
   "metadata": {
    "collapsed": false,
    "ExecuteTime": {
     "end_time": "2024-04-05T18:11:25.213971Z",
     "start_time": "2024-04-05T18:11:25.211594Z"
    }
   },
   "id": "43050224ec71df74",
   "execution_count": 4
  },
  {
   "cell_type": "code",
   "outputs": [
    {
     "name": "stdout",
     "output_type": "stream",
     "text": [
      "The file exists\n"
     ]
    }
   ],
   "source": [
    "if not os.path.exists(COMP_DATA_PATH):\n",
    "    print(\"File does not exist\")\n",
    "else:\n",
    "    print(\"The file exists\")"
   ],
   "metadata": {
    "collapsed": false,
    "ExecuteTime": {
     "end_time": "2024-04-05T18:11:25.217110Z",
     "start_time": "2024-04-05T18:11:25.215147Z"
    }
   },
   "id": "5f1139795316c182",
   "execution_count": 5
  },
  {
   "cell_type": "code",
   "outputs": [
    {
     "name": "stdout",
     "output_type": "stream",
     "text": [
      "File extracted\n"
     ]
    }
   ],
   "source": [
    "with tarfile.open(COMP_DATA_PATH, 'r') as tar_ref:\n",
    "    tar_ref.extractall()\n",
    "    print(\"File extracted\")"
   ],
   "metadata": {
    "collapsed": false,
    "ExecuteTime": {
     "end_time": "2024-04-05T18:11:25.335708Z",
     "start_time": "2024-04-05T18:11:25.217748Z"
    }
   },
   "id": "a0c519a809d4a9ae",
   "execution_count": 6
  },
  {
   "cell_type": "markdown",
   "source": [
    "### Extracting data from file "
   ],
   "metadata": {
    "collapsed": false
   },
   "id": "c5f8236ca4c75de5"
  },
  {
   "cell_type": "code",
   "outputs": [],
   "source": [
    "# Extracting the lines from the file of the dataset\n",
    "with open(DATA_DIR, 'r') as f:\n",
    "    lines = f.readlines()"
   ],
   "metadata": {
    "collapsed": false,
    "ExecuteTime": {
     "end_time": "2024-04-05T18:11:25.343416Z",
     "start_time": "2024-04-05T18:11:25.336362Z"
    }
   },
   "id": "8706972bebef0f20",
   "execution_count": 7
  },
  {
   "cell_type": "code",
   "outputs": [
    {
     "data": {
      "text/plain": "(['January 0',\n  'March 0',\n  '1000',\n  '1001',\n  '1002',\n  '1003',\n  '1004',\n  '1005',\n  '1006',\n  '1007'],\n ['० जनवरी',\n  '० मार्च',\n  '१०००',\n  '१००१',\n  '१००२',\n  '१००३',\n  '१००४',\n  '१००५',\n  '१००६',\n  '१००७'],\n 32863,\n 32863)"
     },
     "execution_count": 8,
     "metadata": {},
     "output_type": "execute_result"
    }
   ],
   "source": [
    "# Splitting the data into two list of source language and target language\n",
    "src_senteces = [line.split('|||')[1][1:-1] for line in lines]\n",
    "trg_sentences = [line.split('|||')[0][:-1] for line in lines]\n",
    "src_senteces[:10], trg_sentences[:10], len(src_senteces), len(trg_sentences)"
   ],
   "metadata": {
    "collapsed": false,
    "ExecuteTime": {
     "end_time": "2024-04-05T18:11:25.360918Z",
     "start_time": "2024-04-05T18:11:25.344084Z"
    }
   },
   "id": "1878ae100a6b426f",
   "execution_count": 8
  },
  {
   "cell_type": "markdown",
   "source": [
    "### Visualise the data"
   ],
   "metadata": {
    "collapsed": false
   },
   "id": "d9c90fb2692dc8df"
  },
  {
   "cell_type": "code",
   "outputs": [
    {
     "name": "stdout",
     "output_type": "stream",
     "text": [
      "Source sentence: Kala Sona\n",
      "Target sentence: काला सोना\n"
     ]
    }
   ],
   "source": [
    "def visualise_random_sentences(src_sent, trg_sent):    \n",
    "    random_idx = random.randint(0, len(src_sent))\n",
    "    \n",
    "    print(f\"Source sentence: {src_sent[random_idx]}\")\n",
    "    print(f\"Target sentence: {trg_sent[random_idx]}\")\n",
    "    \n",
    "visualise_random_sentences(src_sent= src_senteces,\n",
    "                    trg_sent= trg_sentences)"
   ],
   "metadata": {
    "collapsed": false,
    "ExecuteTime": {
     "end_time": "2024-04-05T18:11:25.364228Z",
     "start_time": "2024-04-05T18:11:25.361883Z"
    }
   },
   "id": "36e32e67bba57146",
   "execution_count": 9
  },
  {
   "cell_type": "markdown",
   "source": [
    "### Shift the target data with one token"
   ],
   "metadata": {
    "collapsed": false
   },
   "id": "fd558fc2e24c14d4"
  },
  {
   "cell_type": "code",
   "outputs": [
    {
     "name": "stdout",
     "output_type": "stream",
     "text": [
      "Source sentence: Veer-Zaara\n",
      "Target sentence: <SOS> वीर-ज़ारा <EOS>\n"
     ]
    }
   ],
   "source": [
    "trg_sentences_preprocessed = ['<SOS> ' + sentence + ' <EOS>' for sentence in trg_sentences]\n",
    "visualise_random_sentences(src_sent= src_senteces,\n",
    "                           trg_sent= trg_sentences_preprocessed)"
   ],
   "metadata": {
    "collapsed": false,
    "ExecuteTime": {
     "end_time": "2024-04-05T18:11:25.369364Z",
     "start_time": "2024-04-05T18:11:25.364936Z"
    }
   },
   "id": "9c752ba428dc9646",
   "execution_count": 10
  },
  {
   "cell_type": "code",
   "outputs": [
    {
     "name": "stdout",
     "output_type": "stream",
     "text": [
      "Max source sentence length: 13\n",
      "Max target sentence length: 17\n"
     ]
    }
   ],
   "source": [
    "# Calculate the max length of the text for each language lists\n",
    "src_word_per_sentence = [len(line.split()) for line in src_senteces]\n",
    "trg_word_per_sentence = [len(line.split()) for line in trg_sentences_preprocessed]\n",
    "\n",
    "max_src_len = max(src_word_per_sentence)\n",
    "max_trg_len = max(trg_word_per_sentence)\n",
    "\n",
    "print(f\"Max source sentence length: {max_src_len}\")\n",
    "print(f\"Max target sentence length: {max_trg_len}\")"
   ],
   "metadata": {
    "collapsed": false,
    "ExecuteTime": {
     "end_time": "2024-04-05T18:11:25.382983Z",
     "start_time": "2024-04-05T18:11:25.371127Z"
    }
   },
   "id": "86d7ec2f1690e76",
   "execution_count": 11
  },
  {
   "cell_type": "markdown",
   "source": [
    ">**Note**: Padding of the data will be done after vectorising the text data"
   ],
   "metadata": {
    "collapsed": false
   },
   "id": "2e5640df1a236aa"
  },
  {
   "cell_type": "markdown",
   "source": [
    "## Model development\n",
    "\n",
    "We have completed the data preprocessing of the data and are ready to develop the model. Let's discuss the steps we are going to take for it:\n",
    "1. Create individual components\n",
    "2. Assemble the model\n",
    "3. Create Data Pipeline\n",
    "4. Fit the model\n",
    "5. Evaluate the model\n",
    "6. Predict using the model"
   ],
   "metadata": {
    "collapsed": false
   },
   "id": "96e38c8a72bd5d08"
  },
  {
   "cell_type": "markdown",
   "source": [
    "### Creating Components\n",
    "\n",
    "Before starting with the model, first we need to create some building blocks for the Encoder Decoder archtiecture of NMT. The components that we are going to make here are:\n",
    "1. Encode layer:\n",
    "        * *Inheritance*: `tf.keras.layers.Layer`\n",
    "        * *Constructor Input*: \n",
    "        * *Call function Input*: src_sentences\n",
    "        * *Return*: Encoder output, RNN layer states\n",
    "2. Decoder layer:\n",
    "        * *Inheritance*: `tf.keras.layers.Layer`\n",
    "        * *Constructor Input*: \n",
    "        * *Call function Input*: trg_sentences_preprocessed, context, encoder_states\n",
    "        * *Return*: RNN output"
   ],
   "metadata": {
    "collapsed": false
   },
   "id": "4feaa32e6d6dc13b"
  },
  {
   "cell_type": "code",
   "outputs": [
    {
     "data": {
      "text/plain": "{'name': 'encoder_layer',\n 'units': 512,\n 'embedding_size': 128,\n 'dropout_rate': 0.5,\n 'num_layers': 8,\n 'trainable': True,\n 'dtype': 'float32'}"
     },
     "execution_count": 12,
     "metadata": {},
     "output_type": "execute_result"
    }
   ],
   "source": [
    "# Creation of Encoder layer class\n",
    "class Encoder(tf.keras.layers.Layer):\n",
    "    '''\n",
    "    This class creates a custom encoder layer based on the Google's research paper of NMT.\n",
    "    For more reference please view https://arxiv.org/pdf/1609.08144.pdf%20(7\n",
    "    \n",
    "    This class is an inheritied class from `tf.keras.layers.Layer`. In this class, we will create the constructor\n",
    "    of the encoder layer and then define the call function so that we can set the working of the encoder layer using \n",
    "    Functional API.\n",
    "    '''\n",
    "    \n",
    "    def __init__(self, units, embedding_size, dropout_rate, num_layers, **kwargs):\n",
    "        '''\n",
    "        Constructs the encoder\n",
    "        \n",
    "        Parameters:\n",
    "            units: Nuumber of neurons required per LSTM layer\n",
    "            embedding_size: to give the first layer an input shape\n",
    "            dropout_rate: to set the dropout rate\n",
    "            num_layers: to set the number of encoding layer\n",
    "        Returns:\n",
    "            An instance of Encoder class which works as the encoder described in the research paper\n",
    "        '''\n",
    "        \n",
    "        # calling the super method to initialise\n",
    "        super().__init__(**kwargs)\n",
    "        \n",
    "        # initialising all the object variables\n",
    "        self.units = units\n",
    "        self.embedding_size = embedding_size\n",
    "        self.dropout_rate = dropout_rate\n",
    "        self.num_layers = num_layers\n",
    "        \n",
    "        # initialise the layers\n",
    "        self.bi_lstm_layer = tf.keras.layers.Bidirectional(tf.keras.layers.LSTM(units= self.units // 2,\n",
    "                                                                                return_sequences=True,\n",
    "                                                                                return_state=True,\n",
    "                                                                                dropout=self.dropout_rate),\n",
    "                                                           name= 'encoder_bi_lstm_layer')\n",
    "        num1 = self.embedding_size\n",
    "        num2 = self.units\n",
    "        \n",
    "        self.lstm_recurrent_layers = []\n",
    "        for i in range(self.num_layers):\n",
    "            temp = num1 + num2\n",
    "            self.lstm_recurrent_layers.append(tf.keras.layers.LSTM(units= temp,\n",
    "                                                         return_sequences=True,\n",
    "                                                         return_state=True,\n",
    "                                                         dropout=self.dropout_rate,\n",
    "                                                         name= f'encoder_lstm_recurrent_layer_{i + 1}'))\n",
    "        self.concatenate_layer = tf.keras.layers.Concatenate(name= 'concatenate_layer')\n",
    "    \n",
    "    def call(self, inputs):\n",
    "        print(inputs.shape)\n",
    "        x, h1, c1, h2, c2 = self.bi_lstm_layer(inputs)\n",
    "        print(self.bi_lstm_layer.name, x.shape)\n",
    "        x = self.concatenate_layer([inputs, x])\n",
    "        print(self.concatenate_layer.name, x.shape)\n",
    "        encoder_memory, encoder_carry_state = None, None\n",
    "        for layer in self.lstm_recurrent_layers:\n",
    "            lstm_output, encoder_memory, encoder_carry_state = layer(x)\n",
    "            print(layer.name, lstm_output.shape, encoder_memory.shape, encoder_carry_state.shape)\n",
    "            x = self.concatenate_layer([x, lstm_output])\n",
    "            print(self.concatenate_layer.name, x.shape)\n",
    "        \n",
    "        return x, encoder_memory, encoder_carry_state\n",
    "    \n",
    "encoder_layer = Encoder(units= 512, \n",
    "                        embedding_size= 128,\n",
    "                        dropout_rate= 0.5,\n",
    "                        name= 'encoder_layer',\n",
    "                        num_layers= 8)\n",
    "encoder_layer.get_config()"
   ],
   "metadata": {
    "collapsed": false,
    "ExecuteTime": {
     "end_time": "2024-04-05T18:11:25.430020Z",
     "start_time": "2024-04-05T18:11:25.383595Z"
    }
   },
   "id": "cbf34e085cf398ec",
   "execution_count": 12
  },
  {
   "cell_type": "code",
   "outputs": [
    {
     "name": "stdout",
     "output_type": "stream",
     "text": [
      "(10, 128, 128)\n",
      "encoder_bi_lstm_layer (10, 128, 512)\n",
      "concatenate_layer (10, 128, 640)\n",
      "encoder_lstm_recurrent_layer_1 (10, 128, 640) (10, 640) (10, 640)\n",
      "concatenate_layer (10, 128, 1280)\n",
      "encoder_lstm_recurrent_layer_2 (10, 128, 640) (10, 640) (10, 640)\n",
      "concatenate_layer (10, 128, 1920)\n",
      "encoder_lstm_recurrent_layer_3 (10, 128, 640) (10, 640) (10, 640)\n",
      "concatenate_layer (10, 128, 2560)\n",
      "encoder_lstm_recurrent_layer_4 (10, 128, 640) (10, 640) (10, 640)\n",
      "concatenate_layer (10, 128, 3200)\n",
      "encoder_lstm_recurrent_layer_5 (10, 128, 640) (10, 640) (10, 640)\n",
      "concatenate_layer (10, 128, 3840)\n",
      "encoder_lstm_recurrent_layer_6 (10, 128, 640) (10, 640) (10, 640)\n",
      "concatenate_layer (10, 128, 4480)\n",
      "encoder_lstm_recurrent_layer_7 (10, 128, 640) (10, 640) (10, 640)\n",
      "concatenate_layer (10, 128, 5120)\n",
      "encoder_lstm_recurrent_layer_8 (10, 128, 640) (10, 640) (10, 640)\n",
      "concatenate_layer (10, 128, 5760)\n"
     ]
    },
    {
     "data": {
      "text/plain": "(TensorShape([10, 128, 5760]), TensorShape([10, 640]), TensorShape([10, 640]))"
     },
     "execution_count": 89,
     "metadata": {},
     "output_type": "execute_result"
    }
   ],
   "source": [
    "# Checking the functionality of the layer using dummy values\n",
    "encoder_output, memory_state, carry_state = encoder_layer(tf.random.uniform(shape=(10, 128, 128)))\n",
    "encoder_output.shape, memory_state.shape, carry_state.shape"
   ],
   "metadata": {
    "collapsed": false,
    "ExecuteTime": {
     "end_time": "2024-04-05T18:59:48.195892Z",
     "start_time": "2024-04-05T18:59:45.080526Z"
    }
   },
   "id": "74724396ff40e996",
   "execution_count": 89
  },
  {
   "cell_type": "code",
   "outputs": [],
   "source": [
    "# Create Decoder class\n",
    "class Decoder(tf.keras.layers.Layer):\n",
    "    '''\n",
    "    This class creates is for an instance of Decoder layer. This inherits the properties of `tf.keras.layers.Layer`.\n",
    "    We are going to create the constructor and the call function which will contain the Functional API structure\n",
    "    of computing the values which is the input.\n",
    "    \n",
    "    This layer is refered from the above mentioned paper.\n",
    "    '''\n",
    "    \n",
    "    def __init__(self, units, num_layers, dropout_rate, **kwargs):\n",
    "        '''\n",
    "        Constructor of the decoder class which helps initialize the variables and create the layer\n",
    "        Parameters:\n",
    "            units: number of neurons in the LSTM layer\n",
    "            num_layers: number of layers expected in the decoder layer\n",
    "            embedding_size: to set the input value of the layer\n",
    "            dropout_rate: to set the dropout rate of the LSTM layer\n",
    "            \n",
    "        Returns:\n",
    "            An instance of the decoder class which will act as a layer\n",
    "        '''\n",
    "        \n",
    "        # calling the super function\n",
    "        super().__init__(**kwargs)\n",
    "        \n",
    "        # initialising all the variables\n",
    "        self.units = units\n",
    "        self.num_layers = num_layers\n",
    "        self.dropout_rate = dropout_rate\n",
    "        self.encoder_layer = encoder_layer\n",
    "        \n",
    "        # initialising the layers\n",
    "        self.lstm_cell = tf.keras.layers.LSTMCell(units= self.units,\n",
    "                                                  name= 'decoder_lstm_cell')\n",
    "        self.lstm_layer = tf.keras.layers.LSTM(units= self.units,\n",
    "                                              return_sequences=True,\n",
    "                                               return_state=True,\n",
    "                                              name= 'decoder_lstm_layer')\n",
    "    \n",
    "    def call(self, inputs, context):\n",
    "        print(inputs.shape)\n",
    "        x, h, c = self.lstm_layer(inputs, initial_state= context)\n",
    "        # print(x.shape, h.shape, c.shape)\n",
    "        output = []\n",
    "        for batch in x:\n",
    "            out, h = self.lstm_cell(batch, states= h)\n",
    "            output.append([out])\n",
    "        \n",
    "        return output\n",
    "        \n",
    "        "
   ],
   "metadata": {
    "collapsed": false,
    "ExecuteTime": {
     "end_time": "2024-04-05T20:56:24.392080Z",
     "start_time": "2024-04-05T20:56:24.387944Z"
    }
   },
   "id": "1d1819ef306c596e",
   "execution_count": 98
  },
  {
   "cell_type": "code",
   "outputs": [
    {
     "data": {
      "text/plain": "{'name': 'decoder_26',\n 'units': 640,\n 'num_layers': 8,\n 'dropout_rate': 0.5,\n 'trainable': True,\n 'dtype': 'float32'}"
     },
     "execution_count": 99,
     "metadata": {},
     "output_type": "execute_result"
    }
   ],
   "source": [
    "decoder_layer = Decoder(units= 640,\n",
    "                        num_layers= 8,\n",
    "                        dropout_rate= 0.5)\n",
    "decoder_layer.get_config()"
   ],
   "metadata": {
    "collapsed": false,
    "ExecuteTime": {
     "end_time": "2024-04-05T20:56:26.677007Z",
     "start_time": "2024-04-05T20:56:26.669085Z"
    }
   },
   "id": "5c3a70ce760054dc",
   "execution_count": 99
  },
  {
   "cell_type": "code",
   "outputs": [
    {
     "name": "stdout",
     "output_type": "stream",
     "text": [
      "(10, 128, 5760)\n",
      "10 128 640\n"
     ]
    }
   ],
   "source": [
    "output = decoder_layer(encoder_output, context= [memory_state, carry_state])\n",
    "print(len(output), len(output[0][0]), len(output[0][0][0]))"
   ],
   "metadata": {
    "collapsed": false,
    "ExecuteTime": {
     "end_time": "2024-04-05T20:56:57.005557Z",
     "start_time": "2024-04-05T20:56:56.503425Z"
    }
   },
   "id": "1b93f07282625874",
   "execution_count": 101
  },
  {
   "cell_type": "markdown",
   "source": [
    "### Assemble Components into Model"
   ],
   "metadata": {
    "collapsed": false
   },
   "id": "7919e25a54c6e23a"
  },
  {
   "cell_type": "markdown",
   "source": [
    "### Create Data Pipeline"
   ],
   "metadata": {
    "collapsed": false
   },
   "id": "2266b292296397b6"
  },
  {
   "cell_type": "markdown",
   "source": [
    "### Fit the model"
   ],
   "metadata": {
    "collapsed": false
   },
   "id": "f0179c38bd36ef20"
  },
  {
   "cell_type": "markdown",
   "source": [
    "### Evaluate model Performance"
   ],
   "metadata": {
    "collapsed": false
   },
   "id": "a9f9847f3fcba8cd"
  },
  {
   "cell_type": "markdown",
   "source": [
    "### Making Predictions using the best model trained"
   ],
   "metadata": {
    "collapsed": false
   },
   "id": "b7b2bd1cb7fbf1dc"
  }
 ],
 "metadata": {
  "kernelspec": {
   "display_name": "Python 3",
   "language": "python",
   "name": "python3"
  },
  "language_info": {
   "codemirror_mode": {
    "name": "ipython",
    "version": 2
   },
   "file_extension": ".py",
   "mimetype": "text/x-python",
   "name": "python",
   "nbconvert_exporter": "python",
   "pygments_lexer": "ipython2",
   "version": "2.7.6"
  }
 },
 "nbformat": 4,
 "nbformat_minor": 5
}
