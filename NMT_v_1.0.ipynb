{
 "cells": [
  {
   "cell_type": "markdown",
   "source": [
    "# Creating a mind map before getting into action\n",
    "\n",
    "So after coming across from the mistakes before this notebook, let's plan what all things we need to do so that we perform the crucial steps needed for the NMT to make with all the proper components and the preprocessed data.\n",
    "\n",
    "**Data Preprocessing Actions**:\n",
    "1. Shift the target texts.\n",
    "2. Pad the text with proper annotations.\n",
    "\n",
    "**Components of the model**:\n",
    "1. Create *text vectors* of both source and target language separately using TensorFlow `TextVectorization` layer.\n",
    "2. Create *embedding layers* of both source and target language separately using TensorFlow `Embedding` layer.\n",
    "3. Create a class known *Encoder* which inherits the properties of TensorFlow class `Layer`. In the sub-class method of creating a layer, we are going to develop the encoder architecture of the NMT. (The architecture will be discussed while we are developing the layer.)\n",
    "4. Create a class known as *Decoder* which inherits the properties of TensorFlow class `Layer`. In this sub-class method of creating a layer, we are going to develop the decoder architecture of the NMT. (The architecture will be discussed while we are developing the layer.)\n",
    "5. After creating all the components, we are going to create a class called *EncoderDecoder* which will inherit from TensorFlow class `Model`. In this class we will assemble all of the layers that we have prepared in the above steps and then create a custom call function which will allow us to train the decoder layer as we expect it to do.\n",
    "6. Create an instance of the *EncoderDecoder* class with all the parameters passed in its constructor and compile the model with `tf.keras.losses.SparseCategoricalCrossentropy()` as loss function and `tf.keras.optimizers.RMSprop()` as the optimizer.\n",
    "7. We will then create the *train_dataset* and *valid_dataset* using TensorFlow `tf.data` API for better performance of the model training.\n",
    "8. We will fit the model with the training data with 5 epochs and *callbacks* such as `tf.keras.callbacks.ModelCheckPoint`, `tf.keras.callbacks.EarlyStopping`, `tf.keras.callbacks.ReduceLROnPlateau` and the validation dataset.\n",
    "9. After training the model we will evaluate the model using different metrics system and predict with an unseen data and observe the quality of the prediction."
   ],
   "metadata": {
    "collapsed": false
   },
   "id": "1e240db960ed8729"
  }
 ],
 "metadata": {
  "kernelspec": {
   "display_name": "Python 3",
   "language": "python",
   "name": "python3"
  },
  "language_info": {
   "codemirror_mode": {
    "name": "ipython",
    "version": 2
   },
   "file_extension": ".py",
   "mimetype": "text/x-python",
   "name": "python",
   "nbconvert_exporter": "python",
   "pygments_lexer": "ipython2",
   "version": "2.7.6"
  }
 },
 "nbformat": 4,
 "nbformat_minor": 5
}
