{
 "cells": [
  {
   "cell_type": "markdown",
   "source": [
    "# Creating a mind map before getting into action\n",
    "\n",
    "So after coming across from the mistakes before this notebook, let's plan what all things we need to do so that we perform the crucial steps needed for the NMT to make with all the proper components and the preprocessed data.\n",
    "\n",
    "**Data Preprocessing Actions**:\n",
    "1. Shift the target texts.\n",
    "2. Pad the text with proper annotations.\n",
    "\n",
    "**Components of the model**:\n",
    "1. Create *text vectors* of both source and target language separately using TensorFlow `TextVectorization` layer.\n",
    "2. Create *embedding layers* of both source and target language separately using TensorFlow `Embedding` layer.\n",
    "3. Create a class known *Encoder* which inherits the properties of TensorFlow class `Layer`. In the sub-class method of creating a layer, we are going to develop the encoder architecture of the NMT. (The architecture will be discussed while we are developing the layer.)\n",
    "4. Create a class known as *Decoder* which inherits the properties of TensorFlow class `Layer`. In this sub-class method of creating a layer, we are going to develop the decoder architecture of the NMT. (The architecture will be discussed while we are developing the layer.)\n",
    "5. After creating all the components, we are going to create a class called *EncoderDecoder* which will inherit from TensorFlow class `Model`. In this class we will assemble all of the layers that we have prepared in the above steps and then create a custom call function which will allow us to train the decoder layer as we expect it to do.\n",
    "6. Create an instance of the *EncoderDecoder* class with all the parameters passed in its constructor and compile the model with `tf.keras.losses.SparseCategoricalCrossentropy()` as loss function and `tf.keras.optimizers.RMSprop()` as the optimizer.\n",
    "7. We will then create the *train_dataset* and *valid_dataset* using TensorFlow `tf.data` API for better performance of the model training.\n",
    "8. We will fit the model with the training data with 5 epochs and *callbacks* such as `tf.keras.callbacks.ModelCheckPoint`, `tf.keras.callbacks.EarlyStopping`, `tf.keras.callbacks.ReduceLROnPlateau` and the validation dataset.\n",
    "9. After training the model we will evaluate the model using different metrics system and predict with an unseen data and observe the quality of the prediction."
   ],
   "metadata": {
    "collapsed": false
   },
   "id": "1e240db960ed8729"
  },
  {
   "cell_type": "markdown",
   "source": [
    "# Importing all the necessary libraries"
   ],
   "metadata": {
    "collapsed": false
   },
   "id": "c9430d4d813aceb5"
  },
  {
   "cell_type": "code",
   "outputs": [],
   "source": [
    "import tensorflow as tf\n",
    "import numpy as np\n",
    "import pandas as pd\n",
    "from sklearn.model_selection import train_test_split\n",
    "import matplotlib.pyplot as plt\n",
    "import os\n",
    "import tarfile\n",
    "import random"
   ],
   "metadata": {
    "collapsed": false,
    "ExecuteTime": {
     "end_time": "2024-04-05T08:55:00.887871Z",
     "start_time": "2024-04-05T08:54:56.387489Z"
    }
   },
   "id": "bfdf0bb37b8c825a",
   "execution_count": 1
  },
  {
   "cell_type": "markdown",
   "source": [
    "# Start the project\n",
    "\n",
    "As all machine learning project has two phases, this is project is no exception for it. We will first work on the *Data Preprocessing* and then *Model Development*"
   ],
   "metadata": {
    "collapsed": false
   },
   "id": "64a05be9d25b00fc"
  },
  {
   "cell_type": "markdown",
   "source": [
    "## Data Preprocessing"
   ],
   "metadata": {
    "collapsed": false
   },
   "id": "2f9de603448c9b31"
  },
  {
   "cell_type": "code",
   "outputs": [],
   "source": [
    "# Creating a constant which contains the starting path of the project so that\n",
    "START_PATH = str(os.getcwd()) + '/'\n",
    "COMP_DATA_PATH = os.path.join(START_PATH, 'wiki-titles.tgz')\n",
    "DATA_URL = 'https://www.statmt.org/wmt14/wiki-titles.tgz'\n",
    "DATA_DIR = os.path.join(START_PATH, 'wiki/hi-en/wiki-titles.hi-en')"
   ],
   "metadata": {
    "collapsed": false,
    "ExecuteTime": {
     "end_time": "2024-04-05T08:55:00.891038Z",
     "start_time": "2024-04-05T08:55:00.888827Z"
    }
   },
   "id": "e37d49d18a6631f1",
   "execution_count": 2
  },
  {
   "cell_type": "markdown",
   "source": [
    "### Loading Data"
   ],
   "metadata": {
    "collapsed": false
   },
   "id": "9eaef38bbde5b36b"
  },
  {
   "cell_type": "code",
   "outputs": [
    {
     "name": "stdout",
     "output_type": "stream",
     "text": [
      "Data already downloaded\n"
     ]
    }
   ],
   "source": [
    "if not os.path.exists(COMP_DATA_PATH):\n",
    "    print(f'Downloading data from {DATA_URL}')\n",
    "    !wget https://www.statmt.org/wmt14/wiki-titles.tgz\n",
    "else:\n",
    "    print(\"Data already downloaded\")"
   ],
   "metadata": {
    "collapsed": false,
    "ExecuteTime": {
     "end_time": "2024-04-05T08:55:00.894493Z",
     "start_time": "2024-04-05T08:55:00.891783Z"
    }
   },
   "id": "43050224ec71df74",
   "execution_count": 3
  },
  {
   "cell_type": "code",
   "outputs": [
    {
     "name": "stdout",
     "output_type": "stream",
     "text": [
      "The file exists\n"
     ]
    }
   ],
   "source": [
    "if not os.path.exists(COMP_DATA_PATH):\n",
    "    print(\"File does not exist\")\n",
    "else:\n",
    "    print(\"The file exists\")"
   ],
   "metadata": {
    "collapsed": false,
    "ExecuteTime": {
     "end_time": "2024-04-05T08:55:00.897862Z",
     "start_time": "2024-04-05T08:55:00.895933Z"
    }
   },
   "id": "5f1139795316c182",
   "execution_count": 4
  },
  {
   "cell_type": "code",
   "outputs": [
    {
     "name": "stdout",
     "output_type": "stream",
     "text": [
      "File extracted\n"
     ]
    }
   ],
   "source": [
    "with tarfile.open(COMP_DATA_PATH, 'r') as tar_ref:\n",
    "    tar_ref.extractall()\n",
    "    print(\"File extracted\")"
   ],
   "metadata": {
    "collapsed": false,
    "ExecuteTime": {
     "end_time": "2024-04-05T08:55:01.022040Z",
     "start_time": "2024-04-05T08:55:00.898562Z"
    }
   },
   "id": "a0c519a809d4a9ae",
   "execution_count": 5
  },
  {
   "cell_type": "markdown",
   "source": [
    "### Extracting data from file "
   ],
   "metadata": {
    "collapsed": false
   },
   "id": "c5f8236ca4c75de5"
  },
  {
   "cell_type": "code",
   "outputs": [],
   "source": [
    "# Extracting the lines from the file of the dataset\n",
    "with open(DATA_DIR, 'r') as f:\n",
    "    lines = f.readlines()"
   ],
   "metadata": {
    "collapsed": false,
    "ExecuteTime": {
     "end_time": "2024-04-05T08:55:01.029850Z",
     "start_time": "2024-04-05T08:55:01.022695Z"
    }
   },
   "id": "8706972bebef0f20",
   "execution_count": 6
  },
  {
   "cell_type": "code",
   "outputs": [
    {
     "data": {
      "text/plain": "(['January 0',\n  'March 0',\n  '1000',\n  '1001',\n  '1002',\n  '1003',\n  '1004',\n  '1005',\n  '1006',\n  '1007'],\n ['० जनवरी',\n  '० मार्च',\n  '१०००',\n  '१००१',\n  '१००२',\n  '१००३',\n  '१००४',\n  '१००५',\n  '१००६',\n  '१००७'],\n 32863,\n 32863)"
     },
     "execution_count": 7,
     "metadata": {},
     "output_type": "execute_result"
    }
   ],
   "source": [
    "# Splitting the data into two list of source language and target language\n",
    "src_senteces = [line.split('|||')[1][1:-1] for line in lines]\n",
    "trg_sentences = [line.split('|||')[0][:-1] for line in lines]\n",
    "src_senteces[:10], trg_sentences[:10], len(src_senteces), len(trg_sentences)"
   ],
   "metadata": {
    "collapsed": false,
    "ExecuteTime": {
     "end_time": "2024-04-05T08:55:01.046860Z",
     "start_time": "2024-04-05T08:55:01.030532Z"
    }
   },
   "id": "1878ae100a6b426f",
   "execution_count": 7
  },
  {
   "cell_type": "markdown",
   "source": [
    "### Visualise the data"
   ],
   "metadata": {
    "collapsed": false
   },
   "id": "d9c90fb2692dc8df"
  },
  {
   "cell_type": "code",
   "outputs": [
    {
     "name": "stdout",
     "output_type": "stream",
     "text": [
      "Source sentence: Jiangnan\n",
      "Target sentence: जियांगनान\n"
     ]
    }
   ],
   "source": [
    "def visualise_random_sentences(src_sent, trg_sent):    \n",
    "    random_idx = random.randint(0, len(src_sent))\n",
    "    \n",
    "    print(f\"Source sentence: {src_sent[random_idx]}\")\n",
    "    print(f\"Target sentence: {trg_sent[random_idx]}\")\n",
    "    \n",
    "visualise_random_sentences(src_sent= src_senteces,\n",
    "                    trg_sent= trg_sentences)"
   ],
   "metadata": {
    "collapsed": false,
    "ExecuteTime": {
     "end_time": "2024-04-05T08:55:01.049681Z",
     "start_time": "2024-04-05T08:55:01.047670Z"
    }
   },
   "id": "36e32e67bba57146",
   "execution_count": 8
  },
  {
   "cell_type": "markdown",
   "source": [
    "### Shift the target data with one token"
   ],
   "metadata": {
    "collapsed": false
   },
   "id": "fd558fc2e24c14d4"
  },
  {
   "cell_type": "code",
   "outputs": [
    {
     "name": "stdout",
     "output_type": "stream",
     "text": [
      "Source sentence: Nokia 1011\n",
      "Target sentence: <SOS> नोकिया १०११ <EOS>\n"
     ]
    }
   ],
   "source": [
    "trg_sentences_preprocessed = ['<SOS> ' + sentence + ' <EOS>' for sentence in trg_sentences]\n",
    "visualise_random_sentences(src_sent= src_senteces,\n",
    "                           trg_sent= trg_sentences_preprocessed)"
   ],
   "metadata": {
    "collapsed": false,
    "ExecuteTime": {
     "end_time": "2024-04-05T08:55:01.054676Z",
     "start_time": "2024-04-05T08:55:01.050202Z"
    }
   },
   "id": "9c752ba428dc9646",
   "execution_count": 9
  },
  {
   "cell_type": "code",
   "outputs": [
    {
     "name": "stdout",
     "output_type": "stream",
     "text": [
      "Max source sentence length: 13\n",
      "Max target sentence length: 17\n"
     ]
    }
   ],
   "source": [
    "# Calculate the max length of the text for each language lists\n",
    "src_word_per_sentence = [len(line.split()) for line in src_senteces]\n",
    "trg_word_per_sentence = [len(line.split()) for line in trg_sentences_preprocessed]\n",
    "\n",
    "max_src_len = max(src_word_per_sentence)\n",
    "max_trg_len = max(trg_word_per_sentence)\n",
    "\n",
    "print(f\"Max source sentence length: {max_src_len}\")\n",
    "print(f\"Max target sentence length: {max_trg_len}\")"
   ],
   "metadata": {
    "collapsed": false,
    "ExecuteTime": {
     "end_time": "2024-04-05T08:55:01.069139Z",
     "start_time": "2024-04-05T08:55:01.056697Z"
    }
   },
   "id": "86d7ec2f1690e76",
   "execution_count": 10
  },
  {
   "cell_type": "markdown",
   "source": [
    ">**Note**: Padding of the data will be done after vectorising the text data"
   ],
   "metadata": {
    "collapsed": false
   },
   "id": "2e5640df1a236aa"
  },
  {
   "cell_type": "markdown",
   "source": [
    "## Model development\n",
    "\n",
    "We have completed the data preprocessing of the data and are ready to develop the model. Let's discuss the steps we are going to take for it:\n",
    "1. Create individual components\n",
    "2. Assemble the model\n",
    "3. Create Data Pipeline\n",
    "4. Fit the model\n",
    "5. Evaluate the model\n",
    "6. Predict using the model"
   ],
   "metadata": {
    "collapsed": false
   },
   "id": "96e38c8a72bd5d08"
  },
  {
   "cell_type": "markdown",
   "source": [
    "### Creating Components\n",
    "\n",
    "Before starting with the model, first we need to create some building blocks for the Encoder Decoder archtiecture of NMT. The components that we are going to make here are:\n",
    "1. Encode layer:\n",
    "        * *Inheritance*: `tf.keras.layers.Layer`\n",
    "        * *Constructor Input*: \n",
    "        * *Call function Input*: src_sentences\n",
    "        * *Return*: Encoder output, RNN layer states\n",
    "2. Decoder layer:\n",
    "        * *Inheritance*: `tf.keras.layers.Layer`\n",
    "        * *Constructor Input*: \n",
    "        * *Call function Input*: trg_sentences_preprocessed, context, encoder_states\n",
    "        * *Return*: RNN output"
   ],
   "metadata": {
    "collapsed": false
   },
   "id": "4feaa32e6d6dc13b"
  },
  {
   "cell_type": "code",
   "outputs": [
    {
     "data": {
      "text/plain": "{'name': 'encoder_layer',\n 'units': 512,\n 'embedding_size': 128,\n 'dropout_rate': 0.5,\n 'num_layers': 8,\n 'trainable': True,\n 'dtype': 'float32'}"
     },
     "execution_count": 94,
     "metadata": {},
     "output_type": "execute_result"
    }
   ],
   "source": [
    "# Creation of Encoder layer class\n",
    "class Encoder(tf.keras.layers.Layer):\n",
    "    '''\n",
    "    This class creates a custom encoder layer based on the Google's research paper of NMT.\n",
    "    For more reference please view https://arxiv.org/pdf/1609.08144.pdf%20(7\n",
    "    \n",
    "    This class is an inheritied class from `tf.keras.layers.Layer`. In this class, we will create the constructor\n",
    "    of the encoder layer and then define the call function so that we can set the working of the encoder layer using \n",
    "    Functional API.\n",
    "    '''\n",
    "    \n",
    "    def __init__(self, units, embedding_size, dropout_rate, num_layers, **kwargs):\n",
    "        '''\n",
    "        Constructs the encoder\n",
    "        \n",
    "        Parameters:\n",
    "            units: Nuumber of neurons required per LSTM layer\n",
    "            embedding_size: to give the first layer an input shape\n",
    "            dropout_rate: to set the dropout rate\n",
    "            num_layers: to set the number of encoding layer\n",
    "        Returns:\n",
    "            An instance of Encoder class which works as the encoder described in the research paper\n",
    "        '''\n",
    "        \n",
    "        # calling the super method to initialise\n",
    "        super().__init__(**kwargs)\n",
    "        \n",
    "        # initialising all the object variables\n",
    "        self.units = units\n",
    "        self.embedding_size = embedding_size\n",
    "        self.dropout_rate = dropout_rate\n",
    "        self.num_layers = num_layers\n",
    "        \n",
    "        # initialise the layers\n",
    "        self.bi_lstm_layer = tf.keras.layers.Bidirectional(tf.keras.layers.LSTM(units= self.units // 2,\n",
    "                                                                                return_sequences=True,\n",
    "                                                                                return_state=True,\n",
    "                                                                                dropout=self.dropout_rate),\n",
    "                                                           name= 'encoder_bi_lstm_layer')\n",
    "        num1 = self.embedding_size\n",
    "        num2 = self.units\n",
    "        \n",
    "        self.lstm_recurrent_layers = []\n",
    "        for i in range(self.num_layers):\n",
    "            temp = num1 + num2\n",
    "            self.lstm_recurrent_layers.append(tf.keras.layers.LSTM(units= temp,\n",
    "                                                         return_sequences=True,\n",
    "                                                         return_state=True,\n",
    "                                                         dropout=self.dropout_rate,\n",
    "                                                         name= f'encoder_lstm_recurrent_layer_{i + 1}'))\n",
    "        self.concatenate_layer = tf.keras.layers.Concatenate(name= 'concatenate_layer')\n",
    "    \n",
    "    def call(self, inputs):\n",
    "        print(inputs.shape)\n",
    "        x, h1, c1, h2, c2 = self.bi_lstm_layer(inputs)\n",
    "        print(self.bi_lstm_layer.name, x.shape)\n",
    "        x = self.concatenate_layer([inputs, x])\n",
    "        print(self.concatenate_layer.name, x.shape)\n",
    "        encoder_memory, encoder_carry_state = None, None\n",
    "        for layer in self.lstm_recurrent_layers:\n",
    "            lstm_output, encoder_memory, encoder_carry_state = layer(x)\n",
    "            print(layer.name, lstm_output.shape)\n",
    "            x = self.concatenate_layer([x, lstm_output])\n",
    "            print(self.concatenate_layer.name, x.shape)\n",
    "        \n",
    "        return x, encoder_memory, encoder_carry_state\n",
    "    \n",
    "encoder_layer = Encoder(units= 512, \n",
    "                        embedding_size= 128,\n",
    "                        dropout_rate= 0.5,\n",
    "                        name= 'encoder_layer',\n",
    "                        num_layers= 8)\n",
    "encoder_layer.get_config()"
   ],
   "metadata": {
    "collapsed": false,
    "ExecuteTime": {
     "end_time": "2024-04-05T11:11:24.113572Z",
     "start_time": "2024-04-05T11:11:24.088335Z"
    }
   },
   "id": "cbf34e085cf398ec",
   "execution_count": 94
  },
  {
   "cell_type": "code",
   "outputs": [
    {
     "name": "stdout",
     "output_type": "stream",
     "text": [
      "(1, 10, 128)\n",
      "encoder_bi_lstm_layer (1, 10, 512)\n",
      "concatenate_layer (1, 10, 640)\n",
      "encoder_lstm_recurrent_layer_1 (1, 10, 640)\n",
      "concatenate_layer (1, 10, 1280)\n",
      "encoder_lstm_recurrent_layer_2 (1, 10, 640)\n",
      "concatenate_layer (1, 10, 1920)\n",
      "encoder_lstm_recurrent_layer_3 (1, 10, 640)\n",
      "concatenate_layer (1, 10, 2560)\n",
      "encoder_lstm_recurrent_layer_4 (1, 10, 640)\n",
      "concatenate_layer (1, 10, 3200)\n",
      "encoder_lstm_recurrent_layer_5 (1, 10, 640)\n",
      "concatenate_layer (1, 10, 3840)\n",
      "encoder_lstm_recurrent_layer_6 (1, 10, 640)\n",
      "concatenate_layer (1, 10, 4480)\n",
      "encoder_lstm_recurrent_layer_7 (1, 10, 640)\n",
      "concatenate_layer (1, 10, 5120)\n",
      "encoder_lstm_recurrent_layer_8 (1, 10, 640)\n",
      "concatenate_layer (1, 10, 5760)\n"
     ]
    }
   ],
   "source": [
    "# Checking the functionality of the layer using dummy values\n",
    "encoder_output, memory_state, carry_state = encoder_layer(tf.random.uniform(shape=(1, 10, 128)))"
   ],
   "metadata": {
    "collapsed": false,
    "ExecuteTime": {
     "end_time": "2024-04-05T11:15:33.694795Z",
     "start_time": "2024-04-05T11:15:33.538213Z"
    }
   },
   "id": "74724396ff40e996",
   "execution_count": 100
  },
  {
   "cell_type": "code",
   "outputs": [],
   "source": [
    "# Create Decoder class\n",
    "class Decoder(tf.keras.layers.Layer):\n",
    "    '''\n",
    "    This class creates is for an instance of Decoder layer. This inherits the properties of `tf.keras.layers.Layer`.\n",
    "    We are going to create the constructor and the call function which will contain the Functional API structure\n",
    "    of computing the values which is the input.\n",
    "    \n",
    "    This layer is refered from the above mentioned paper.\n",
    "    '''\n",
    "    \n",
    "    def __init__(self, units, num_layers, dropout_rate, **kwargs):\n",
    "        '''\n",
    "        Constructor of the decoder class which helps initialize the variables and create the layer\n",
    "        Parameters:\n",
    "            units: number of neurons in the LSTM layer\n",
    "            num_layers: number of layers expected in the decoder layer\n",
    "            embedding_size: to set the input value of the layer\n",
    "            dropout_rate: to set the dropout rate of the LSTM layer\n",
    "            \n",
    "        Returns:\n",
    "            An instance of the decoder class which will act as a layer\n",
    "        '''\n",
    "        \n",
    "        # calling the super function\n",
    "        super().__init__(**kwargs)\n",
    "        \n",
    "        # initialising all the variables\n",
    "        self.units = units\n",
    "        self.num_layers = num_layers\n",
    "        self.dropout_rate = dropout_rate\n",
    "        self.encoder_layer = encoder_layer\n",
    "        \n",
    "        # initialising the layers\n",
    "        self.lstm_cell = tf.keras.layers.LSTMCell(units= self.units,\n",
    "                                                  name= 'decoder_lstm_cell')\n",
    "        self.lstm_layer = tf.keras.layers.LSTM(units= self.units,\n",
    "                                              return_sequences=True,\n",
    "                                              name= 'decoder_lstm_layer')\n",
    "    \n",
    "    def call(self, inputs, context):\n",
    "        x, h, c = self.lstm_layer(inputs, initial_state= context)\n",
    "        return self.lstm_cell(x, initial_state= [h, c])\n",
    "        "
   ],
   "metadata": {
    "collapsed": false,
    "ExecuteTime": {
     "end_time": "2024-04-05T11:14:41.220911Z",
     "start_time": "2024-04-05T11:14:41.215682Z"
    }
   },
   "id": "1d1819ef306c596e",
   "execution_count": 98
  },
  {
   "cell_type": "code",
   "outputs": [
    {
     "data": {
      "text/plain": "{'name': 'decoder_1',\n 'units': 512,\n 'num_layers': 8,\n 'dropout_rate': 0.5,\n 'trainable': True,\n 'dtype': 'float32'}"
     },
     "execution_count": 99,
     "metadata": {},
     "output_type": "execute_result"
    }
   ],
   "source": [
    "decoder_layer = Decoder(units= 512,\n",
    "                        num_layers= 8,\n",
    "                        dropout_rate= 0.5)\n",
    "decoder_layer.get_config()"
   ],
   "metadata": {
    "collapsed": false,
    "ExecuteTime": {
     "end_time": "2024-04-05T11:14:42.790294Z",
     "start_time": "2024-04-05T11:14:42.782446Z"
    }
   },
   "id": "5c3a70ce760054dc",
   "execution_count": 99
  },
  {
   "cell_type": "code",
   "outputs": [
    {
     "name": "stderr",
     "output_type": "stream",
     "text": [
      "/Users/klsharma22/PycharmProjects/EncoderDecoderExp/venv/lib/python3.10/site-packages/keras/src/layers/layer.py:1248: UserWarning: Layer 'decoder_1' looks like it has unbuilt state, but Keras is not able to trace the layer `call()` in order to build it automatically. Possible causes:\n",
      "1. The `call()` method of your layer may be crashing. Try to `__call__()` the layer eagerly on some test input first to see if it works. E.g. `x = np.random.random((3, 4)); y = layer(x)`\n",
      "2. If the `call()` method is correct, then you may need to implement the `def build(self, input_shape)` method on your layer. It should create all variables used by the layer (e.g. by calling `layer.build()` on all its children layers).\n",
      "Exception encountered: ''Exception encountered when calling LSTMCell.call().\n",
      "\n",
      "\u001B[1mDimensions must be equal, but are 640 and 512 for '{{node decoder_lstm_layer_1/lstm_cell_1/MatMul_1}} = MatMul[T=DT_FLOAT, grad_a=false, grad_b=false, transpose_a=false, transpose_b=false](decoder_lstm_layer_1/lstm_cell_1/MatMul_1/a, decoder_lstm_layer_1/lstm_cell_1/Cast_1/mul_1)' with input shapes: [1,640], [512,2048].\u001B[0m\n",
      "\n",
      "Arguments received by LSTMCell.call():\n",
      "  • inputs=tf.Tensor(shape=(1, 5760), dtype=float32)\n",
      "  • states=('tf.Tensor(shape=(1, 640), dtype=float32)', 'tf.Tensor(shape=(1, 640), dtype=float32)')\n",
      "  • training=False''\n",
      "  warnings.warn(\n",
      "/Users/klsharma22/PycharmProjects/EncoderDecoderExp/venv/lib/python3.10/site-packages/keras/src/layers/layer.py:357: UserWarning: `build()` was called on layer 'decoder_1', however the layer does not have a `build()` method implemented and it looks like it has unbuilt state. This will cause the layer to be marked as built, despite not being actually built, which may cause failures down the line. Make sure to implement a proper `build()` method.\n",
      "  warnings.warn(\n",
      "2024-04-05 16:46:07.262732: W tensorflow/core/framework/local_rendezvous.cc:404] Local rendezvous is aborting with status: INVALID_ARGUMENT: Matrix size-incompatible: In[0]: [1,640], In[1]: [512,2048]\n"
     ]
    },
    {
     "ename": "InvalidArgumentError",
     "evalue": "Exception encountered when calling LSTMCell.call().\n\n\u001B[1m{{function_node __wrapped__MatMul_device_/job:localhost/replica:0/task:0/device:CPU:0}} Matrix size-incompatible: In[0]: [1,640], In[1]: [512,2048] [Op:MatMul] name: \u001B[0m\n\nArguments received by LSTMCell.call():\n  • inputs=tf.Tensor(shape=(1, 5760), dtype=float32)\n  • states=('tf.Tensor(shape=(1, 640), dtype=float32)', 'tf.Tensor(shape=(1, 640), dtype=float32)')\n  • training=False",
     "output_type": "error",
     "traceback": [
      "\u001B[0;31m---------------------------------------------------------------------------\u001B[0m",
      "\u001B[0;31mInvalidArgumentError\u001B[0m                      Traceback (most recent call last)",
      "Cell \u001B[0;32mIn[102], line 1\u001B[0m\n\u001B[0;32m----> 1\u001B[0m \u001B[43mdecoder_layer\u001B[49m\u001B[43m(\u001B[49m\u001B[43mencoder_output\u001B[49m\u001B[43m,\u001B[49m\u001B[43m \u001B[49m\u001B[43mcontext\u001B[49m\u001B[38;5;241;43m=\u001B[39;49m\u001B[43m \u001B[49m\u001B[43m[\u001B[49m\u001B[43mmemory_state\u001B[49m\u001B[43m,\u001B[49m\u001B[43m \u001B[49m\u001B[43mcarry_state\u001B[49m\u001B[43m]\u001B[49m\u001B[43m)\u001B[49m\n",
      "File \u001B[0;32m~/PycharmProjects/EncoderDecoderExp/venv/lib/python3.10/site-packages/keras/src/utils/traceback_utils.py:122\u001B[0m, in \u001B[0;36mfilter_traceback.<locals>.error_handler\u001B[0;34m(*args, **kwargs)\u001B[0m\n\u001B[1;32m    119\u001B[0m     filtered_tb \u001B[38;5;241m=\u001B[39m _process_traceback_frames(e\u001B[38;5;241m.\u001B[39m__traceback__)\n\u001B[1;32m    120\u001B[0m     \u001B[38;5;66;03m# To get the full stack trace, call:\u001B[39;00m\n\u001B[1;32m    121\u001B[0m     \u001B[38;5;66;03m# `keras.config.disable_traceback_filtering()`\u001B[39;00m\n\u001B[0;32m--> 122\u001B[0m     \u001B[38;5;28;01mraise\u001B[39;00m e\u001B[38;5;241m.\u001B[39mwith_traceback(filtered_tb) \u001B[38;5;28;01mfrom\u001B[39;00m \u001B[38;5;28;01mNone\u001B[39;00m\n\u001B[1;32m    123\u001B[0m \u001B[38;5;28;01mfinally\u001B[39;00m:\n\u001B[1;32m    124\u001B[0m     \u001B[38;5;28;01mdel\u001B[39;00m filtered_tb\n",
      "Cell \u001B[0;32mIn[98], line 41\u001B[0m, in \u001B[0;36mDecoder.call\u001B[0;34m(self, inputs, context)\u001B[0m\n\u001B[1;32m     40\u001B[0m \u001B[38;5;28;01mdef\u001B[39;00m \u001B[38;5;21mcall\u001B[39m(\u001B[38;5;28mself\u001B[39m, inputs, context):\n\u001B[0;32m---> 41\u001B[0m     x, h, c \u001B[38;5;241m=\u001B[39m \u001B[38;5;28;43mself\u001B[39;49m\u001B[38;5;241;43m.\u001B[39;49m\u001B[43mlstm_layer\u001B[49m\u001B[43m(\u001B[49m\u001B[43minputs\u001B[49m\u001B[43m,\u001B[49m\u001B[43m \u001B[49m\u001B[43minitial_state\u001B[49m\u001B[38;5;241;43m=\u001B[39;49m\u001B[43m \u001B[49m\u001B[43mcontext\u001B[49m\u001B[43m)\u001B[49m\n\u001B[1;32m     42\u001B[0m     \u001B[38;5;28;01mreturn\u001B[39;00m \u001B[38;5;28mself\u001B[39m\u001B[38;5;241m.\u001B[39mlstm_cell(x, initial_state\u001B[38;5;241m=\u001B[39m [h, c])\n",
      "\u001B[0;31mInvalidArgumentError\u001B[0m: Exception encountered when calling LSTMCell.call().\n\n\u001B[1m{{function_node __wrapped__MatMul_device_/job:localhost/replica:0/task:0/device:CPU:0}} Matrix size-incompatible: In[0]: [1,640], In[1]: [512,2048] [Op:MatMul] name: \u001B[0m\n\nArguments received by LSTMCell.call():\n  • inputs=tf.Tensor(shape=(1, 5760), dtype=float32)\n  • states=('tf.Tensor(shape=(1, 640), dtype=float32)', 'tf.Tensor(shape=(1, 640), dtype=float32)')\n  • training=False"
     ]
    }
   ],
   "source": [
    "decoder_layer(encoder_output, context= [memory_state, carry_state])"
   ],
   "metadata": {
    "collapsed": false,
    "ExecuteTime": {
     "end_time": "2024-04-05T11:16:07.279249Z",
     "start_time": "2024-04-05T11:16:07.162135Z"
    }
   },
   "id": "1b93f07282625874",
   "execution_count": 102
  },
  {
   "cell_type": "markdown",
   "source": [
    "### Assemble Components into Model"
   ],
   "metadata": {
    "collapsed": false
   },
   "id": "7919e25a54c6e23a"
  },
  {
   "cell_type": "markdown",
   "source": [
    "### Create Data Pipeline"
   ],
   "metadata": {
    "collapsed": false
   },
   "id": "2266b292296397b6"
  },
  {
   "cell_type": "markdown",
   "source": [
    "### Fit the model"
   ],
   "metadata": {
    "collapsed": false
   },
   "id": "f0179c38bd36ef20"
  },
  {
   "cell_type": "markdown",
   "source": [
    "### Evaluate model Performance"
   ],
   "metadata": {
    "collapsed": false
   },
   "id": "a9f9847f3fcba8cd"
  },
  {
   "cell_type": "markdown",
   "source": [
    "### Making Predictions using the best model trained"
   ],
   "metadata": {
    "collapsed": false
   },
   "id": "b7b2bd1cb7fbf1dc"
  }
 ],
 "metadata": {
  "kernelspec": {
   "display_name": "Python 3",
   "language": "python",
   "name": "python3"
  },
  "language_info": {
   "codemirror_mode": {
    "name": "ipython",
    "version": 2
   },
   "file_extension": ".py",
   "mimetype": "text/x-python",
   "name": "python",
   "nbconvert_exporter": "python",
   "pygments_lexer": "ipython2",
   "version": "2.7.6"
  }
 },
 "nbformat": 4,
 "nbformat_minor": 5
}
